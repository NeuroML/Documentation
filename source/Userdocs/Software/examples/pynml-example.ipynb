{
 "cells": [
  {
   "cell_type": "markdown",
   "metadata": {},
   "source": [
    "# PyNeuroML: example 1\n",
    "\n",
    "This is an example PyNeuroML Jupyter Notebook."
   ]
  },
  {
   "cell_type": "code",
   "execution_count": 1,
   "metadata": {},
   "outputs": [
    {
     "name": "stdout",
     "output_type": "stream",
     "text": [
      "Hello neuroml world!\n",
      "pyNeuroML >>> Converting -60.0 mV to V: -0.06 (-0.06 in SI units)\n",
      "  Converted -60 mV -> -0.06 V (expecting: -0.06)\n",
      "pyNeuroML >>> Converting 0.01 V to mV: 10.0 (0.01 in SI units)\n",
      "  Converted 0.01 V -> 10.0 mV (expecting: 10)\n",
      "pyNeuroML >>> Converting 120.0 S_per_cm2 to mS_per_cm2: 120000.0 (1200000.0 in SI units)\n",
      "  Converted 120 S_per_cm2 -> 120000.0 mS_per_cm2 (expecting: 120000)\n",
      "pyNeuroML >>> Converting -40.0 degC to K: 233.14999999999998 (233.14999999999998 in SI units)\n",
      "  Converted -40 degC -> 233.14999999999998 K (expecting: 233.15)\n",
      "pyNeuroML >>> Converting 400.0 K to degC: 126.85000000000002 (400.0 in SI units)\n",
      "  Converted 400 K -> 126.85000000000002 degC (expecting: 126.85)\n",
      "pyNeuroML >>> Converting 2.0 hour to s: 7200.0 (7200.0 in SI units)\n",
      "  Converted 2 hour -> 7200.0 s (expecting: 7200)\n",
      "pyNeuroML >>> Converting 50.0 min to hour: 0.8333333333333334 (3000.0 in SI units)\n",
      "  Converted 50 min -> 0.8333333333333334 hour (expecting: 0.833333333333)\n",
      "Correctly caught exception: Cannot convert 400 K to mV. Dimensions of units (temperature/voltage) do not match!\n"
     ]
    }
   ],
   "source": [
    "from pyneuroml import pynml\n",
    "\n",
    "print(\"Hello neuroml world!\")\n",
    "\n",
    "def test_conversion(nml2_quantity, unit, expected, should_fail=False):\n",
    "    \n",
    "    try:\n",
    "        val = pynml.convert_to_units(nml2_quantity, unit, True)\n",
    "        print('  Converted %s -> %s %s (expecting: %s)'%(nml2_quantity, val, unit,expected))\n",
    "        assert abs(val/expected - 1) < 1e-12\n",
    "    except Exception as e:\n",
    "        assert should_fail\n",
    "        print(\"Correctly caught exception: %s\"%e)\n",
    "    \n",
    "\n",
    "test_conversion('-60 mV','V',-0.06)\n",
    "test_conversion('0.01 V','mV',10)\n",
    "test_conversion('120 S_per_cm2','mS_per_cm2',120000)\n",
    "test_conversion('-40 degC','K',233.15)\n",
    "test_conversion('400 K','degC',126.85)\n",
    "test_conversion('2 hour','s',7200)\n",
    "test_conversion('50 min','hour',0.833333333333)\n",
    "test_conversion('400 K','mV',111,True)"
   ]
  }
 ],
 "metadata": {
  "kernelspec": {
   "display_name": "Python 3",
   "language": "python",
   "name": "python3"
  },
  "language_info": {
   "codemirror_mode": {
    "name": "ipython",
    "version": 3
   },
   "file_extension": ".py",
   "mimetype": "text/x-python",
   "name": "python",
   "nbconvert_exporter": "python",
   "pygments_lexer": "ipython3",
   "version": "3.9.0"
  }
 },
 "nbformat": 4,
 "nbformat_minor": 4
}
