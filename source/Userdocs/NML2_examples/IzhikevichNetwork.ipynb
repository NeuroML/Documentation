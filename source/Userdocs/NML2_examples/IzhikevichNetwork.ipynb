{
 "cells": [
  {
   "cell_type": "markdown",
   "metadata": {},
   "source": [
    "# Interactive two population network example\n",
    "\n",
    "To run this interactive Jupyter Notebook, please click on the rocket icon 🚀 in the top panel. For more information, please see {ref}`how to use this documentation <userdocs:usage:jupyterbooks>`. Please uncomment the line below if you use the Google Colab. (It does not include these packages by default)."
   ]
  },
  {
   "cell_type": "code",
   "execution_count": 1,
   "metadata": {},
   "outputs": [],
   "source": [
    "#%pip install pyneuroml neuromllite NEURON"
   ]
  },
  {
   "cell_type": "code",
   "execution_count": 2,
   "metadata": {},
   "outputs": [],
   "source": [
    "#!/usr/bin/env python3\n",
    "\"\"\"\n",
    "Create a simple network with two populations.\n",
    "\"\"\"\n",
    "\n",
    "import random\n",
    "import numpy as np\n",
    "\n",
    "from neuroml.utils import component_factory\n",
    "from pyneuroml import pynml\n",
    "from pyneuroml.lems import LEMSSimulation\n",
    "import neuroml.writers as writers"
   ]
  },
  {
   "cell_type": "markdown",
   "metadata": {},
   "source": [
    "## Declaring the NeuroML model"
   ]
  },
  {
   "cell_type": "markdown",
   "metadata": {},
   "source": [
    "### Create a NeuroML document"
   ]
  },
  {
   "cell_type": "code",
   "execution_count": 3,
   "metadata": {},
   "outputs": [],
   "source": [
    "nml_doc = component_factory(\"NeuroMLDocument\", id=\"IzNet\")"
   ]
  },
  {
   "cell_type": "markdown",
   "metadata": {},
   "source": [
    "### Declare the Izhikevich cell and add it to the model document"
   ]
  },
  {
   "cell_type": "code",
   "execution_count": 4,
   "metadata": {},
   "outputs": [
    {
     "name": "stdout",
     "output_type": "stream",
     "text": [
      "Izhikevich2007Cell -- Cell based on the modified Izhikevich model in Izhikevich 2007, Dynamical systems in neuroscience, MIT Press\n",
      "\n",
      "Please see the NeuroML standard schema documentation at https://docs.neuroml.org/Userdocs/NeuroMLv2.html for more information.\n",
      "\n",
      "Valid members for Izhikevich2007Cell are:\n",
      "* a (class: Nml2Quantity_pertime, Required)\n",
      "\t* Contents ('ids'/<objects>): 0.03per_ms\n",
      "\n",
      "* C (class: Nml2Quantity_capacitance, Required)\n",
      "\t* Contents ('ids'/<objects>): 100pF\n",
      "\n",
      "* annotation (class: Annotation, Optional)\n",
      "* b (class: Nml2Quantity_conductance, Required)\n",
      "\t* Contents ('ids'/<objects>): -2nS\n",
      "\n",
      "* metaid (class: MetaId, Optional)\n",
      "* c (class: Nml2Quantity_voltage, Required)\n",
      "\t* Contents ('ids'/<objects>): -50.0mV\n",
      "\n",
      "* d (class: Nml2Quantity_current, Required)\n",
      "\t* Contents ('ids'/<objects>): 100pA\n",
      "\n",
      "* neuro_lex_id (class: NeuroLexId, Optional)\n",
      "* v0 (class: Nml2Quantity_voltage, Required)\n",
      "\t* Contents ('ids'/<objects>): -60mV\n",
      "\n",
      "* properties (class: Property, Optional)\n",
      "* k (class: Nml2Quantity_conductancePerVoltage, Required)\n",
      "\t* Contents ('ids'/<objects>): 0.7nS_per_mV\n",
      "\n",
      "* notes (class: xs:string, Optional)\n",
      "* vr (class: Nml2Quantity_voltage, Required)\n",
      "\t* Contents ('ids'/<objects>): -60mV\n",
      "\n",
      "* vt (class: Nml2Quantity_voltage, Required)\n",
      "\t* Contents ('ids'/<objects>): -40mV\n",
      "\n",
      "* vpeak (class: Nml2Quantity_voltage, Required)\n",
      "\t* Contents ('ids'/<objects>): 35mV\n",
      "\n",
      "* id (class: NmlId, Required)\n",
      "\t* Contents ('ids'/<objects>): iz2007RS0\n",
      "\n",
      "\n"
     ]
    },
    {
     "data": {
      "text/plain": [
       "\"Izhikevich2007Cell -- Cell based on the modified Izhikevich model in Izhikevich 2007, Dynamical systems in neuroscience, MIT Press\\n\\nPlease see the NeuroML standard schema documentation at https://docs.neuroml.org/Userdocs/NeuroMLv2.html for more information.\\n\\nValid members for Izhikevich2007Cell are:\\n* a (class: Nml2Quantity_pertime, Required)\\n\\t* Contents ('ids'/<objects>): 0.03per_ms\\n\\n* C (class: Nml2Quantity_capacitance, Required)\\n\\t* Contents ('ids'/<objects>): 100pF\\n\\n* annotation (class: Annotation, Optional)\\n* b (class: Nml2Quantity_conductance, Required)\\n\\t* Contents ('ids'/<objects>): -2nS\\n\\n* metaid (class: MetaId, Optional)\\n* c (class: Nml2Quantity_voltage, Required)\\n\\t* Contents ('ids'/<objects>): -50.0mV\\n\\n* d (class: Nml2Quantity_current, Required)\\n\\t* Contents ('ids'/<objects>): 100pA\\n\\n* neuro_lex_id (class: NeuroLexId, Optional)\\n* v0 (class: Nml2Quantity_voltage, Required)\\n\\t* Contents ('ids'/<objects>): -60mV\\n\\n* properties (class: Property, Optional)\\n* k (class: Nml2Quantity_conductancePerVoltage, Required)\\n\\t* Contents ('ids'/<objects>): 0.7nS_per_mV\\n\\n* notes (class: xs:string, Optional)\\n* vr (class: Nml2Quantity_voltage, Required)\\n\\t* Contents ('ids'/<objects>): -60mV\\n\\n* vt (class: Nml2Quantity_voltage, Required)\\n\\t* Contents ('ids'/<objects>): -40mV\\n\\n* vpeak (class: Nml2Quantity_voltage, Required)\\n\\t* Contents ('ids'/<objects>): 35mV\\n\\n* id (class: NmlId, Required)\\n\\t* Contents ('ids'/<objects>): iz2007RS0\\n\\n\""
      ]
     },
     "execution_count": 4,
     "metadata": {},
     "output_type": "execute_result"
    }
   ],
   "source": [
    "iz0 = nml_doc.add(\n",
    "    \"Izhikevich2007Cell\",\n",
    "    id=\"iz2007RS0\",\n",
    "    v0=\"-60mV\",\n",
    "    C=\"100pF\",\n",
    "    k=\"0.7nS_per_mV\",\n",
    "    vr=\"-60mV\",\n",
    "    vt=\"-40mV\",\n",
    "    vpeak=\"35mV\",\n",
    "    a=\"0.03per_ms\",\n",
    "    b=\"-2nS\",\n",
    "    c=\"-50.0mV\",\n",
    "    d=\"100pA\",\n",
    ")\n",
    "# Inspect the component, also show all members:\n",
    "iz0.info(True)"
   ]
  },
  {
   "cell_type": "markdown",
   "metadata": {},
   "source": [
    "### Declare the Synapse and add it to the model document"
   ]
  },
  {
   "cell_type": "code",
   "execution_count": 5,
   "metadata": {},
   "outputs": [],
   "source": [
    "syn0 = nml_doc.add(\n",
    "    \"ExpOneSynapse\", id=\"syn0\", gbase=\"65nS\", erev=\"0mV\", tau_decay=\"3ms\"\n",
    ")"
   ]
  },
  {
   "cell_type": "code",
   "execution_count": 6,
   "metadata": {},
   "outputs": [
    {
     "name": "stdout",
     "output_type": "stream",
     "text": [
      "Please see the NeuroML standard schema documentation at https://docs.neuroml.org/Userdocs/NeuroMLv2.html for more information.\n",
      "\n",
      "Valid members for NeuroMLDocument are:\n",
      "* compound_inputs (class: CompoundInput, Optional)\n",
      "* compound_input_dls (class: CompoundInputDL, Optional)\n",
      "* includes (class: IncludeType, Optional)\n",
      "* voltage_clamps (class: VoltageClamp, Optional)\n",
      "* extracellular_properties (class: ExtracellularProperties, Optional)\n",
      "* voltage_clamp_triples (class: VoltageClampTriple, Optional)\n",
      "* intracellular_properties (class: IntracellularProperties, Optional)\n",
      "* spike_arrays (class: SpikeArray, Optional)\n",
      "* morphology (class: Morphology, Optional)\n",
      "* timed_synaptic_inputs (class: TimedSynapticInput, Optional)\n",
      "* ion_channel (class: IonChannel, Optional)\n",
      "* spike_generators (class: SpikeGenerator, Optional)\n",
      "* ion_channel_hhs (class: IonChannelHH, Optional)\n",
      "* spike_generator_randoms (class: SpikeGeneratorRandom, Optional)\n",
      "* ion_channel_v_shifts (class: IonChannelVShift, Optional)\n",
      "* spike_generator_poissons (class: SpikeGeneratorPoisson, Optional)\n",
      "* ion_channel_kses (class: IonChannelKS, Optional)\n",
      "* spike_generator_ref_poissons (class: SpikeGeneratorRefPoisson, Optional)\n",
      "* decaying_pool_concentration_models (class: DecayingPoolConcentrationModel, Optional)\n",
      "* poisson_firing_synapses (class: PoissonFiringSynapse, Optional)\n",
      "* fixed_factor_concentration_models (class: FixedFactorConcentrationModel, Optional)\n",
      "* transient_poisson_firing_synapses (class: TransientPoissonFiringSynapse, Optional)\n",
      "* alpha_current_synapses (class: AlphaCurrentSynapse, Optional)\n",
      "* IF_curr_alpha (class: IF_curr_alpha, Optional)\n",
      "* alpha_synapses (class: AlphaSynapse, Optional)\n",
      "* IF_curr_exp (class: IF_curr_exp, Optional)\n",
      "* exp_one_synapses (class: ExpOneSynapse, Optional)\n",
      "\t* Contents ('ids'/<objects>): ['syn0']\n",
      "\n",
      "* IF_cond_alpha (class: IF_cond_alpha, Optional)\n",
      "* exp_two_synapses (class: ExpTwoSynapse, Optional)\n",
      "* IF_cond_exp (class: IF_cond_exp, Optional)\n",
      "* exp_three_synapses (class: ExpThreeSynapse, Optional)\n",
      "* EIF_cond_exp_isfa_ista (class: EIF_cond_exp_isfa_ista, Optional)\n",
      "* blocking_plastic_synapses (class: BlockingPlasticSynapse, Optional)\n",
      "* EIF_cond_alpha_isfa_ista (class: EIF_cond_alpha_isfa_ista, Optional)\n",
      "* double_synapses (class: DoubleSynapse, Optional)\n",
      "* HH_cond_exp (class: HH_cond_exp, Optional)\n",
      "* gap_junctions (class: GapJunction, Optional)\n",
      "* exp_cond_synapses (class: ExpCondSynapse, Optional)\n",
      "* silent_synapses (class: SilentSynapse, Optional)\n",
      "* alpha_cond_synapses (class: AlphaCondSynapse, Optional)\n",
      "* linear_graded_synapses (class: LinearGradedSynapse, Optional)\n",
      "* exp_curr_synapses (class: ExpCurrSynapse, Optional)\n",
      "* graded_synapses (class: GradedSynapse, Optional)\n",
      "* alpha_curr_synapses (class: AlphaCurrSynapse, Optional)\n",
      "* annotation (class: Annotation, Optional)\n",
      "* biophysical_properties (class: BiophysicalProperties, Optional)\n",
      "* SpikeSourcePoisson (class: SpikeSourcePoisson, Optional)\n",
      "* cells (class: Cell, Optional)\n",
      "* networks (class: Network, Optional)\n",
      "* cell2_ca_poolses (class: Cell2CaPools, Optional)\n",
      "* ComponentType (class: ComponentType, Optional)\n",
      "* base_cells (class: BaseCell, Optional)\n",
      "* iaf_tau_cells (class: IafTauCell, Optional)\n",
      "* properties (class: Property, Optional)\n",
      "* iaf_tau_ref_cells (class: IafTauRefCell, Optional)\n",
      "* notes (class: xs:string, Optional)\n",
      "* iaf_cells (class: IafCell, Optional)\n",
      "* metaid (class: MetaId, Optional)\n",
      "* iaf_ref_cells (class: IafRefCell, Optional)\n",
      "* izhikevich_cells (class: IzhikevichCell, Optional)\n",
      "* izhikevich2007_cells (class: Izhikevich2007Cell, Optional)\n",
      "\t* Contents ('ids'/<objects>): ['iz2007RS0']\n",
      "\n",
      "* ad_ex_ia_f_cells (class: AdExIaFCell, Optional)\n",
      "* fitz_hugh_nagumo_cells (class: FitzHughNagumoCell, Optional)\n",
      "* fitz_hugh_nagumo1969_cells (class: FitzHughNagumo1969Cell, Optional)\n",
      "* pinsky_rinzel_ca3_cells (class: PinskyRinzelCA3Cell, Optional)\n",
      "* pulse_generators (class: PulseGenerator, Optional)\n",
      "* pulse_generator_dls (class: PulseGeneratorDL, Optional)\n",
      "* sine_generators (class: SineGenerator, Optional)\n",
      "* sine_generator_dls (class: SineGeneratorDL, Optional)\n",
      "* ramp_generators (class: RampGenerator, Optional)\n",
      "* ramp_generator_dls (class: RampGeneratorDL, Optional)\n",
      "* id (class: NmlId, Required)\n",
      "\t* Contents ('ids'/<objects>): IzNet\n",
      "\n",
      "\n"
     ]
    },
    {
     "data": {
      "text/plain": [
       "\"Please see the NeuroML standard schema documentation at https://docs.neuroml.org/Userdocs/NeuroMLv2.html for more information.\\n\\nValid members for NeuroMLDocument are:\\n* compound_inputs (class: CompoundInput, Optional)\\n* compound_input_dls (class: CompoundInputDL, Optional)\\n* includes (class: IncludeType, Optional)\\n* voltage_clamps (class: VoltageClamp, Optional)\\n* extracellular_properties (class: ExtracellularProperties, Optional)\\n* voltage_clamp_triples (class: VoltageClampTriple, Optional)\\n* intracellular_properties (class: IntracellularProperties, Optional)\\n* spike_arrays (class: SpikeArray, Optional)\\n* morphology (class: Morphology, Optional)\\n* timed_synaptic_inputs (class: TimedSynapticInput, Optional)\\n* ion_channel (class: IonChannel, Optional)\\n* spike_generators (class: SpikeGenerator, Optional)\\n* ion_channel_hhs (class: IonChannelHH, Optional)\\n* spike_generator_randoms (class: SpikeGeneratorRandom, Optional)\\n* ion_channel_v_shifts (class: IonChannelVShift, Optional)\\n* spike_generator_poissons (class: SpikeGeneratorPoisson, Optional)\\n* ion_channel_kses (class: IonChannelKS, Optional)\\n* spike_generator_ref_poissons (class: SpikeGeneratorRefPoisson, Optional)\\n* decaying_pool_concentration_models (class: DecayingPoolConcentrationModel, Optional)\\n* poisson_firing_synapses (class: PoissonFiringSynapse, Optional)\\n* fixed_factor_concentration_models (class: FixedFactorConcentrationModel, Optional)\\n* transient_poisson_firing_synapses (class: TransientPoissonFiringSynapse, Optional)\\n* alpha_current_synapses (class: AlphaCurrentSynapse, Optional)\\n* IF_curr_alpha (class: IF_curr_alpha, Optional)\\n* alpha_synapses (class: AlphaSynapse, Optional)\\n* IF_curr_exp (class: IF_curr_exp, Optional)\\n* exp_one_synapses (class: ExpOneSynapse, Optional)\\n\\t* Contents ('ids'/<objects>): ['syn0']\\n\\n* IF_cond_alpha (class: IF_cond_alpha, Optional)\\n* exp_two_synapses (class: ExpTwoSynapse, Optional)\\n* IF_cond_exp (class: IF_cond_exp, Optional)\\n* exp_three_synapses (class: ExpThreeSynapse, Optional)\\n* EIF_cond_exp_isfa_ista (class: EIF_cond_exp_isfa_ista, Optional)\\n* blocking_plastic_synapses (class: BlockingPlasticSynapse, Optional)\\n* EIF_cond_alpha_isfa_ista (class: EIF_cond_alpha_isfa_ista, Optional)\\n* double_synapses (class: DoubleSynapse, Optional)\\n* HH_cond_exp (class: HH_cond_exp, Optional)\\n* gap_junctions (class: GapJunction, Optional)\\n* exp_cond_synapses (class: ExpCondSynapse, Optional)\\n* silent_synapses (class: SilentSynapse, Optional)\\n* alpha_cond_synapses (class: AlphaCondSynapse, Optional)\\n* linear_graded_synapses (class: LinearGradedSynapse, Optional)\\n* exp_curr_synapses (class: ExpCurrSynapse, Optional)\\n* graded_synapses (class: GradedSynapse, Optional)\\n* alpha_curr_synapses (class: AlphaCurrSynapse, Optional)\\n* annotation (class: Annotation, Optional)\\n* biophysical_properties (class: BiophysicalProperties, Optional)\\n* SpikeSourcePoisson (class: SpikeSourcePoisson, Optional)\\n* cells (class: Cell, Optional)\\n* networks (class: Network, Optional)\\n* cell2_ca_poolses (class: Cell2CaPools, Optional)\\n* ComponentType (class: ComponentType, Optional)\\n* base_cells (class: BaseCell, Optional)\\n* iaf_tau_cells (class: IafTauCell, Optional)\\n* properties (class: Property, Optional)\\n* iaf_tau_ref_cells (class: IafTauRefCell, Optional)\\n* notes (class: xs:string, Optional)\\n* iaf_cells (class: IafCell, Optional)\\n* metaid (class: MetaId, Optional)\\n* iaf_ref_cells (class: IafRefCell, Optional)\\n* izhikevich_cells (class: IzhikevichCell, Optional)\\n* izhikevich2007_cells (class: Izhikevich2007Cell, Optional)\\n\\t* Contents ('ids'/<objects>): ['iz2007RS0']\\n\\n* ad_ex_ia_f_cells (class: AdExIaFCell, Optional)\\n* fitz_hugh_nagumo_cells (class: FitzHughNagumoCell, Optional)\\n* fitz_hugh_nagumo1969_cells (class: FitzHughNagumo1969Cell, Optional)\\n* pinsky_rinzel_ca3_cells (class: PinskyRinzelCA3Cell, Optional)\\n* pulse_generators (class: PulseGenerator, Optional)\\n* pulse_generator_dls (class: PulseGeneratorDL, Optional)\\n* sine_generators (class: SineGenerator, Optional)\\n* sine_generator_dls (class: SineGeneratorDL, Optional)\\n* ramp_generators (class: RampGenerator, Optional)\\n* ramp_generator_dls (class: RampGeneratorDL, Optional)\\n* id (class: NmlId, Required)\\n\\t* Contents ('ids'/<objects>): IzNet\\n\\n\""
      ]
     },
     "execution_count": 6,
     "metadata": {},
     "output_type": "execute_result"
    }
   ],
   "source": [
    "nml_doc.info(True)"
   ]
  },
  {
   "cell_type": "code",
   "execution_count": 7,
   "metadata": {},
   "outputs": [
    {
     "name": "stdout",
     "output_type": "stream",
     "text": [
      "*******************************************************\n",
      "* NeuroMLDocument: IzNet\n",
      "*\n",
      "*  ExpOneSynapse: ['syn0']\n",
      "*  Izhikevich2007Cell: ['iz2007RS0']\n",
      "*\n",
      "*******************************************************\n"
     ]
    }
   ],
   "source": [
    "print(nml_doc.summary())"
   ]
  },
  {
   "cell_type": "markdown",
   "metadata": {},
   "source": [
    "### Declare a Network and add it to the model document"
   ]
  },
  {
   "cell_type": "code",
   "execution_count": 8,
   "metadata": {},
   "outputs": [],
   "source": [
    "net = nml_doc.add(\"Network\", id=\"IzNet\", validate=False)"
   ]
  },
  {
   "cell_type": "markdown",
   "metadata": {},
   "source": [
    "### Create two populations"
   ]
  },
  {
   "cell_type": "code",
   "execution_count": 9,
   "metadata": {},
   "outputs": [
    {
     "data": {
      "text/plain": [
       "<neuroml.nml.nml.Population at 0x7f53ace425c0>"
      ]
     },
     "execution_count": 9,
     "metadata": {},
     "output_type": "execute_result"
    }
   ],
   "source": [
    "# create the first population\n",
    "size0 = 5\n",
    "pop0 = component_factory(\"Population\", id=\"IzPop0\", component=iz0.id, size=size0, type=\"population\")\n",
    "# Set optional color property. Note: used later when generating plots\n",
    "pop0.add(\"Property\", tag=\"color\", value=\"0 0 .8\")\n",
    "net.add(pop0)\n",
    "\n",
    "# create the second population\n",
    "size1 = 5\n",
    "pop1 = component_factory(\"Population\", id=\"IzPop1\", component=iz0.id, size=size1, type=\"population\")\n",
    "pop1.add(\"Property\", tag=\"color\", value=\".8 0 0\")\n",
    "net.add(pop1)"
   ]
  },
  {
   "cell_type": "code",
   "execution_count": 10,
   "metadata": {},
   "outputs": [],
   "source": [
    "net.validate()"
   ]
  },
  {
   "cell_type": "markdown",
   "metadata": {},
   "source": [
    "### Declare projections"
   ]
  },
  {
   "cell_type": "code",
   "execution_count": 11,
   "metadata": {},
   "outputs": [],
   "source": [
    "# create a projection from one population to another\n",
    "proj = net.add(\n",
    "    \"Projection\",\n",
    "    id=\"proj\",\n",
    "    presynaptic_population=pop0.id,\n",
    "    postsynaptic_population=pop1.id,\n",
    "    synapse=syn0.id,\n",
    ")"
   ]
  },
  {
   "cell_type": "markdown",
   "metadata": {},
   "source": [
    "### Add the projections between populations and the external inputs"
   ]
  },
  {
   "cell_type": "code",
   "execution_count": 12,
   "metadata": {},
   "outputs": [],
   "source": [
    "random.seed(123)\n",
    "prob_connection = 0.8\n",
    "count = 0\n",
    "for pre in range(0, size0):\n",
    "    # pulse generator as explicit stimulus\n",
    "    pg = nml_doc.add(\n",
    "        \"PulseGenerator\",\n",
    "        id=\"pg_%i\" % pre,\n",
    "        delay=\"0ms\",\n",
    "        duration=\"10000ms\",\n",
    "        amplitude=\"%f nA\" % (0.1 + 0.1 * random.random()),\n",
    "    )\n",
    "\n",
    "    exp_input = net.add(\n",
    "        \"ExplicitInput\", target=\"%s[%i]\" % (pop0.id, pre), input=pg.id\n",
    "    )\n",
    "\n",
    "    # synapses between populations\n",
    "    for post in range(0, size1):\n",
    "        if random.random() <= prob_connection:\n",
    "            syn = proj.add(\n",
    "                \"Connection\",\n",
    "                id=count,\n",
    "                pre_cell_id=\"../%s[%i]\" % (pop0.id, pre),\n",
    "                post_cell_id=\"../%s[%i]\" % (pop1.id, post),\n",
    "            )\n",
    "            count += 1"
   ]
  },
  {
   "cell_type": "code",
   "execution_count": 13,
   "metadata": {},
   "outputs": [
    {
     "name": "stdout",
     "output_type": "stream",
     "text": [
      "Please see the NeuroML standard schema documentation at https://docs.neuroml.org/Userdocs/NeuroMLv2.html for more information.\n",
      "\n",
      "Valid members for NeuroMLDocument are:\n",
      "* compound_inputs (class: CompoundInput, Optional)\n",
      "* compound_input_dls (class: CompoundInputDL, Optional)\n",
      "* includes (class: IncludeType, Optional)\n",
      "* voltage_clamps (class: VoltageClamp, Optional)\n",
      "* extracellular_properties (class: ExtracellularProperties, Optional)\n",
      "* voltage_clamp_triples (class: VoltageClampTriple, Optional)\n",
      "* intracellular_properties (class: IntracellularProperties, Optional)\n",
      "* spike_arrays (class: SpikeArray, Optional)\n",
      "* morphology (class: Morphology, Optional)\n",
      "* timed_synaptic_inputs (class: TimedSynapticInput, Optional)\n",
      "* ion_channel (class: IonChannel, Optional)\n",
      "* spike_generators (class: SpikeGenerator, Optional)\n",
      "* ion_channel_hhs (class: IonChannelHH, Optional)\n",
      "* spike_generator_randoms (class: SpikeGeneratorRandom, Optional)\n",
      "* ion_channel_v_shifts (class: IonChannelVShift, Optional)\n",
      "* spike_generator_poissons (class: SpikeGeneratorPoisson, Optional)\n",
      "* ion_channel_kses (class: IonChannelKS, Optional)\n",
      "* spike_generator_ref_poissons (class: SpikeGeneratorRefPoisson, Optional)\n",
      "* decaying_pool_concentration_models (class: DecayingPoolConcentrationModel, Optional)\n",
      "* poisson_firing_synapses (class: PoissonFiringSynapse, Optional)\n",
      "* fixed_factor_concentration_models (class: FixedFactorConcentrationModel, Optional)\n",
      "* transient_poisson_firing_synapses (class: TransientPoissonFiringSynapse, Optional)\n",
      "* alpha_current_synapses (class: AlphaCurrentSynapse, Optional)\n",
      "* IF_curr_alpha (class: IF_curr_alpha, Optional)\n",
      "* alpha_synapses (class: AlphaSynapse, Optional)\n",
      "* IF_curr_exp (class: IF_curr_exp, Optional)\n",
      "* exp_one_synapses (class: ExpOneSynapse, Optional)\n",
      "\t* Contents ('ids'/<objects>): ['syn0']\n",
      "\n",
      "* IF_cond_alpha (class: IF_cond_alpha, Optional)\n",
      "* exp_two_synapses (class: ExpTwoSynapse, Optional)\n",
      "* IF_cond_exp (class: IF_cond_exp, Optional)\n",
      "* exp_three_synapses (class: ExpThreeSynapse, Optional)\n",
      "* EIF_cond_exp_isfa_ista (class: EIF_cond_exp_isfa_ista, Optional)\n",
      "* blocking_plastic_synapses (class: BlockingPlasticSynapse, Optional)\n",
      "* EIF_cond_alpha_isfa_ista (class: EIF_cond_alpha_isfa_ista, Optional)\n",
      "* double_synapses (class: DoubleSynapse, Optional)\n",
      "* HH_cond_exp (class: HH_cond_exp, Optional)\n",
      "* gap_junctions (class: GapJunction, Optional)\n",
      "* exp_cond_synapses (class: ExpCondSynapse, Optional)\n",
      "* silent_synapses (class: SilentSynapse, Optional)\n",
      "* alpha_cond_synapses (class: AlphaCondSynapse, Optional)\n",
      "* linear_graded_synapses (class: LinearGradedSynapse, Optional)\n",
      "* exp_curr_synapses (class: ExpCurrSynapse, Optional)\n",
      "* graded_synapses (class: GradedSynapse, Optional)\n",
      "* alpha_curr_synapses (class: AlphaCurrSynapse, Optional)\n",
      "* annotation (class: Annotation, Optional)\n",
      "* biophysical_properties (class: BiophysicalProperties, Optional)\n",
      "* SpikeSourcePoisson (class: SpikeSourcePoisson, Optional)\n",
      "* cells (class: Cell, Optional)\n",
      "* networks (class: Network, Optional)\n",
      "\t* Contents ('ids'/<objects>): ['IzNet']\n",
      "\n",
      "* cell2_ca_poolses (class: Cell2CaPools, Optional)\n",
      "* ComponentType (class: ComponentType, Optional)\n",
      "* base_cells (class: BaseCell, Optional)\n",
      "* iaf_tau_cells (class: IafTauCell, Optional)\n",
      "* properties (class: Property, Optional)\n",
      "* iaf_tau_ref_cells (class: IafTauRefCell, Optional)\n",
      "* notes (class: xs:string, Optional)\n",
      "* iaf_cells (class: IafCell, Optional)\n",
      "* metaid (class: MetaId, Optional)\n",
      "* iaf_ref_cells (class: IafRefCell, Optional)\n",
      "* izhikevich_cells (class: IzhikevichCell, Optional)\n",
      "* izhikevich2007_cells (class: Izhikevich2007Cell, Optional)\n",
      "\t* Contents ('ids'/<objects>): ['iz2007RS0']\n",
      "\n",
      "* ad_ex_ia_f_cells (class: AdExIaFCell, Optional)\n",
      "* fitz_hugh_nagumo_cells (class: FitzHughNagumoCell, Optional)\n",
      "* fitz_hugh_nagumo1969_cells (class: FitzHughNagumo1969Cell, Optional)\n",
      "* pinsky_rinzel_ca3_cells (class: PinskyRinzelCA3Cell, Optional)\n",
      "* pulse_generators (class: PulseGenerator, Optional)\n",
      "\t* Contents ('ids'/<objects>): ['pg_0', 'pg_1', 'pg_2', 'pg_3', 'pg_4']\n",
      "\n",
      "* pulse_generator_dls (class: PulseGeneratorDL, Optional)\n",
      "* sine_generators (class: SineGenerator, Optional)\n",
      "* sine_generator_dls (class: SineGeneratorDL, Optional)\n",
      "* ramp_generators (class: RampGenerator, Optional)\n",
      "* ramp_generator_dls (class: RampGeneratorDL, Optional)\n",
      "* id (class: NmlId, Required)\n",
      "\t* Contents ('ids'/<objects>): IzNet\n",
      "\n",
      "\n"
     ]
    },
    {
     "data": {
      "text/plain": [
       "\"Please see the NeuroML standard schema documentation at https://docs.neuroml.org/Userdocs/NeuroMLv2.html for more information.\\n\\nValid members for NeuroMLDocument are:\\n* compound_inputs (class: CompoundInput, Optional)\\n* compound_input_dls (class: CompoundInputDL, Optional)\\n* includes (class: IncludeType, Optional)\\n* voltage_clamps (class: VoltageClamp, Optional)\\n* extracellular_properties (class: ExtracellularProperties, Optional)\\n* voltage_clamp_triples (class: VoltageClampTriple, Optional)\\n* intracellular_properties (class: IntracellularProperties, Optional)\\n* spike_arrays (class: SpikeArray, Optional)\\n* morphology (class: Morphology, Optional)\\n* timed_synaptic_inputs (class: TimedSynapticInput, Optional)\\n* ion_channel (class: IonChannel, Optional)\\n* spike_generators (class: SpikeGenerator, Optional)\\n* ion_channel_hhs (class: IonChannelHH, Optional)\\n* spike_generator_randoms (class: SpikeGeneratorRandom, Optional)\\n* ion_channel_v_shifts (class: IonChannelVShift, Optional)\\n* spike_generator_poissons (class: SpikeGeneratorPoisson, Optional)\\n* ion_channel_kses (class: IonChannelKS, Optional)\\n* spike_generator_ref_poissons (class: SpikeGeneratorRefPoisson, Optional)\\n* decaying_pool_concentration_models (class: DecayingPoolConcentrationModel, Optional)\\n* poisson_firing_synapses (class: PoissonFiringSynapse, Optional)\\n* fixed_factor_concentration_models (class: FixedFactorConcentrationModel, Optional)\\n* transient_poisson_firing_synapses (class: TransientPoissonFiringSynapse, Optional)\\n* alpha_current_synapses (class: AlphaCurrentSynapse, Optional)\\n* IF_curr_alpha (class: IF_curr_alpha, Optional)\\n* alpha_synapses (class: AlphaSynapse, Optional)\\n* IF_curr_exp (class: IF_curr_exp, Optional)\\n* exp_one_synapses (class: ExpOneSynapse, Optional)\\n\\t* Contents ('ids'/<objects>): ['syn0']\\n\\n* IF_cond_alpha (class: IF_cond_alpha, Optional)\\n* exp_two_synapses (class: ExpTwoSynapse, Optional)\\n* IF_cond_exp (class: IF_cond_exp, Optional)\\n* exp_three_synapses (class: ExpThreeSynapse, Optional)\\n* EIF_cond_exp_isfa_ista (class: EIF_cond_exp_isfa_ista, Optional)\\n* blocking_plastic_synapses (class: BlockingPlasticSynapse, Optional)\\n* EIF_cond_alpha_isfa_ista (class: EIF_cond_alpha_isfa_ista, Optional)\\n* double_synapses (class: DoubleSynapse, Optional)\\n* HH_cond_exp (class: HH_cond_exp, Optional)\\n* gap_junctions (class: GapJunction, Optional)\\n* exp_cond_synapses (class: ExpCondSynapse, Optional)\\n* silent_synapses (class: SilentSynapse, Optional)\\n* alpha_cond_synapses (class: AlphaCondSynapse, Optional)\\n* linear_graded_synapses (class: LinearGradedSynapse, Optional)\\n* exp_curr_synapses (class: ExpCurrSynapse, Optional)\\n* graded_synapses (class: GradedSynapse, Optional)\\n* alpha_curr_synapses (class: AlphaCurrSynapse, Optional)\\n* annotation (class: Annotation, Optional)\\n* biophysical_properties (class: BiophysicalProperties, Optional)\\n* SpikeSourcePoisson (class: SpikeSourcePoisson, Optional)\\n* cells (class: Cell, Optional)\\n* networks (class: Network, Optional)\\n\\t* Contents ('ids'/<objects>): ['IzNet']\\n\\n* cell2_ca_poolses (class: Cell2CaPools, Optional)\\n* ComponentType (class: ComponentType, Optional)\\n* base_cells (class: BaseCell, Optional)\\n* iaf_tau_cells (class: IafTauCell, Optional)\\n* properties (class: Property, Optional)\\n* iaf_tau_ref_cells (class: IafTauRefCell, Optional)\\n* notes (class: xs:string, Optional)\\n* iaf_cells (class: IafCell, Optional)\\n* metaid (class: MetaId, Optional)\\n* iaf_ref_cells (class: IafRefCell, Optional)\\n* izhikevich_cells (class: IzhikevichCell, Optional)\\n* izhikevich2007_cells (class: Izhikevich2007Cell, Optional)\\n\\t* Contents ('ids'/<objects>): ['iz2007RS0']\\n\\n* ad_ex_ia_f_cells (class: AdExIaFCell, Optional)\\n* fitz_hugh_nagumo_cells (class: FitzHughNagumoCell, Optional)\\n* fitz_hugh_nagumo1969_cells (class: FitzHughNagumo1969Cell, Optional)\\n* pinsky_rinzel_ca3_cells (class: PinskyRinzelCA3Cell, Optional)\\n* pulse_generators (class: PulseGenerator, Optional)\\n\\t* Contents ('ids'/<objects>): ['pg_0', 'pg_1', 'pg_2', 'pg_3', 'pg_4']\\n\\n* pulse_generator_dls (class: PulseGeneratorDL, Optional)\\n* sine_generators (class: SineGenerator, Optional)\\n* sine_generator_dls (class: SineGeneratorDL, Optional)\\n* ramp_generators (class: RampGenerator, Optional)\\n* ramp_generator_dls (class: RampGeneratorDL, Optional)\\n* id (class: NmlId, Required)\\n\\t* Contents ('ids'/<objects>): IzNet\\n\\n\""
      ]
     },
     "execution_count": 13,
     "metadata": {},
     "output_type": "execute_result"
    }
   ],
   "source": [
    "nml_doc.info(True)"
   ]
  },
  {
   "cell_type": "code",
   "execution_count": 14,
   "metadata": {},
   "outputs": [
    {
     "name": "stdout",
     "output_type": "stream",
     "text": [
      "*******************************************************\n",
      "* NeuroMLDocument: IzNet\n",
      "*\n",
      "*  ExpOneSynapse: ['syn0']\n",
      "*  Izhikevich2007Cell: ['iz2007RS0']\n",
      "*  PulseGenerator: ['pg_0', 'pg_1', 'pg_2', 'pg_3', 'pg_4']\n",
      "*\n",
      "*  Network: IzNet\n",
      "*\n",
      "*   10 cells in 2 populations \n",
      "*     Population: IzPop0 with 5 components of type iz2007RS0\n",
      "*       Properties: color=0 0 .8; \n",
      "*     Population: IzPop1 with 5 components of type iz2007RS0\n",
      "*       Properties: color=.8 0 0; \n",
      "*\n",
      "*   20 connections in 1 projections \n",
      "*     Projection: proj from IzPop0 to IzPop1, synapse: syn0\n",
      "*       20 connections: [(Connection 0: 0 -> 0), ...]\n",
      "*\n",
      "*   0 inputs in 0 input lists \n",
      "*\n",
      "*   5 explicit inputs (outside of input lists)\n",
      "*     Explicit Input of type pg_0 to IzPop0(cell 0), destination: unspecified\n",
      "*     Explicit Input of type pg_1 to IzPop0(cell 1), destination: unspecified\n",
      "*     Explicit Input of type pg_2 to IzPop0(cell 2), destination: unspecified\n",
      "*     Explicit Input of type pg_3 to IzPop0(cell 3), destination: unspecified\n",
      "*     Explicit Input of type pg_4 to IzPop0(cell 4), destination: unspecified\n",
      "*\n",
      "*******************************************************\n"
     ]
    }
   ],
   "source": [
    "print(nml_doc.summary())"
   ]
  },
  {
   "cell_type": "markdown",
   "metadata": {},
   "source": [
    "### Write the NeuroML model to a NeuroML file and validate it"
   ]
  },
  {
   "cell_type": "code",
   "execution_count": 15,
   "metadata": {},
   "outputs": [
    {
     "name": "stderr",
     "output_type": "stream",
     "text": [
      "pyNeuroML >>> INFO - Executing: (java -Xmx400M  -jar  \"/home/asinha/Documents/02_Code/00_mine/NeuroML/documentation/.venv/lib/python3.10/site-packages/pyneuroml/lib/jNeuroML-0.12.0-jar-with-dependencies.jar\" -validate \"izhikevich2007_network.nml\" ) in directory: .\n"
     ]
    },
    {
     "name": "stdout",
     "output_type": "stream",
     "text": [
      "Written network file to: izhikevich2007_network.nml\n"
     ]
    },
    {
     "name": "stderr",
     "output_type": "stream",
     "text": [
      "pyNeuroML >>> INFO - Command completed. Output: \n",
      "  jNeuroML >>   jNeuroML v0.12.0\n",
      "  jNeuroML >>  Validating: /home/asinha/Documents/02_Code/00_mine/NeuroML/documentation/source/Userdocs/NML2_examples/izhikevich2007_network.nml\n",
      "  jNeuroML >>  Valid against schema and all tests\n",
      "  jNeuroML >>  No warnings\n",
      "  jNeuroML >>  \n",
      "  jNeuroML >>  Validated 1 files: All valid and no warnings\n",
      "  jNeuroML >>  \n",
      "  jNeuroML >>  \n"
     ]
    },
    {
     "data": {
      "text/plain": [
       "True"
      ]
     },
     "execution_count": 15,
     "metadata": {},
     "output_type": "execute_result"
    }
   ],
   "source": [
    "nml_file = 'izhikevich2007_network.nml'\n",
    "writers.NeuroMLWriter.write(nml_doc, nml_file)\n",
    "\n",
    "print(\"Written network file to: \" + nml_file)\n",
    "pynml.validate_neuroml2(nml_file)"
   ]
  },
  {
   "cell_type": "markdown",
   "metadata": {},
   "source": [
    "## Simulating the model\n",
    "### Create a simulation instance of the model"
   ]
  },
  {
   "cell_type": "code",
   "execution_count": 16,
   "metadata": {},
   "outputs": [
    {
     "name": "stderr",
     "output_type": "stream",
     "text": [
      "pyNeuroML >>> INFO - Loading NeuroML2 file: /home/asinha/Documents/02_Code/00_mine/NeuroML/documentation/source/Userdocs/NML2_examples/izhikevich2007_network.nml\n"
     ]
    }
   ],
   "source": [
    "simulation_id = \"example_izhikevich2007network_sim\"\n",
    "simulation = LEMSSimulation(sim_id=simulation_id,\n",
    "                            duration=1000, dt=0.1, simulation_seed=123)\n",
    "simulation.assign_simulation_target(net.id)\n",
    "simulation.include_neuroml2_file(nml_file)"
   ]
  },
  {
   "cell_type": "markdown",
   "metadata": {},
   "source": [
    "### Define the output file to store spikes"
   ]
  },
  {
   "cell_type": "code",
   "execution_count": 17,
   "metadata": {},
   "outputs": [],
   "source": [
    "simulation.create_event_output_file(\n",
    "    \"pop0\", \"%s.0.spikes.dat\" % simulation_id, format='ID_TIME'\n",
    ")\n",
    "for pre in range(0, size0):\n",
    "    simulation.add_selection_to_event_output_file(\n",
    "        \"pop0\", pre, 'IzPop0[{}]'.format(pre), 'spike')\n",
    "\n",
    "simulation.create_event_output_file(\n",
    "    \"pop1\", \"%s.1.spikes.dat\" % simulation_id, format='ID_TIME'\n",
    ")\n",
    "for pre in range(0, size1):\n",
    "    simulation.add_selection_to_event_output_file(\n",
    "        \"pop1\", pre, 'IzPop1[{}]'.format(pre), 'spike')"
   ]
  },
  {
   "cell_type": "markdown",
   "metadata": {},
   "source": [
    "## Save the simulation to a file"
   ]
  },
  {
   "cell_type": "code",
   "execution_count": 18,
   "metadata": {},
   "outputs": [],
   "source": [
    "lems_simulation_file = simulation.save_to_file()"
   ]
  },
  {
   "cell_type": "markdown",
   "metadata": {},
   "source": [
    "## Run the simulation using jNeuroML"
   ]
  },
  {
   "cell_type": "code",
   "execution_count": 19,
   "metadata": {},
   "outputs": [
    {
     "name": "stderr",
     "output_type": "stream",
     "text": [
      "pyNeuroML >>> INFO - Loading LEMS file: LEMS_example_izhikevich2007network_sim.xml and running with jNeuroML_NEURON\n",
      "pyNeuroML >>> INFO - Executing: (java -Xmx2G  -Djava.awt.headless=true -jar  \"/home/asinha/Documents/02_Code/00_mine/NeuroML/documentation/.venv/lib/python3.10/site-packages/pyneuroml/lib/jNeuroML-0.12.0-jar-with-dependencies.jar\"  \"LEMS_example_izhikevich2007network_sim.xml\"  -neuron -run -compile -nogui -I '') in directory: .\n",
      "pyNeuroML >>> INFO - Command completed. Output: \n",
      "  jNeuroML >>   jNeuroML v0.12.0\n",
      "  jNeuroML >>  (INFO) Reading from: /home/asinha/Documents/02_Code/00_mine/NeuroML/documentation/source/Userdocs/NML2_examples/LEMS_example_izhikevich2007network_sim.xml\n",
      "  jNeuroML >>  (INFO) Creating NeuronWriter to output files to /home/asinha/Documents/02_Code/00_mine/NeuroML/documentation/source/Userdocs/NML2_examples\n",
      "  jNeuroML >>  (INFO) Adding simulation Component(id=example_izhikevich2007network_sim type=Simulation) of network/component: IzNet (Type: network)\n",
      "  jNeuroML >>  (INFO) Adding population: IzPop0\n",
      "  jNeuroML >>  (INFO) -- Writing to mod: /home/asinha/Documents/02_Code/00_mine/NeuroML/documentation/source/Userdocs/NML2_examples/iz2007RS0.mod\n",
      "  jNeuroML >>  (INFO) File /home/asinha/Documents/02_Code/00_mine/NeuroML/documentation/source/Userdocs/NML2_examples/iz2007RS0.mod exists and is identical\n",
      "  jNeuroML >>  (INFO) Adding population: IzPop1\n",
      "  jNeuroML >>  (INFO) -- Mod file for: iz2007RS0 has already been created\n",
      "  jNeuroML >>  (INFO) Adding projections/connections...\n",
      "  jNeuroML >>  (INFO) -- Writing to mod: /home/asinha/Documents/02_Code/00_mine/NeuroML/documentation/source/Userdocs/NML2_examples/syn0.mod\n",
      "  jNeuroML >>  (INFO) File /home/asinha/Documents/02_Code/00_mine/NeuroML/documentation/source/Userdocs/NML2_examples/syn0.mod exists and is identical\n",
      "  jNeuroML >>  (INFO) -- Writing to mod: /home/asinha/Documents/02_Code/00_mine/NeuroML/documentation/source/Userdocs/NML2_examples/pg_0.mod\n",
      "  jNeuroML >>  (INFO) File /home/asinha/Documents/02_Code/00_mine/NeuroML/documentation/source/Userdocs/NML2_examples/pg_0.mod exists and is identical\n",
      "  jNeuroML >>  (INFO) -- Writing to mod: /home/asinha/Documents/02_Code/00_mine/NeuroML/documentation/source/Userdocs/NML2_examples/pg_1.mod\n",
      "  jNeuroML >>  (INFO) File /home/asinha/Documents/02_Code/00_mine/NeuroML/documentation/source/Userdocs/NML2_examples/pg_1.mod exists and is identical\n",
      "  jNeuroML >>  (INFO) -- Writing to mod: /home/asinha/Documents/02_Code/00_mine/NeuroML/documentation/source/Userdocs/NML2_examples/pg_2.mod\n",
      "  jNeuroML >>  (INFO) File /home/asinha/Documents/02_Code/00_mine/NeuroML/documentation/source/Userdocs/NML2_examples/pg_2.mod exists and is identical\n",
      "  jNeuroML >>  (INFO) -- Writing to mod: /home/asinha/Documents/02_Code/00_mine/NeuroML/documentation/source/Userdocs/NML2_examples/pg_3.mod\n",
      "  jNeuroML >>  (INFO) File /home/asinha/Documents/02_Code/00_mine/NeuroML/documentation/source/Userdocs/NML2_examples/pg_3.mod exists and is identical\n",
      "  jNeuroML >>  (INFO) -- Writing to mod: /home/asinha/Documents/02_Code/00_mine/NeuroML/documentation/source/Userdocs/NML2_examples/pg_4.mod\n",
      "  jNeuroML >>  (INFO) File /home/asinha/Documents/02_Code/00_mine/NeuroML/documentation/source/Userdocs/NML2_examples/pg_4.mod exists and is identical\n",
      "  jNeuroML >>  (INFO) Trying to compile mods in: /home/asinha/Documents/02_Code/00_mine/NeuroML/documentation/source/Userdocs/NML2_examples\n",
      "  jNeuroML >>  (INFO) Going to compile the mod files in: /home/asinha/Documents/02_Code/00_mine/NeuroML/documentation/source/Userdocs/NML2_examples, forcing recompile: false\n",
      "  jNeuroML >>  (INFO) Parent dir: /home/asinha/Documents/02_Code/00_mine/NeuroML/documentation/source/Userdocs/NML2_examples\n",
      "  jNeuroML >>  (INFO) Assuming *nix environment...\n",
      "  jNeuroML >>  (INFO) Name of file to be created: /home/asinha/Documents/02_Code/00_mine/NeuroML/documentation/source/Userdocs/NML2_examples/x86_64/libnrnmech.la\n",
      "  jNeuroML >>  (INFO) Name of file to be created: /home/asinha/Documents/02_Code/00_mine/NeuroML/documentation/source/Userdocs/NML2_examples/x86_64/libnrnmech.so\n",
      "  jNeuroML >>  (INFO) Name of file to be created: /home/asinha/Documents/02_Code/00_mine/NeuroML/documentation/source/Userdocs/NML2_examples/x86_64/.libs/libnrnmech.so\n",
      "  jNeuroML >>  (INFO) commandToExecute: /usr/bin/nrnivmodl\n",
      "  jNeuroML >>  (INFO) Found previously compiled file: /home/asinha/Documents/02_Code/00_mine/NeuroML/documentation/source/Userdocs/NML2_examples/x86_64/libnrnmech.so\n",
      "  jNeuroML >>  (INFO) Going to check if mods in /home/asinha/Documents/02_Code/00_mine/NeuroML/documentation/source/Userdocs/NML2_examples are newer than /home/asinha/Documents/02_Code/00_mine/NeuroML/documentation/source/Userdocs/NML2_examples/x86_64/libnrnmech.so\n",
      "  jNeuroML >>  (INFO) Going to check if mods in /home/asinha/Documents/02_Code/00_mine/NeuroML/documentation/source/Userdocs/NML2_examples are newer than /home/asinha/Documents/02_Code/00_mine/NeuroML/documentation/source/Userdocs/NML2_examples/x86_64/.libs/libnrnmech.so\n",
      "  jNeuroML >>  (INFO) Not being asked to recompile, and no mod files exist in /home/asinha/Documents/02_Code/00_mine/NeuroML/documentation/source/Userdocs/NML2_examples which are newer than /home/asinha/Documents/02_Code/00_mine/NeuroML/documentation/source/Userdocs/NML2_examples/x86_64/.libs/libnrnmech.so\n",
      "  jNeuroML >>  (INFO) Success in compiling mods: true\n",
      "  jNeuroML >>  (INFO) Have successfully executed command: python /home/asinha/Documents/02_Code/00_mine/NeuroML/documentation/source/Userdocs/NML2_examples/LEMS_example_izhikevich2007network_sim_nrn.py\n",
      "  jNeuroML >>  (INFO) NRN Output >>> \n",
      "  jNeuroML >>  (INFO) NRN Output >>>     Starting simulation in NEURON of 1000ms generated from NeuroML2 model...\n",
      "  jNeuroML >>  (INFO) NRN Output >>> \n",
      "  jNeuroML >>  (INFO) NRN Output >>> Population IzPop0 contains 5 instance(s) of component: iz2007RS0 of type: izhikevich2007Cell\n",
      "  jNeuroML >>  (INFO) NRN Output >>> Population IzPop1 contains 5 instance(s) of component: iz2007RS0 of type: izhikevich2007Cell\n",
      "  jNeuroML >>  (INFO) NRN Output >>> Adding projection: proj, from IzPop0 to IzPop1 with synapse syn0, 20 connection(s)\n",
      "  jNeuroML >>  (INFO) NRN Output >>> Setting up the network to simulate took 0.000990 seconds\n",
      "  jNeuroML >>  (INFO) NRN Output >>> Running a simulation of 1000.0ms (dt = 0.1ms; seed=123)\n",
      "  jNeuroML >>  (INFO) NRN Output >>> Finished NEURON simulation in 0.022036 seconds (0.000367 mins)...\n",
      "  jNeuroML >>  (INFO) NRN Output >>> Saving results at t=999.9999999996382...\n",
      "  jNeuroML >>  (INFO) NRN Output >>> Saved data to: time.dat\n",
      "  jNeuroML >>  (INFO) NRN Output >>> Saved data to: example_izhikevich2007network_sim.1.spikes.dat\n",
      "  jNeuroML >>  (INFO) NRN Output >>> Saved data to: example_izhikevich2007network_sim.0.spikes.dat\n",
      "  jNeuroML >>  (INFO) NRN Output >>> Finished saving results in 0.002883 seconds\n",
      "  jNeuroML >>  (INFO) NRN Output >>> Done\n",
      "  jNeuroML >>  (INFO) Exit value for running NEURON: 0\n",
      "  jNeuroML >>  \n"
     ]
    },
    {
     "data": {
      "text/plain": [
       "True"
      ]
     },
     "execution_count": 19,
     "metadata": {},
     "output_type": "execute_result"
    }
   ],
   "source": [
    "pynml.run_lems_with_jneuroml_neuron(\n",
    "    lems_simulation_file, max_memory=\"2G\", nogui=True, plot=False\n",
    ")"
   ]
  },
  {
   "cell_type": "markdown",
   "metadata": {},
   "source": [
    "## Plot the recorded data"
   ]
  },
  {
   "cell_type": "code",
   "execution_count": 20,
   "metadata": {
    "scrolled": true
   },
   "outputs": [
    {
     "name": "stderr",
     "output_type": "stream",
     "text": [
      "pyNeuroML >>> INFO - Generating plot: Spike times\n",
      "/home/asinha/Documents/02_Code/00_mine/NeuroML/documentation/.venv/lib64/python3.10/site-packages/pyneuroml/plot/Plot.py:174: UserWarning: marker is redundantly defined by the 'marker' keyword argument and the fmt string \"o\" (-> marker='o'). The keyword argument will take precedence.\n",
      "  plt.plot(\n",
      "pyNeuroML >>> INFO - Saving image to /home/asinha/Documents/02_Code/00_mine/NeuroML/documentation/source/Userdocs/NML2_examples/example_izhikevich2007network_sim-spikes.png of plot: Spike times\n",
      "pyNeuroML >>> INFO - Saved image to example_izhikevich2007network_sim-spikes.png of plot: Spike times\n"
     ]
    },
    {
     "data": {
      "text/plain": [
       "<AxesSubplot: xlabel='time (s)', ylabel='cell ID'>"
      ]
     },
     "execution_count": 20,
     "metadata": {},
     "output_type": "execute_result"
    },
    {
     "data": {
      "image/png": "[encoded data removed]",
      "text/plain": [
       "<Figure size 640x480 with 1 Axes>"
      ]
     },
     "metadata": {},
     "output_type": "display_data"
    }
   ],
   "source": [
    "# Load the data from the file and plot the spike times\n",
    "# using the pynml generate_plot utility function.\n",
    "data_array_0 = np.loadtxt(\"%s.0.spikes.dat\" % simulation_id)\n",
    "data_array_1 = np.loadtxt(\"%s.1.spikes.dat\" % simulation_id)\n",
    "times_0 = data_array_0[:,1]\n",
    "times_1 = data_array_1[:,1]\n",
    "ids_0 = data_array_0[:,0]\n",
    "ids_1 = [id+size0 for id in data_array_1[:,0]]\n",
    "pynml.generate_plot(\n",
    "    [times_0,times_1], [ids_0,ids_1],\n",
    "    \"Spike times\", show_plot_already=False,\n",
    "    save_figure_to=\"%s-spikes.png\" % simulation_id,\n",
    "    xaxis=\"time (s)\", yaxis=\"cell ID\",\n",
    "    colors=['b','r'],\n",
    "    linewidths=['0','0'], markers=['.','.'],\n",
    ")"
   ]
  },
  {
   "cell_type": "code",
   "execution_count": null,
   "metadata": {},
   "outputs": [],
   "source": []
  },
  {
   "cell_type": "code",
   "execution_count": null,
   "metadata": {},
   "outputs": [],
   "source": []
  }
 ],
 "metadata": {
  "kernelspec": {
   "display_name": "Python 3 (ipykernel)",
   "language": "python",
   "name": "python3"
  },
  "language_info": {
   "codemirror_mode": {
    "name": "ipython",
    "version": 3
   },
   "file_extension": ".py",
   "mimetype": "text/x-python",
   "name": "python",
   "nbconvert_exporter": "python",
   "pygments_lexer": "ipython3",
   "version": "3.9.16"
  }
 },
 "nbformat": 4,
 "nbformat_minor": 4
}
