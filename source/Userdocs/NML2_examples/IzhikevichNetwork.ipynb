{
 "cells": [
  {
   "cell_type": "markdown",
   "metadata": {},
   "source": [
    "# Interactive two population network example\n",
    "\n",
    "To run this interactive Jupyter Notebook, please click on the rocket icon 🚀 in the top panel. For more information, please see {ref}`how to use this documentation <userdocs:usage:jupyterbooks>`. Please uncomment the line below if you use the Google Colab. (It does not include these packages by default)."
   ]
  },
  {
   "cell_type": "code",
   "execution_count": 1,
   "metadata": {},
   "outputs": [],
   "source": [
    "#%pip install pyneuroml neuromllite NEURON"
   ]
  },
  {
   "cell_type": "code",
   "execution_count": 2,
   "metadata": {},
   "outputs": [],
   "source": [
    "#!/usr/bin/env python3\n",
    "\"\"\"\n",
    "Create a simple network with two populations.\n",
    "\"\"\"\n",
    "\n",
    "from neuroml import NeuroMLDocument\n",
    "from neuroml import Izhikevich2007Cell\n",
    "from neuroml import Network\n",
    "from neuroml import ExpOneSynapse\n",
    "from neuroml import Population\n",
    "from neuroml import Projection\n",
    "from neuroml import PulseGenerator\n",
    "from neuroml import ExplicitInput\n",
    "from neuroml import Connection\n",
    "from neuroml import Property\n",
    "import neuroml.writers as writers\n",
    "import random\n",
    "from pyneuroml import pynml\n",
    "from pyneuroml.lems import LEMSSimulation\n",
    "import numpy as np"
   ]
  },
  {
   "cell_type": "markdown",
   "metadata": {},
   "source": [
    "## Declaring the NeuroML model"
   ]
  },
  {
   "cell_type": "markdown",
   "metadata": {},
   "source": [
    "### Create a NeuroML document"
   ]
  },
  {
   "cell_type": "code",
   "execution_count": 3,
   "metadata": {},
   "outputs": [],
   "source": [
    "nml_doc = NeuroMLDocument(id=\"IzNet\")"
   ]
  },
  {
   "cell_type": "markdown",
   "metadata": {},
   "source": [
    "### Declare the Izhikevich cell and add it to the model document"
   ]
  },
  {
   "cell_type": "code",
   "execution_count": 4,
   "metadata": {},
   "outputs": [],
   "source": [
    "iz0 = Izhikevich2007Cell(\n",
    "    id=\"iz2007RS0\", v0=\"-60mV\", C=\"100pF\", k=\"0.7nS_per_mV\", vr=\"-60mV\",\n",
    "    vt=\"-40mV\", vpeak=\"35mV\", a=\"0.03per_ms\", b=\"-2nS\", c=\"-50.0mV\", d=\"100pA\")\n",
    "nml_doc.add(iz0)\n",
    "# under the hood: nml_doc.izhikevich2007_cells.append(iz0)"
   ]
  },
  {
   "cell_type": "markdown",
   "metadata": {},
   "source": [
    "### Declare the Synapse and add it to the model document"
   ]
  },
  {
   "cell_type": "code",
   "execution_count": 5,
   "metadata": {},
   "outputs": [],
   "source": [
    "syn0 = ExpOneSynapse(id=\"syn0\", gbase=\"65nS\", erev=\"0mV\", tau_decay=\"3ms\")\n",
    "nml_doc.add(syn0)\n",
    "# under the hood: nml_doc.exp_one_synapses.append(syn0)"
   ]
  },
  {
   "cell_type": "markdown",
   "metadata": {},
   "source": [
    "### Declare a Network and add it to the model document"
   ]
  },
  {
   "cell_type": "code",
   "execution_count": 6,
   "metadata": {},
   "outputs": [],
   "source": [
    "net = Network(id=\"IzNet\")\n",
    "nml_doc.add(net)\n",
    "# under the hood: nml_doc.networks.append(net)"
   ]
  },
  {
   "cell_type": "markdown",
   "metadata": {},
   "source": [
    "### Create two populations"
   ]
  },
  {
   "cell_type": "code",
   "execution_count": 7,
   "metadata": {},
   "outputs": [
    {
     "name": "stdout",
     "output_type": "stream",
     "text": [
      "Valid members for Network are:\n",
      "* type (class: networkTypes)\n",
      "\t* Contents: None\n",
      "\n",
      "* temperature (class: Nml2Quantity_temperature)\n",
      "\t* Contents: None\n",
      "\n",
      "* spaces (class: Space)\n",
      "\t* Contents: []\n",
      "\n",
      "* regions (class: Region)\n",
      "\t* Contents: []\n",
      "\n",
      "* extracellular_properties (class: ExtracellularPropertiesLocal)\n",
      "\t* Contents: []\n",
      "\n",
      "* populations (class: Population)\n",
      "\t* Contents: [<neuroml.nml.nml.Population object at 0x7f2c1c68ca00>, <neuroml.nml.nml.Population object at 0x7f2c1c68da20>]\n",
      "\n",
      "* cell_sets (class: CellSet)\n",
      "\t* Contents: []\n",
      "\n",
      "* synaptic_connections (class: SynapticConnection)\n",
      "\t* Contents: []\n",
      "\n",
      "* projections (class: Projection)\n",
      "\t* Contents: []\n",
      "\n",
      "* electrical_projections (class: ElectricalProjection)\n",
      "\t* Contents: []\n",
      "\n",
      "* continuous_projections (class: ContinuousProjection)\n",
      "\t* Contents: []\n",
      "\n",
      "* explicit_inputs (class: ExplicitInput)\n",
      "\t* Contents: []\n",
      "\n",
      "* input_lists (class: InputList)\n",
      "\t* Contents: []\n",
      "\n",
      "Please see the NeuroML standard schema documentation at https://docs.neuroml.org/Userdocs/NeuroMLv2.html for more information.\n"
     ]
    },
    {
     "data": {
      "text/plain": [
       "'Valid members for Network are:\\n* type (class: networkTypes)\\n\\t* Contents: None\\n\\n* temperature (class: Nml2Quantity_temperature)\\n\\t* Contents: None\\n\\n* spaces (class: Space)\\n\\t* Contents: []\\n\\n* regions (class: Region)\\n\\t* Contents: []\\n\\n* extracellular_properties (class: ExtracellularPropertiesLocal)\\n\\t* Contents: []\\n\\n* populations (class: Population)\\n\\t* Contents: [<neuroml.nml.nml.Population object at 0x7f2c1c68ca00>, <neuroml.nml.nml.Population object at 0x7f2c1c68da20>]\\n\\n* cell_sets (class: CellSet)\\n\\t* Contents: []\\n\\n* synaptic_connections (class: SynapticConnection)\\n\\t* Contents: []\\n\\n* projections (class: Projection)\\n\\t* Contents: []\\n\\n* electrical_projections (class: ElectricalProjection)\\n\\t* Contents: []\\n\\n* continuous_projections (class: ContinuousProjection)\\n\\t* Contents: []\\n\\n* explicit_inputs (class: ExplicitInput)\\n\\t* Contents: []\\n\\n* input_lists (class: InputList)\\n\\t* Contents: []\\n\\nPlease see the NeuroML standard schema documentation at https://docs.neuroml.org/Userdocs/NeuroMLv2.html for more information.'"
      ]
     },
     "execution_count": 7,
     "metadata": {},
     "output_type": "execute_result"
    }
   ],
   "source": [
    "size0 = 5\n",
    "pop0 = Population(id=\"IzPop0\", component=iz0.id, size=size0)\n",
    "net.add(pop0)\n",
    "# net.populations.append(pop0)\n",
    "\n",
    "size1 = 5\n",
    "pop1 = Population(id=\"IzPop1\", component=iz0.id, size=size1)\n",
    "net.add(pop1)\n",
    "# net.populations.append(pop1)\n",
    "net.info(True)"
   ]
  },
  {
   "cell_type": "markdown",
   "metadata": {},
   "source": [
    "### Declare projections"
   ]
  },
  {
   "cell_type": "code",
   "execution_count": 17,
   "metadata": {},
   "outputs": [
    {
     "name": "stdout",
     "output_type": "stream",
     "text": [
      "Help on class Projection in module neuroml.nml.nml:\n",
      "\n",
      "class Projection(BaseProjection)\n",
      " |  Projection(neuro_lex_id=None, id=None, presynaptic_population=None, postsynaptic_population=None, synapse=None, connections=None, connection_wds=None, gds_collector_=None, **kwargs_)\n",
      " |  \n",
      " |  Projection -- Projection from one population, **presynapticPopulation**  to another, **postsynapticPopulation,**  through **synapse.**  Contains lists of  **connection**  or  **connectionWD**  elements.\n",
      " |  \n",
      " |  Method resolution order:\n",
      " |      Projection\n",
      " |      BaseProjection\n",
      " |      Base\n",
      " |      BaseWithoutId\n",
      " |      GeneratedsSuper\n",
      " |      GeneratedsSuperSuper\n",
      " |      builtins.object\n",
      " |  \n",
      " |  Methods defined here:\n",
      " |  \n",
      " |  __hash__(self, /)\n",
      " |      Return hash(self).\n",
      " |  \n",
      " |  __init__(self, neuro_lex_id=None, id=None, presynaptic_population=None, postsynaptic_population=None, synapse=None, connections=None, connection_wds=None, gds_collector_=None, **kwargs_)\n",
      " |      Initialize self.  See help(type(self)) for accurate signature.\n",
      " |  \n",
      " |  __str__(self)\n",
      " |      Return str(self).\n",
      " |  \n",
      " |  build(self, node, gds_collector_=None)\n",
      " |  \n",
      " |  export(self, outfile, level, namespaceprefix_='', namespacedef_=' xmlns:None=\"http://www.neuroml.org/schema/neuroml2\" ', name_='Projection', pretty_print=True)\n",
      " |  \n",
      " |  exportHdf5(self, h5file, h5Group)\n",
      " |      Export to HDF5 file.\n",
      " |  \n",
      " |  validate_NmlId(self, value)\n",
      " |  \n",
      " |  ----------------------------------------------------------------------\n",
      " |  Static methods defined here:\n",
      " |  \n",
      " |  factory(*args_, **kwargs_)\n",
      " |  \n",
      " |  ----------------------------------------------------------------------\n",
      " |  Data and other attributes defined here:\n",
      " |  \n",
      " |  member_data_items_ = [<neuroml.nml.nml.MemberSpec_ object>, <neuroml.n...\n",
      " |  \n",
      " |  subclass = None\n",
      " |  \n",
      " |  superclass = <class 'neuroml.nml.nml.BaseProjection'>\n",
      " |      BaseProjection -- Base for projection (set of synaptic connections) between two populations\n",
      " |  \n",
      " |  \n",
      " |  validate_NmlId_patterns_ = [['^([a-zA-Z_][a-zA-Z0-9_]*)$']]\n",
      " |  \n",
      " |  ----------------------------------------------------------------------\n",
      " |  Methods inherited from BaseWithoutId:\n",
      " |  \n",
      " |  add(self, obj=None, hint=None, force=False)\n",
      " |      Generic function to allow easy addition of a new member to a NeuroML object.\n",
      " |      \n",
      " |      Without arguments, when `obj=None`, it simply calls the `info()` method\n",
      " |      to provide the list of valid member types for the NeuroML class.\n",
      " |      \n",
      " |      Use `info(show_contents=True)` to see the valid members of this class,\n",
      " |      and their current contents.\n",
      " |      \n",
      " |      :param obj: object member to add\n",
      " |      :type obj: any NeuroML Type defined by the API\n",
      " |      :param hint: member name to add to when there are multiple members that `obj` can be added to\n",
      " |      :type hint: string\n",
      " |      :param force: boolean to force addition when an obj has already been added previously\n",
      " |      :type force: bool\n",
      " |      \n",
      " |      :raises Exception: if a member compatible to obj could not be found\n",
      " |      :raises Exception: if multiple members can accept the object and no hint is provided.\n",
      " |  \n",
      " |  get_members(self)\n",
      " |      Get member data items, also from ancestors.\n",
      " |      \n",
      " |      This function is required because generateDS does not include inherited\n",
      " |      members in the member_data_items list for a derived class. So, for\n",
      " |      example, while IonChannelHH has `gate_hh_rates` which it inherits from\n",
      " |      IonChannel, IonChannelHH's `member_data_items_` is empty. It relies on\n",
      " |      the IonChannel classes' `member_data_items_` list.\n",
      " |      \n",
      " |      :returns: list of members, including ones inherited from ancestors.\n",
      " |  \n",
      " |  info(self, show_contents=False)\n",
      " |      A helper function to get a list of members of this class.\n",
      " |      \n",
      " |      This is useful to quickly check what members can go into a particular\n",
      " |      NeuroML class (which will match the Schema definitions). It lists these\n",
      " |      members and notes whether they are \"single\" type elements (Child\n",
      " |      elements) or \"List\" elements (Children elements). It will also note\n",
      " |      whether a member is optional or required.\n",
      " |      \n",
      " |      See http://www.davekuhlman.org/generateDS.html#user-methods for more\n",
      " |      information on the MemberSpec_ class that generateDS uses.\n",
      " |      \n",
      " |      :param show_contents: also prints out the contents of the members\n",
      " |      :type show_contents: bool\n",
      " |      \n",
      " |      :returns: the string (for testing purposes)\n",
      " |  \n",
      " |  validate_NeuroLexId(self, value)\n",
      " |  \n",
      " |  ----------------------------------------------------------------------\n",
      " |  Data and other attributes inherited from BaseWithoutId:\n",
      " |  \n",
      " |  validate_NeuroLexId_patterns_ = [['^([a-zA-Z0-9_:]*)$']]\n",
      " |  \n",
      " |  ----------------------------------------------------------------------\n",
      " |  Methods inherited from GeneratedsSuper:\n",
      " |  \n",
      " |  __eq__(self, other)\n",
      " |      Return self==value.\n",
      " |  \n",
      " |  __ne__(self, other)\n",
      " |      Return self!=value.\n",
      " |  \n",
      " |  gds_build_any(self, node, type_name=None)\n",
      " |  \n",
      " |  gds_check_cardinality_(self, value, input_name, min_occurs=0, max_occurs=1, required=None)\n",
      " |  \n",
      " |  gds_djo_etl_transform(self)\n",
      " |      # Django ETL transform hooks.\n",
      " |  \n",
      " |  gds_djo_etl_transform_db_obj(self, dbobj)\n",
      " |  \n",
      " |  gds_format_base64(self, input_data, input_name='')\n",
      " |  \n",
      " |  gds_format_boolean(self, input_data, input_name='')\n",
      " |  \n",
      " |  gds_format_boolean_list(self, input_data, input_name='')\n",
      " |  \n",
      " |  gds_format_date(self, input_data, input_name='')\n",
      " |  \n",
      " |  gds_format_datetime(self, input_data, input_name='')\n",
      " |  \n",
      " |  gds_format_decimal(self, input_data, input_name='')\n",
      " |  \n",
      " |  gds_format_decimal_list(self, input_data, input_name='')\n",
      " |  \n",
      " |  gds_format_double(self, input_data, input_name='')\n",
      " |  \n",
      " |  gds_format_double_list(self, input_data, input_name='')\n",
      " |  \n",
      " |  gds_format_float(self, input_data, input_name='')\n",
      " |  \n",
      " |  gds_format_float_list(self, input_data, input_name='')\n",
      " |  \n",
      " |  gds_format_integer(self, input_data, input_name='')\n",
      " |  \n",
      " |  gds_format_integer_list(self, input_data, input_name='')\n",
      " |  \n",
      " |  gds_format_string(self, input_data, input_name='')\n",
      " |  \n",
      " |  gds_format_time(self, input_data, input_name='')\n",
      " |  \n",
      " |  gds_get_node_lineno_(self)\n",
      " |  \n",
      " |  gds_parse_boolean(self, input_data, node=None, input_name='')\n",
      " |  \n",
      " |  gds_parse_decimal(self, input_data, node=None, input_name='')\n",
      " |  \n",
      " |  gds_parse_double(self, input_data, node=None, input_name='')\n",
      " |  \n",
      " |  gds_parse_float(self, input_data, node=None, input_name='')\n",
      " |  \n",
      " |  gds_parse_integer(self, input_data, node=None, input_name='')\n",
      " |  \n",
      " |  gds_parse_string(self, input_data, node=None, input_name='')\n",
      " |  \n",
      " |  gds_sqa_etl_transform(self)\n",
      " |      # SQLAlchemy ETL transform hooks.\n",
      " |  \n",
      " |  gds_sqa_etl_transform_db_obj(self, dbobj)\n",
      " |  \n",
      " |  gds_str_lower(self, instring)\n",
      " |  \n",
      " |  gds_validate_base64(self, input_data, node=None, input_name='')\n",
      " |  \n",
      " |  gds_validate_boolean(self, input_data, node=None, input_name='')\n",
      " |  \n",
      " |  gds_validate_boolean_list(self, input_data, node=None, input_name='')\n",
      " |  \n",
      " |  gds_validate_builtin_ST_(self, validator, value, input_name, min_occurs=None, max_occurs=None, required=None)\n",
      " |  \n",
      " |  gds_validate_date(self, input_data, node=None, input_name='')\n",
      " |  \n",
      " |  gds_validate_datetime(self, input_data, node=None, input_name='')\n",
      " |  \n",
      " |  gds_validate_decimal(self, input_data, node=None, input_name='')\n",
      " |  \n",
      " |  gds_validate_decimal_list(self, input_data, node=None, input_name='')\n",
      " |  \n",
      " |  gds_validate_defined_ST_(self, validator, value, input_name, min_occurs=None, max_occurs=None, required=None)\n",
      " |  \n",
      " |  gds_validate_double(self, input_data, node=None, input_name='')\n",
      " |  \n",
      " |  gds_validate_double_list(self, input_data, node=None, input_name='')\n",
      " |  \n",
      " |  gds_validate_float(self, input_data, node=None, input_name='')\n",
      " |  \n",
      " |  gds_validate_float_list(self, input_data, node=None, input_name='')\n",
      " |  \n",
      " |  gds_validate_integer(self, input_data, node=None, input_name='')\n",
      " |  \n",
      " |  gds_validate_integer_list(self, input_data, node=None, input_name='')\n",
      " |  \n",
      " |  gds_validate_simple_patterns(self, patterns, target)\n",
      " |  \n",
      " |  gds_validate_string(self, input_data, node=None, input_name='')\n",
      " |  \n",
      " |  gds_validate_time(self, input_data, node=None, input_name='')\n",
      " |  \n",
      " |  get_class_obj_(self, node, default_class=None)\n",
      " |  \n",
      " |  get_path_(self, node)\n",
      " |  \n",
      " |  get_path_list_(self, node, path_list)\n",
      " |  \n",
      " |  ----------------------------------------------------------------------\n",
      " |  Class methods inherited from GeneratedsSuper:\n",
      " |  \n",
      " |  gds_parse_date(input_data) from builtins.type\n",
      " |  \n",
      " |  gds_parse_datetime(input_data) from builtins.type\n",
      " |  \n",
      " |  gds_parse_time(input_data) from builtins.type\n",
      " |  \n",
      " |  gds_reverse_node_mapping(mapping) from builtins.type\n",
      " |  \n",
      " |  ----------------------------------------------------------------------\n",
      " |  Static methods inherited from GeneratedsSuper:\n",
      " |  \n",
      " |  convert_unicode(instring)\n",
      " |  \n",
      " |  gds_encode(instring)\n",
      " |  \n",
      " |  ----------------------------------------------------------------------\n",
      " |  Data and other attributes inherited from GeneratedsSuper:\n",
      " |  \n",
      " |  Tag_strip_pattern_ = re.compile('\\\\{.*\\\\}')\n",
      " |  \n",
      " |  tzoff_pattern = re.compile('(\\\\+|-)((0\\\\d|1[0-3]):[0-5]\\\\d|14:00)$')\n",
      " |  \n",
      " |  ----------------------------------------------------------------------\n",
      " |  Data descriptors inherited from GeneratedsSuperSuper:\n",
      " |  \n",
      " |  __dict__\n",
      " |      dictionary for instance variables (if defined)\n",
      " |  \n",
      " |  __weakref__\n",
      " |      list of weak references to the object (if defined)\n",
      "\n"
     ]
    },
    {
     "data": {
      "text/plain": [
       "'IzNet'"
      ]
     },
     "execution_count": 17,
     "metadata": {},
     "output_type": "execute_result"
    }
   ],
   "source": [
    "help(Projection)\n",
    "net.id"
   ]
  },
  {
   "cell_type": "code",
   "execution_count": 8,
   "metadata": {},
   "outputs": [],
   "source": [
    "proj = Projection(id='proj', presynaptic_population=pop0.id,\n",
    "                  postsynaptic_population=pop1.id, synapse=syn0.id)\n",
    "net.add(proj)\n",
    "# net.projections.append(proj)"
   ]
  },
  {
   "cell_type": "markdown",
   "metadata": {},
   "source": [
    "### Add the projections between populations and the external inputs"
   ]
  },
  {
   "cell_type": "code",
   "execution_count": 9,
   "metadata": {},
   "outputs": [],
   "source": [
    "random.seed(123)\n",
    "prob_connection = 0.8\n",
    "count = 0\n",
    "for pre in range(0, size0):\n",
    "    pg = PulseGenerator(\n",
    "        id=\"pg_%i\" % pre, delay=\"0ms\", duration=\"10000ms\",\n",
    "        amplitude=\"%f nA\" % (0.1 + 0.1 * random.random())\n",
    "    )\n",
    "    nml_doc.add(pg)\n",
    "    # nml_doc.pulse_generators.append(pg)\n",
    "\n",
    "    exp_input = ExplicitInput(target=\"%s[%i]\" % (pop0.id, pre), input=pg.id)\n",
    "    net.add(exp_input)\n",
    "    # net.explicit_inputs.append(exp_input)\n",
    "\n",
    "    for post in range(0, size1):\n",
    "        if random.random() <= prob_connection:\n",
    "            syn = Connection(id=count,\n",
    "                             pre_cell_id=\"../%s[%i]\" % (pop0.id, pre),\n",
    "                             synapse=syn0.id,\n",
    "                             post_cell_id=\"../%s[%i]\" % (pop1.id, post))\n",
    "            proj.add(syn)\n",
    "            # proj.connections.append(syn)\n",
    "            count += 1"
   ]
  },
  {
   "cell_type": "markdown",
   "metadata": {},
   "source": [
    "### Write the NeuroML model to a NeuroML file and validate it"
   ]
  },
  {
   "cell_type": "code",
   "execution_count": 10,
   "metadata": {},
   "outputs": [
    {
     "name": "stderr",
     "output_type": "stream",
     "text": [
      "pyNeuroML >>> INFO - Executing: (java -Xmx400M  -jar  \"/usr/share/java/jNeuroML-0.11.1.jar\" -validate \"izhikevich2007_network.nml\" ) in directory: .\n"
     ]
    },
    {
     "name": "stdout",
     "output_type": "stream",
     "text": [
      "Written network file to: izhikevich2007_network.nml\n"
     ]
    },
    {
     "name": "stderr",
     "output_type": "stream",
     "text": [
      "pyNeuroML >>> INFO - Command completed. Output: \n",
      "  jNeuroML >>   jNeuroML v0.11.1\n",
      "  jNeuroML >>  Validating: /home/asinha/Documents/02_Code/00_mine/2020-OSB/NeuroML-Documentation/source/Userdocs/NML2_examples/izhikevich2007_network.nml\n",
      "  jNeuroML >>  Valid against schema and all tests\n",
      "  jNeuroML >>  No warnings\n",
      "  jNeuroML >>  \n",
      "  jNeuroML >>  Validated 1 files: All valid and no warnings\n",
      "  jNeuroML >>  \n",
      "  jNeuroML >>  \n"
     ]
    },
    {
     "data": {
      "text/plain": [
       "True"
      ]
     },
     "execution_count": 10,
     "metadata": {},
     "output_type": "execute_result"
    }
   ],
   "source": [
    "nml_file = 'izhikevich2007_network.nml'\n",
    "writers.NeuroMLWriter.write(nml_doc, nml_file)\n",
    "\n",
    "print(\"Written network file to: \" + nml_file)\n",
    "pynml.validate_neuroml2(nml_file)"
   ]
  },
  {
   "cell_type": "markdown",
   "metadata": {},
   "source": [
    "## Simulating the model\n",
    "### Create a simulation instance of the model"
   ]
  },
  {
   "cell_type": "code",
   "execution_count": 11,
   "metadata": {},
   "outputs": [
    {
     "name": "stderr",
     "output_type": "stream",
     "text": [
      "pyNeuroML >>> INFO - Loading NeuroML2 file: /home/asinha/Documents/02_Code/00_mine/2020-OSB/NeuroML-Documentation/source/Userdocs/NML2_examples/izhikevich2007_network.nml\n"
     ]
    },
    {
     "name": "stdout",
     "output_type": "stream",
     "text": [
      "<?xml version=\"1.0\" ?>\n",
      "<neuroml xmlns:xs=\"http://www.w3.org/2001/XMLSchema\" xmlns:xsi=\"http://www.w3.org/2001/XMLSchema-instance\" id=\"IzNet\">\n",
      "    <expOneSynapse id=\"syn0\" gbase=\"65nS\" erev=\"0mV\" tauDecay=\"3ms\"/>\n",
      "    <izhikevich2007Cell id=\"iz2007RS0\" C=\"100pF\" v0=\"-60mV\" k=\"0.7nS_per_mV\" vr=\"-60mV\" vt=\"-40mV\" vpeak=\"35mV\" a=\"0.03per_ms\" b=\"-2nS\" c=\"-50.0mV\" d=\"100pA\"/>\n",
      "    <pulseGenerator id=\"pg_0\" delay=\"0ms\" duration=\"10000ms\" amplitude=\"0.105236 nA\"/>\n",
      "    <pulseGenerator id=\"pg_1\" delay=\"0ms\" duration=\"10000ms\" amplitude=\"0.153620 nA\"/>\n",
      "    <pulseGenerator id=\"pg_2\" delay=\"0ms\" duration=\"10000ms\" amplitude=\"0.124516 nA\"/>\n",
      "    <pulseGenerator id=\"pg_3\" delay=\"0ms\" duration=\"10000ms\" amplitude=\"0.131546 nA\"/>\n",
      "    <pulseGenerator id=\"pg_4\" delay=\"0ms\" duration=\"10000ms\" amplitude=\"0.102124 nA\"/>\n",
      "    <network id=\"IzNet\">\n",
      "        <population id=\"IzPop0\" component=\"iz2007RS0\" size=\"5\"/>\n",
      "        <population id=\"IzPop1\" component=\"iz2007RS0\" size=\"5\"/>\n",
      "        <projection id=\"proj\" presynapticPopulation=\"IzPop0\" postsynapticPopulation=\"IzPop1\" synapse=\"syn0\">\n",
      "            <connection id=\"0\" preCellId=\"../IzPop0[0]\" postCellId=\"../IzPop1[0]\"/>\n",
      "            <connection id=\"1\" preCellId=\"../IzPop0[0]\" postCellId=\"../IzPop1[1]\"/>\n",
      "            <connection id=\"2\" preCellId=\"../IzPop0[0]\" postCellId=\"../IzPop1[2]\"/>\n",
      "            <connection id=\"3\" preCellId=\"../IzPop0[0]\" postCellId=\"../IzPop1[4]\"/>\n",
      "            <connection id=\"4\" preCellId=\"../IzPop0[1]\" postCellId=\"../IzPop1[0]\"/>\n",
      "            <connection id=\"5\" preCellId=\"../IzPop0[1]\" postCellId=\"../IzPop1[2]\"/>\n",
      "            <connection id=\"6\" preCellId=\"../IzPop0[1]\" postCellId=\"../IzPop1[3]\"/>\n",
      "            <connection id=\"7\" preCellId=\"../IzPop0[1]\" postCellId=\"../IzPop1[4]\"/>\n",
      "            <connection id=\"8\" preCellId=\"../IzPop0[2]\" postCellId=\"../IzPop1[0]\"/>\n",
      "            <connection id=\"9\" preCellId=\"../IzPop0[2]\" postCellId=\"../IzPop1[1]\"/>\n",
      "            <connection id=\"10\" preCellId=\"../IzPop0[2]\" postCellId=\"../IzPop1[2]\"/>\n",
      "            <connection id=\"11\" preCellId=\"../IzPop0[2]\" postCellId=\"../IzPop1[3]\"/>\n",
      "            <connection id=\"12\" preCellId=\"../IzPop0[2]\" postCellId=\"../IzPop1[4]\"/>\n",
      "            <connection id=\"13\" preCellId=\"../IzPop0[3]\" postCellId=\"../IzPop1[0]\"/>\n",
      "            <connection id=\"14\" preCellId=\"../IzPop0[3]\" postCellId=\"../IzPop1[2]\"/>\n",
      "            <connection id=\"15\" preCellId=\"../IzPop0[3]\" postCellId=\"../IzPop1[3]\"/>\n",
      "            <connection id=\"16\" preCellId=\"../IzPop0[3]\" postCellId=\"../IzPop1[4]\"/>\n",
      "            <connection id=\"17\" preCellId=\"../IzPop0[4]\" postCellId=\"../IzPop1[1]\"/>\n",
      "            <connection id=\"18\" preCellId=\"../IzPop0[4]\" postCellId=\"../IzPop1[2]\"/>\n",
      "            <connection id=\"19\" preCellId=\"../IzPop0[4]\" postCellId=\"../IzPop1[4]\"/>\n",
      "        </projection>\n",
      "        <explicitInput target=\"IzPop0[0]\" input=\"pg_0\"/>\n",
      "        <explicitInput target=\"IzPop0[1]\" input=\"pg_1\"/>\n",
      "        <explicitInput target=\"IzPop0[2]\" input=\"pg_2\"/>\n",
      "        <explicitInput target=\"IzPop0[3]\" input=\"pg_3\"/>\n",
      "        <explicitInput target=\"IzPop0[4]\" input=\"pg_4\"/>\n",
      "    </network>\n",
      "</neuroml>\n"
     ]
    }
   ],
   "source": [
    "simulation_id = \"example_izhikevich2007network_sim\"\n",
    "simulation = LEMSSimulation(sim_id=simulation_id,\n",
    "                            duration=1000, dt=0.1, simulation_seed=123)\n",
    "simulation.assign_simulation_target(net.id)\n",
    "simulation.include_neuroml2_file(nml_file)"
   ]
  },
  {
   "cell_type": "markdown",
   "metadata": {},
   "source": [
    "### Define the output file to store spikes"
   ]
  },
  {
   "cell_type": "code",
   "execution_count": 12,
   "metadata": {},
   "outputs": [],
   "source": [
    "simulation.create_event_output_file(\n",
    "    \"pop0\", \"%s.0.spikes.dat\" % simulation_id, format='ID_TIME'\n",
    ")\n",
    "for pre in range(0, size0):\n",
    "    simulation.add_selection_to_event_output_file(\n",
    "        \"pop0\", pre, 'IzPop0[{}]'.format(pre), 'spike')\n",
    "\n",
    "simulation.create_event_output_file(\n",
    "    \"pop1\", \"%s.1.spikes.dat\" % simulation_id, format='ID_TIME'\n",
    ")\n",
    "for pre in range(0, size1):\n",
    "    simulation.add_selection_to_event_output_file(\n",
    "        \"pop1\", pre, 'IzPop1[{}]'.format(pre), 'spike')"
   ]
  },
  {
   "cell_type": "markdown",
   "metadata": {},
   "source": [
    "## Save the simulation to a file"
   ]
  },
  {
   "cell_type": "code",
   "execution_count": 13,
   "metadata": {},
   "outputs": [],
   "source": [
    "lems_simulation_file = simulation.save_to_file()"
   ]
  },
  {
   "cell_type": "markdown",
   "metadata": {},
   "source": [
    "## Run the simulation using jNeuroML"
   ]
  },
  {
   "cell_type": "code",
   "execution_count": 14,
   "metadata": {},
   "outputs": [
    {
     "name": "stderr",
     "output_type": "stream",
     "text": [
      "pyNeuroML >>> INFO - Loading LEMS file: LEMS_example_izhikevich2007network_sim.xml and running with jNeuroML\n",
      "pyNeuroML >>> INFO - Executing: (java -Xmx2G  -Djava.awt.headless=true -jar  \"/usr/share/java/jNeuroML-0.11.1.jar\"  \"LEMS_example_izhikevich2007network_sim.xml\"  -nogui -I '') in directory: .\n",
      "pyNeuroML >>> INFO - Command completed. Output: \n",
      "  jNeuroML >>   jNeuroML v0.11.1\n",
      "  jNeuroML >>  Loading: /home/asinha/Documents/02_Code/00_mine/2020-OSB/NeuroML-Documentation/source/Userdocs/NML2_examples/LEMS_example_izhikevich2007network_sim.xml with jLEMS, NO GUI mode...\n",
      "  jNeuroML >>  INFO Jul 22,2022 17:36  (INFO) Loading LEMS file from: /home/asinha/Documents/02_Code/00_mine/2020-OSB/NeuroML-Documentation/source/Userdocs/NML2_examples/LEMS_example_izhikevich2007network_sim.xml\n",
      "  jNeuroML >>  INFO Jul 22,2022 17:36  (INFO) Reading from: /home/asinha/Documents/02_Code/00_mine/2020-OSB/NeuroML-Documentation/source/Userdocs/NML2_examples/LEMS_example_izhikevich2007network_sim.xml\n",
      "  jNeuroML >>  INFO Jul 22,2022 17:36  (INFO) Finished 10000 steps in 0.404 seconds (sim duration: 1000.0ms; dt: 0.1ms)\n",
      "  jNeuroML >>  INFO Jul 22,2022 17:36  (INFO) Written to the event file /home/asinha/Documents/02_Code/00_mine/2020-OSB/NeuroML-Documentation/source/Userdocs/NML2_examples/./example_izhikevich2007network_sim.0.spikes.dat 817\n",
      "  jNeuroML >>  INFO Jul 22,2022 17:36  (INFO) Written to the event file /home/asinha/Documents/02_Code/00_mine/2020-OSB/NeuroML-Documentation/source/Userdocs/NML2_examples/./example_izhikevich2007network_sim.1.spikes.dat 3097\n",
      "  jNeuroML >>  INFO Jul 22,2022 17:36  (INFO) Finished reading, building, running and displaying LEMS model\n",
      "  jNeuroML >>  \n"
     ]
    },
    {
     "data": {
      "text/plain": [
       "True"
      ]
     },
     "execution_count": 14,
     "metadata": {},
     "output_type": "execute_result"
    }
   ],
   "source": [
    "pynml.run_lems_with_jneuroml(\n",
    "    lems_simulation_file, max_memory=\"2G\", nogui=True, plot=False\n",
    ")"
   ]
  },
  {
   "cell_type": "markdown",
   "metadata": {},
   "source": [
    "## Plot the recorded data"
   ]
  },
  {
   "cell_type": "code",
   "execution_count": 15,
   "metadata": {
    "scrolled": true
   },
   "outputs": [
    {
     "name": "stderr",
     "output_type": "stream",
     "text": [
      "pyNeuroML >>> INFO - Generating plot: Spike times\n",
      "/usr/lib/python3.10/site-packages/pyneuroml/pynml.py:2612: UserWarning: marker is redundantly defined by the 'marker' keyword argument and the fmt string \"o\" (-> marker='o'). The keyword argument will take precedence.\n",
      "  plt.plot(\n",
      "pyNeuroML >>> INFO - Saving image to /home/asinha/Documents/02_Code/00_mine/2020-OSB/NeuroML-Documentation/source/Userdocs/NML2_examples/example_izhikevich2007network_sim-spikes.png of plot: Spike times\n",
      "pyNeuroML >>> INFO - Saved image to example_izhikevich2007network_sim-spikes.png of plot: Spike times\n"
     ]
    },
    {
     "data": {
      "text/plain": [
       "<AxesSubplot:xlabel='time (s)', ylabel='cell ID'>"
      ]
     },
     "execution_count": 15,
     "metadata": {},
     "output_type": "execute_result"
    },
    {
     "data": {
      "image/png": "[encoded data removed]",
      "text/plain": [
       "<Figure size 432x288 with 1 Axes>"
      ]
     },
     "metadata": {
      "needs_background": "light"
     },
     "output_type": "display_data"
    }
   ],
   "source": [
    "# Load the data from the file and plot the spike times\n",
    "# using the pynml generate_plot utility function.\n",
    "data_array_0 = np.loadtxt(\"%s.0.spikes.dat\" % simulation_id)\n",
    "data_array_1 = np.loadtxt(\"%s.1.spikes.dat\" % simulation_id)\n",
    "times_0 = data_array_0[:,1]\n",
    "times_1 = data_array_1[:,1]\n",
    "ids_0 = data_array_0[:,0]\n",
    "ids_1 = [id+size0 for id in data_array_1[:,0]]\n",
    "pynml.generate_plot(\n",
    "    [times_0,times_1], [ids_0,ids_1],\n",
    "    \"Spike times\", show_plot_already=False,\n",
    "    save_figure_to=\"%s-spikes.png\" % simulation_id,\n",
    "    xaxis=\"time (s)\", yaxis=\"cell ID\",\n",
    "    colors=['b','r'],\n",
    "    linewidths=['0','0'], markers=['.','.'],\n",
    ")"
   ]
  },
  {
   "cell_type": "code",
   "execution_count": null,
   "metadata": {},
   "outputs": [],
   "source": []
  }
 ],
 "metadata": {
  "kernelspec": {
   "display_name": "Python 3 (ipykernel)",
   "language": "python",
   "name": "python3"
  },
  "language_info": {
   "codemirror_mode": {
    "name": "ipython",
    "version": 3
   },
   "file_extension": ".py",
   "mimetype": "text/x-python",
   "name": "python",
   "nbconvert_exporter": "python",
   "pygments_lexer": "ipython3",
   "version": "3.10.5"
  }
 },
 "nbformat": 4,
 "nbformat_minor": 4
}
