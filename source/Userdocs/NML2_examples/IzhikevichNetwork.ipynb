{
 "cells": [
  {
   "cell_type": "markdown",
   "metadata": {},
   "source": [
    "# Interactive two population network example\n",
    "\n",
    "To run this interactive Jupyter Notebook, please click on the rocket icon 🚀 in the top panel. ",
    "For more information, please see {ref}`how to use this documentation <userdocs:usage:jupyterbooks>`. ",
    "Please uncomment the line below if you use the Google Colab. (It does not include these packages by default)."
   ]
  },
  {
   "cell_type": "code",
   "execution_count": 1,
   "metadata": {},
   "outputs": [],
   "source": [
    "#%pip install pyneuroml neuromllite NEURON"
   ]
  },
  {
   "cell_type": "code",
   "execution_count": 2,
   "metadata": {},
   "outputs": [],
   "source": [
    "#!/usr/bin/env python3\n",
    "\"\"\"\n",
    "Create a simple network with two populations.\n",
    "\"\"\"\n",
    "\n",
    "from neuroml import NeuroMLDocument\n",
    "from neuroml import Izhikevich2007Cell\n",
    "from neuroml import Network\n",
    "from neuroml import ExpOneSynapse\n",
    "from neuroml import Population\n",
    "from neuroml import Projection\n",
    "from neuroml import PulseGenerator\n",
    "from neuroml import ExplicitInput\n",
    "from neuroml import Connection\n",
    "from neuroml import Property\n",
    "import neuroml.writers as writers\n",
    "import random\n",
    "from pyneuroml import pynml\n",
    "from pyneuroml.lems import LEMSSimulation\n",
    "import numpy as np"
   ]
  },
  {
   "cell_type": "markdown",
   "metadata": {},
   "source": [
    "## Declaring the NeuroML model"
   ]
  },
  {
   "cell_type": "markdown",
   "metadata": {},
   "source": [
    "### Create a NeuroML document"
   ]
  },
  {
   "cell_type": "code",
   "execution_count": 3,
   "metadata": {},
   "outputs": [],
   "source": [
    "nml_doc = NeuroMLDocument(id=\"IzNet\")"
   ]
  },
  {
   "cell_type": "markdown",
   "metadata": {},
   "source": [
    "### Declare the Izhikevich cell and add it to the model document"
   ]
  },
  {
   "cell_type": "code",
   "execution_count": 4,
   "metadata": {},
   "outputs": [],
   "source": [
    "iz0 = Izhikevich2007Cell(\n",
    "    id=\"iz2007RS0\", v0=\"-60mV\", C=\"100pF\", k=\"0.7nS_per_mV\", vr=\"-60mV\",\n",
    "    vt=\"-40mV\", vpeak=\"35mV\", a=\"0.03per_ms\", b=\"-2nS\", c=\"-50.0mV\", d=\"100pA\")\n",
    "nml_doc.izhikevich2007_cells.append(iz0)"
   ]
  },
  {
   "cell_type": "markdown",
   "metadata": {},
   "source": [
    "### Declare the Synapse and add it to the model document"
   ]
  },
  {
   "cell_type": "code",
   "execution_count": 5,
   "metadata": {},
   "outputs": [],
   "source": [
    "syn0 = ExpOneSynapse(id=\"syn0\", gbase=\"65nS\", erev=\"0mV\", tau_decay=\"3ms\")\n",
    "nml_doc.exp_one_synapses.append(syn0)"
   ]
  },
  {
   "cell_type": "markdown",
   "metadata": {},
   "source": [
    "### Declare a Network and add it to the model document"
   ]
  },
  {
   "cell_type": "code",
   "execution_count": 6,
   "metadata": {},
   "outputs": [],
   "source": [
    "net = Network(id=\"IzNet\")\n",
    "nml_doc.networks.append(net)"
   ]
  },
  {
   "cell_type": "markdown",
   "metadata": {},
   "source": [
    "### Create two populations"
   ]
  },
  {
   "cell_type": "code",
   "execution_count": 7,
   "metadata": {},
   "outputs": [],
   "source": [
    "size0 = 5\n",
    "pop0 = Population(id=\"IzPop0\", component=iz0.id, size=size0)\n",
    "net.populations.append(pop0)\n",
    "\n",
    "size1 = 5\n",
    "pop1 = Population(id=\"IzPop1\", component=iz0.id, size=size1)\n",
    "net.populations.append(pop1)"
   ]
  },
  {
   "cell_type": "markdown",
   "metadata": {},
   "source": [
    "### Declare projections"
   ]
  },
  {
   "cell_type": "code",
   "execution_count": 8,
   "metadata": {},
   "outputs": [],
   "source": [
    "proj = Projection(id='proj', presynaptic_population=pop0.id,\n",
    "                  postsynaptic_population=pop1.id, synapse=syn0.id)\n",
    "net.projections.append(proj)"
   ]
  },
  {
   "cell_type": "markdown",
   "metadata": {},
   "source": [
    "### Add the projections between populations and the external inputs"
   ]
  },
  {
   "cell_type": "code",
   "execution_count": 9,
   "metadata": {},
   "outputs": [],
   "source": [
    "random.seed(123)\n",
    "prob_connection = 0.8\n",
    "count = 0\n",
    "for pre in range(0, size0):\n",
    "    pg = PulseGenerator(\n",
    "        id=\"pg_%i\" % pre, delay=\"0ms\", duration=\"10000ms\",\n",
    "        amplitude=\"%f nA\" % (0.1 + 0.1 * random.random())\n",
    "    )\n",
    "    nml_doc.pulse_generators.append(pg)\n",
    "\n",
    "    exp_input = ExplicitInput(target=\"%s[%i]\" % (pop0.id, pre), input=pg.id)\n",
    "    net.explicit_inputs.append(exp_input)\n",
    "\n",
    "    for post in range(0, size1):\n",
    "        if random.random() <= prob_connection:\n",
    "            syn = Connection(id=count,\n",
    "                             pre_cell_id=\"../%s[%i]\" % (pop0.id, pre),\n",
    "                             synapse=syn0.id,\n",
    "                             post_cell_id=\"../%s[%i]\" % (pop1.id, post))\n",
    "            proj.connections.append(syn)\n",
    "            count += 1"
   ]
  },
  {
   "cell_type": "markdown",
   "metadata": {},
   "source": [
    "### Write the NeuroML model to a NeuroML file and validate it"
   ]
  },
  {
   "cell_type": "code",
   "execution_count": 10,
   "metadata": {},
   "outputs": [
    {
     "name": "stdout",
     "output_type": "stream",
     "text": [
      "Written network file to: izhikevich2007_network.nml\n",
      "pyNeuroML >>> Running jnml on izhikevich2007_network.nml with pre args: [-validate], post args: [], in dir: ., verbose: True, report: True, exit on fail: False\n",
      "pyNeuroML >>> Executing: (java -Xmx400M  -jar  \"/home/padraig/anaconda2/envs/py37/lib/python3.7/site-packages/pyNeuroML-0.5.13-py3.7.egg/pyneuroml/lib/jNeuroML-0.11.0-jar-with-dependencies.jar\" -validate \"izhikevich2007_network.nml\" ) in directory: .\n",
      "pyNeuroML >>> Command completed. Output: \n",
      "pyNeuroML >>>   jNeuroML >>   jNeuroML v0.11.0\n",
      "pyNeuroML >>>   jNeuroML >>  Validating: /home/padraig/git/Documentation/source/Userdocs/NML2_examples/izhikevich2007_network.nml\n",
      "pyNeuroML >>>   jNeuroML >>  Valid against schema and all tests\n",
      "pyNeuroML >>>   jNeuroML >>  No warnings\n",
      "pyNeuroML >>>   jNeuroML >>  \n",
      "pyNeuroML >>>   jNeuroML >>  Validated 1 files: All valid and no warnings\n",
      "pyNeuroML >>>   jNeuroML >>  \n",
      "pyNeuroML >>>   jNeuroML >>  \n",
      "pyNeuroML >>> Successfully ran the following command using pyNeuroML v0.5.13: \n",
      "pyNeuroML >>>     java -Xmx400M  -jar  \"/home/padraig/anaconda2/envs/py37/lib/python3.7/site-packages/pyNeuroML-0.5.13-py3.7.egg/pyneuroml/lib/jNeuroML-0.11.0-jar-with-dependencies.jar\" -validate \"izhikevich2007_network.nml\" \n",
      "pyNeuroML >>> Output:\n",
      "pyNeuroML >>> \n",
      "pyNeuroML >>>  jNeuroML v0.11.0\n",
      "pyNeuroML >>> Validating: /home/padraig/git/Documentation/source/Userdocs/NML2_examples/izhikevich2007_network.nml\n",
      "pyNeuroML >>> Valid against schema and all tests\n",
      "pyNeuroML >>> No warnings\n",
      "pyNeuroML >>> \n",
      "pyNeuroML >>> Validated 1 files: All valid and no warnings\n",
      "pyNeuroML >>> \n",
      "pyNeuroML >>> \n"
     ]
    },
    {
     "data": {
      "text/plain": [
       "True"
      ]
     },
     "execution_count": 10,
     "metadata": {},
     "output_type": "execute_result"
    }
   ],
   "source": [
    "nml_file = 'izhikevich2007_network.nml'\n",
    "writers.NeuroMLWriter.write(nml_doc, nml_file)\n",
    "\n",
    "print(\"Written network file to: \" + nml_file)\n",
    "pynml.validate_neuroml2(nml_file)"
   ]
  },
  {
   "cell_type": "markdown",
   "metadata": {},
   "source": [
    "## Simulating the model\n",
    "### Create a simulation instance of the model"
   ]
  },
  {
   "cell_type": "code",
   "execution_count": 11,
   "metadata": {},
   "outputs": [],
   "source": [
    "simulation_id = \"example_izhikevich2007network_sim\"\n",
    "simulation = LEMSSimulation(sim_id=simulation_id,\n",
    "                            duration=1000, dt=0.1, simulation_seed=123)\n",
    "simulation.assign_simulation_target(net.id)\n",
    "simulation.include_neuroml2_file(nml_file)"
   ]
  },
  {
   "cell_type": "markdown",
   "metadata": {},
   "source": [
    "### Define the output file to store spikes"
   ]
  },
  {
   "cell_type": "code",
   "execution_count": 12,
   "metadata": {},
   "outputs": [
    {
     "name": "stderr",
     "output_type": "stream",
     "text": [
      "/home/padraig/anaconda2/envs/py37/lib/python3.7/site-packages/ipykernel/ipkernel.py:287: DeprecationWarning: `should_run_async` will not call `transform_cell` automatically in the future. Please pass the result to `transformed_cell` argument and any exception that happen during thetransform in `preprocessing_exc_tuple` in IPython 7.17 and above.\n",
      "  and should_run_async(code)\n"
     ]
    }
   ],
   "source": [
    "simulation.create_event_output_file(\n",
    "    \"pop0\", \"%s.0.spikes.dat\" % simulation_id, format='ID_TIME'\n",
    ")\n",
    "for pre in range(0, size0):\n",
    "    simulation.add_selection_to_event_output_file(\n",
    "        \"pop0\", pre, 'IzPop0[{}]'.format(pre), 'spike')\n",
    "\n",
    "simulation.create_event_output_file(\n",
    "    \"pop1\", \"%s.1.spikes.dat\" % simulation_id, format='ID_TIME'\n",
    ")\n",
    "for pre in range(0, size1):\n",
    "    simulation.add_selection_to_event_output_file(\n",
    "        \"pop1\", pre, 'IzPop1[{}]'.format(pre), 'spike')"
   ]
  },
  {
   "cell_type": "markdown",
   "metadata": {},
   "source": [
    "## Save the simulation to a file"
   ]
  },
  {
   "cell_type": "code",
   "execution_count": 13,
   "metadata": {},
   "outputs": [
    {
     "name": "stdout",
     "output_type": "stream",
     "text": [
      "pyNeuroML >>> Written LEMS Simulation example_izhikevich2007network_sim to file: LEMS_example_izhikevich2007network_sim.xml\n"
     ]
    }
   ],
   "source": [
    "lems_simulation_file = simulation.save_to_file()"
   ]
  },
  {
   "cell_type": "markdown",
   "metadata": {},
   "source": [
    "## Run the simulation using jNeuroML"
   ]
  },
  {
   "cell_type": "code",
   "execution_count": 14,
   "metadata": {},
   "outputs": [
    {
     "data": {
      "text/plain": [
       "True"
      ]
     },
     "execution_count": 14,
     "metadata": {},
     "output_type": "execute_result"
    }
   ],
   "source": [
    "pynml.run_lems_with_jneuroml(\n",
    "    lems_simulation_file, max_memory=\"2G\", nogui=True, plot=False\n",
    ")"
   ]
  },
  {
   "cell_type": "markdown",
   "metadata": {},
   "source": [
    "## Plot the recorded data"
   ]
  },
  {
   "cell_type": "code",
   "execution_count": 15,
   "metadata": {
    "scrolled": true
   },
   "outputs": [
    {
     "name": "stdout",
     "output_type": "stream",
     "text": [
      "pyNeuroML >>> Generating plot: Spike times\n",
      "pyNeuroML >>> Saved image to example_izhikevich2007network_sim-spikes.png of plot: Spike times\n"
     ]
    },
    {
     "data": {
      "text/plain": [
       "<AxesSubplot:xlabel='time (s)', ylabel='cell ID'>"
      ]
     },
     "execution_count": 15,
     "metadata": {},
     "output_type": "execute_result"
    },
    {
     "data": {
      "image/png": "[encoded data removed]",
      "text/plain": [
       "<Figure size 432x288 with 1 Axes>"
      ]
     },
     "metadata": {
      "needs_background": "light"
     },
     "output_type": "display_data"
    }
   ],
   "source": [
    "# Load the data from the file and plot the spike times\n",
    "# using the pynml generate_plot utility function.\n",
    "data_array_0 = np.loadtxt(\"%s.0.spikes.dat\" % simulation_id)\n",
    "data_array_1 = np.loadtxt(\"%s.1.spikes.dat\" % simulation_id)\n",
    "times_0 = data_array_0[:,1]\n",
    "times_1 = data_array_1[:,1]\n",
    "ids_0 = data_array_0[:,0]\n",
    "ids_1 = [id+size0 for id in data_array_1[:,0]]\n",
    "pynml.generate_plot(\n",
    "    [times_0,times_1], [ids_0,ids_1],\n",
    "    \"Spike times\", show_plot_already=False,\n",
    "    save_figure_to=\"%s-spikes.png\" % simulation_id,\n",
    "    xaxis=\"time (s)\", yaxis=\"cell ID\",\n",
    "    colors=['b','r'],\n",
    "    linewidths=['0','0'], markers=['.','.'],\n",
    ")"
   ]
  },
  {
   "cell_type": "code",
   "execution_count": null,
   "metadata": {},
   "outputs": [],
   "source": []
  }
 ],
 "metadata": {
  "kernelspec": {
   "display_name": "Python 3",
   "language": "python",
   "name": "python3"
  },
  "language_info": {
   "codemirror_mode": {
    "name": "ipython",
    "version": 3
   },
   "file_extension": ".py",
   "mimetype": "text/x-python",
   "name": "python",
   "nbconvert_exporter": "python",
   "pygments_lexer": "ipython3",
   "version": "3.7.7"
  }
 },
 "nbformat": 4,
 "nbformat_minor": 4
}
