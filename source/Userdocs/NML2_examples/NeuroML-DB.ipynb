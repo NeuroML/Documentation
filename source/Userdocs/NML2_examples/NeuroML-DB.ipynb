{
 "cells": [
  {
   "cell_type": "markdown",
   "metadata": {},
   "source": [
    "# Create novel NeuroML models from components on NeuroML-DB\n",
    "\n",
    "This notebook demonstrates how to access the [NeuroML-DB database](https://neuroml-db.org), extract elements in NeuroML format and use them to create new models"
   ]
  },
  {
   "cell_type": "code",
   "execution_count": 1,
   "metadata": {},
   "outputs": [],
   "source": [
    "from pyneuroml import pynml\n"
   ]
  },
  {
   "cell_type": "markdown",
   "metadata": {},
   "source": [
    "## Create simple cell model from channels accessed via API\n"
   ]
  },
  {
   "cell_type": "code",
   "execution_count": 2,
   "metadata": {},
   "outputs": [
    {
     "name": "stdout",
     "output_type": "stream",
     "text": [
      "NMLCH000008: NaF Inactivating Fast Sodium, None 1998\n",
      "NMLCH000023: NaF Inactivating Fast Sodium, None 1998\n",
      "NMLCH000131: NaF Fast Sodium, None 2008\n",
      "NMLCL000002: Granule Cell, None 1998\n",
      "NMLCL000004: Golgi Cell, None 1998\n",
      "NMLCL001123: Fast Spiking (FS), None 2008\n",
      "NMLCL001124: Intrinsically Bursting (IB), None 2008\n",
      "NMLCL001125: Intrinsically Repetitive Bursting (IBR), None 2008\n",
      "NMLCL001126: Low Threshold Spiking (LTS), None 2008\n",
      "NMLCL001127: Regular Spiking (RS), None 2008\n"
     ]
    }
   ],
   "source": [
    "import urllib.request, json \n",
    "with urllib.request.urlopen('https://neuroml-db.org/api/search?q=\"Fast%20Sodium\"') as url:\n",
    "    data = json.load(url)\n",
    "    \n",
    "#print(data)\n",
    "for l in data:\n",
    "    print('%s: %s, %s %s'%(l['Model_ID'],l['Name'],l['First_Author'],l['Publication_Year']))"
   ]
  },
  {
   "cell_type": "code",
   "execution_count": 3,
   "metadata": {},
   "outputs": [
    {
     "name": "stderr",
     "output_type": "stream",
     "text": [
      "pyNeuroML >>> INFO - Loading NeuroML2 file: NMLCH000008.channel.nml\n"
     ]
    },
    {
     "name": "stdout",
     "output_type": "stream",
     "text": [
      "Channel Gran_NaF_98 has notes: Fast inactivating Na+ channel\n"
     ]
    }
   ],
   "source": [
    "# Choose the first\n",
    "chan_id = data[0]['Model_ID']\n",
    "\n",
    "import requests\n",
    "fname = '%s.channel.nml'%chan_id\n",
    "\n",
    "url = 'https://neuroml-db.org/render_xml_file?modelID=%s'%chan_id\n",
    "r = requests.get(url)\n",
    "with open(fname , 'wb') as f:\n",
    "    f.write(r.content)\n",
    "\n",
    "chan_doc = pynml.read_neuroml2_file(fname)\n",
    "\n",
    "chan = chan_doc.ion_channel[0]\n",
    "\n",
    "print('Channel %s has notes: %s'%(chan.id, chan.notes))"
   ]
  },
  {
   "cell_type": "code",
   "execution_count": null,
   "metadata": {},
   "outputs": [],
   "source": []
  },
  {
   "cell_type": "markdown",
   "metadata": {},
   "source": [
    "## Create simple network model from cell accessed via API\n"
   ]
  },
  {
   "cell_type": "code",
   "execution_count": null,
   "metadata": {},
   "outputs": [],
   "source": []
  }
 ],
 "metadata": {
  "kernelspec": {
   "display_name": "Python 3 (ipykernel)",
   "language": "python",
   "name": "python3"
  },
  "language_info": {
   "codemirror_mode": {
    "name": "ipython",
    "version": 3
   },
   "file_extension": ".py",
   "mimetype": "text/x-python",
   "name": "python",
   "nbconvert_exporter": "python",
   "pygments_lexer": "ipython3",
   "version": "3.7.7"
  }
 },
 "nbformat": 4,
 "nbformat_minor": 4
}
