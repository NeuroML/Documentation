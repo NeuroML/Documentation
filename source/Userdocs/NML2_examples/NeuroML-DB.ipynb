{
 "cells": [
  {
   "cell_type": "markdown",
   "metadata": {},
   "source": [
    "# Create novel NeuroML models from components on NeuroML-DB\n",
    "\n",
    "This notebook demonstrates how to access the [NeuroML-DB database](https://neuroml-db.org), extract elements in NeuroML format and use them to create new models"
   ]
  },
  {
   "cell_type": "code",
   "execution_count": 1,
   "metadata": {},
   "outputs": [],
   "source": [
    "from pyneuroml import pynml\n",
    "import urllib.request, json \n",
    "import requests\n"
   ]
  },
  {
   "cell_type": "markdown",
   "metadata": {},
   "source": [
    "## Create simple cell model from channels accessed via API\n",
    "\n",
    "### Search in the database for a particular type of channel\n"
   ]
  },
  {
   "cell_type": "code",
   "execution_count": 2,
   "metadata": {},
   "outputs": [
    {
     "name": "stdout",
     "output_type": "stream",
     "text": [
      "NMLCH000008: NaF Inactivating Fast Sodium, None 1998\n",
      "NMLCH000023: NaF Inactivating Fast Sodium, None 1998\n",
      "NMLCH000110: NaTa Fast Inactivating Sodium, None 2002\n",
      "NMLCH000111: NaTs Fast Inactivating Sodium, None 2002\n",
      "NMLCH000131: NaF Fast Sodium, None 2008\n",
      "NMLCH000157: NaF Fast Transient Inactivating Sodium, None 2003\n",
      "NMLCH000158: NaF Fast Transient Inactivating Sodium, None 2005\n",
      "NMLCH000159: NaF Fast Transient Inactivating Sodium, None 2005\n",
      "NMLCH000160: NaF Fast Transient Inactivating Sodium, None 2003\n",
      "NMLCH000161: NaF Fast Transient Inactivating Sodium, None 2005\n",
      "NMLCH000162: NaF Fast Transient Inactivating Sodium, None 2005\n",
      "NMLCH000163: NaF Fast Transient Inactivating Sodium, None 2005\n",
      "NMLCH000164: NaP Persistent Noninactivating Sodium, None 2003\n",
      "NMLCH000165: NaF Fast Transient Inactivating Sodium, None 2005\n",
      "NMLCH000166: NaF Fast Transient Inactivating Sodium, None 2005\n",
      "NMLCH000167: NaF Fast Transient Inactivating Sodium, None 2005\n",
      "NMLCH000168: NaF Fast Transient Inactivating Sodium, None 2005\n",
      "NMLCH000169: NaF Fast Transient Inactivating Sodium, None 2005\n",
      "NMLCH000170: NaF Fast Transient Inactivating Sodium, None 2005\n",
      "NMLCH000171: NaF Fast Transient Inactivating Sodium, None 2005\n",
      "NMLCH001398: NaTa Fast Inactivating Sodium, None 2011\n",
      "NMLCH001490: NaTs Fast Inactivating Sodium, Berg 2018\n"
     ]
    }
   ],
   "source": [
    "types = {'cell':'NMLCL','channel':'NMLCH'}\n",
    "\n",
    "# Helper method for search\n",
    "def search_neuromldb(search_term, type=None):\n",
    "    \n",
    "    with urllib.request.urlopen('https://neuroml-db.org/api/search?q=%s' % search_term.replace(' ','%20')) as url:\n",
    "        data = json.load(url)\n",
    "\n",
    "    #print(data)\n",
    "    for l in data:\n",
    "        \n",
    "        if type!=None:\n",
    "            for type_ in types:\n",
    "                if type==type_ and not types[type_] in l['Model_ID']:\n",
    "                    data.remove(l)\n",
    "\n",
    "        if l in data:\n",
    "            print('%s: %s, %s %s'%(l['Model_ID'],l['Name'],l['First_Author'],l['Publication_Year']))\n",
    "        \n",
    "        \n",
    "    return data\n",
    "\n",
    "data = search_neuromldb(\"Fast Sodium\", 'channel')"
   ]
  },
  {
   "cell_type": "markdown",
   "metadata": {},
   "source": [
    "### Select the first of these results and download it, and browse the contents"
   ]
  },
  {
   "cell_type": "code",
   "execution_count": 3,
   "metadata": {},
   "outputs": [
    {
     "name": "stderr",
     "output_type": "stream",
     "text": [
      "pyNeuroML >>> INFO - Loading NeuroML2 file: NMLCH000008.channel.nml\n"
     ]
    },
    {
     "name": "stdout",
     "output_type": "stream",
     "text": [
      "Channel Gran_NaF_98 has notes: Fast inactivating Na+ channel\n"
     ]
    }
   ],
   "source": [
    "# Helper method to retrieve a NeuroML file based on modelID\n",
    "def get_model_from_neuromldb(model_id, type):\n",
    "  \n",
    "    fname = '%s.%s.nml'%(model_id, type)\n",
    "\n",
    "    url = 'https://neuroml-db.org/render_xml_file?modelID=%s'%model_id\n",
    "    r = requests.get(url)\n",
    "    with open(fname , 'wb') as f:\n",
    "        f.write(r.content)\n",
    "\n",
    "    return pynml.read_neuroml2_file(fname)\n",
    "\n",
    "\n",
    "# Choose the first channel\n",
    "chan_model_id = data[0]['Model_ID']\n",
    "\n",
    "na_chan_doc = get_model_from_neuromldb(chan_model_id, 'channel')\n",
    "\n",
    "na_chan = na_chan_doc.ion_channel[0] # select the first ion channel in the nml doc\n",
    "\n",
    "print('Channel %s has notes: %s'%(na_chan.id, na_chan.notes))"
   ]
  },
  {
   "cell_type": "markdown",
   "metadata": {},
   "source": [
    "### Find a Potassium channel"
   ]
  },
  {
   "cell_type": "code",
   "execution_count": 4,
   "metadata": {},
   "outputs": [
    {
     "name": "stderr",
     "output_type": "stream",
     "text": [
      "/home/padraig/anaconda2/envs/py37/lib/python3.7/site-packages/ipykernel/ipkernel.py:287: DeprecationWarning: `should_run_async` will not call `transform_cell` automatically in the future. Please pass the result to `transformed_cell` argument and any exception that happen during thetransform in `preprocessing_exc_tuple` in IPython 7.17 and above.\n",
      "  and should_run_async(code)\n"
     ]
    },
    {
     "name": "stdout",
     "output_type": "stream",
     "text": [
      "NMLCH000113: K Fast Noninactivating Potassium, None 1992\n",
      "NMLCH000128: IM Slow M Type Potassium, None 1993\n",
      "NMLCH001394: K Fast Noninactivating Potassium, None 2011\n",
      "NMLCH001465: K Fast Noninactivating Potassium, Berg 2018\n"
     ]
    },
    {
     "name": "stderr",
     "output_type": "stream",
     "text": [
      "pyNeuroML >>> INFO - Loading NeuroML2 file: NMLCH000113.channel.nml\n"
     ]
    },
    {
     "name": "stdout",
     "output_type": "stream",
     "text": [
      "Channel SKv3_1 has notes: Fast inactivating Na+ channel\n"
     ]
    }
   ],
   "source": [
    "# Look at content of file\n",
    "#!cat NMLCH000008.channel.nml\n",
    "\n",
    "data = search_neuromldb(\"Noninactivating Potassium\", 'channel')\n",
    "\n",
    "k_chan_doc = get_model_from_neuromldb(data[0]['Model_ID'], 'channel')\n",
    "k_chan = k_chan_doc.ion_channel[0] # select the first ion channel in the nml doc\n",
    "\n",
    "print('Channel %s has notes: %s'%(k_chan.id, na_chan.notes))\n"
   ]
  },
  {
   "cell_type": "markdown",
   "metadata": {},
   "source": [
    "## Create simple network model from cell accessed via API\n"
   ]
  },
  {
   "cell_type": "code",
   "execution_count": null,
   "metadata": {},
   "outputs": [],
   "source": []
  }
 ],
 "metadata": {
  "kernelspec": {
   "display_name": "Python 3",
   "language": "python",
   "name": "python3"
  },
  "language_info": {
   "codemirror_mode": {
    "name": "ipython",
    "version": 3
   },
   "file_extension": ".py",
   "mimetype": "text/x-python",
   "name": "python",
   "nbconvert_exporter": "python",
   "pygments_lexer": "ipython3",
   "version": "3.7.7"
  }
 },
 "nbformat": 4,
 "nbformat_minor": 4
}
