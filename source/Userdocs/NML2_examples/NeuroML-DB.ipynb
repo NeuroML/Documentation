{
 "cells": [
  {
   "cell_type": "markdown",
   "metadata": {},
   "source": [
    "# Create novel NeuroML models from components on NeuroML-DB\n",
    "\n",
    "This notebook demonstrates how to access the [NeuroML-DB database](https://neuroml-db.org), extract elements in NeuroML format and use them to create new models"
   ]
  },
  {
   "cell_type": "code",
   "execution_count": 1,
   "metadata": {},
   "outputs": [],
   "source": [
    "from pyneuroml import pynml\n",
    "import urllib.request, json \n",
    "import requests\n"
   ]
  },
  {
   "cell_type": "markdown",
   "metadata": {},
   "source": [
    "## 1) Search for, download and analyse channels accessed via API\n",
    "\n",
    "### 1.1) Search in the database for a particular type of channel\n"
   ]
  },
  {
   "cell_type": "code",
   "execution_count": 2,
   "metadata": {
    "scrolled": false
   },
   "outputs": [
    {
     "name": "stdout",
     "output_type": "stream",
     "text": [
      "NMLCH000008: NaF Inactivating Fast Sodium, None De Schutter 1998\n",
      "NMLCH000023: NaF Inactivating Fast Sodium, None De Schutter 1998\n",
      "NMLCH000110: NaTa Fast Inactivating Sodium, None Pan 2002\n",
      "NMLCH000111: NaTs Fast Inactivating Sodium, None Pan 2002\n",
      "NMLCH000131: NaF Fast Sodium, None Toledo-Rodriguez 2008\n",
      "NMLCH000157: NaF Fast Transient Inactivating Sodium, None Buhl 2003\n",
      "NMLCH000158: NaF Fast Transient Inactivating Sodium, None Contreras 2005\n",
      "NMLCH000159: NaF Fast Transient Inactivating Sodium, None Contreras 2005\n",
      "NMLCH000160: NaF Fast Transient Inactivating Sodium, None Buhl 2003\n",
      "NMLCH000161: NaF Fast Transient Inactivating Sodium, None Contreras 2005\n",
      "NMLCH000162: NaF Fast Transient Inactivating Sodium, None Contreras 2005\n",
      "NMLCH000163: NaF Fast Transient Inactivating Sodium, None Contreras 2005\n",
      "NMLCH000164: NaP Persistent Noninactivating Sodium, None Buhl 2003\n",
      "NMLCH000165: NaF Fast Transient Inactivating Sodium, None Contreras 2005\n",
      "NMLCH000166: NaF Fast Transient Inactivating Sodium, None Contreras 2005\n",
      "NMLCH000167: NaF Fast Transient Inactivating Sodium, None Contreras 2005\n",
      "NMLCH000168: NaF Fast Transient Inactivating Sodium, None Contreras 2005\n",
      "NMLCH000169: NaF Fast Transient Inactivating Sodium, None Contreras 2005\n",
      "NMLCH000170: NaF Fast Transient Inactivating Sodium, None Contreras 2005\n",
      "NMLCH000171: NaF Fast Transient Inactivating Sodium, None Contreras 2005\n",
      "NMLCH001398: NaTa Fast Inactivating Sodium, None Hill 2011\n",
      "NMLCH001490: NaTs Fast Inactivating Sodium, Berg Feng 2018\n"
     ]
    }
   ],
   "source": [
    "types = {'cell':'NMLCL','channel':'NMLCH'}\n",
    "\n",
    "# Helper method for search\n",
    "def search_neuromldb(search_term, type=None):\n",
    "    \n",
    "    with urllib.request.urlopen('https://neuroml-db.org/api/search?q=%s' % search_term.replace(' ','%20')) as url:\n",
    "        data = json.load(url)\n",
    "\n",
    "    for l in data:\n",
    "        \n",
    "        if type!=None:\n",
    "            for type_ in types:\n",
    "                if type==type_ and not types[type_] in l['Model_ID']:\n",
    "                    data.remove(l)\n",
    "        \n",
    "        if l in data:\n",
    "            print('%s: %s, %s %s %s'%(l['Model_ID'],l['Name'],l['First_Author'],l['Second_Author'],l['Publication_Year']))\n",
    "        \n",
    "        \n",
    "    return data\n",
    "\n",
    "data = search_neuromldb(\"Fast Sodium\", 'channel')"
   ]
  },
  {
   "cell_type": "markdown",
   "metadata": {},
   "source": [
    "### 1.2) Select the first of these results and download it, and browse the contents"
   ]
  },
  {
   "cell_type": "code",
   "execution_count": 3,
   "metadata": {},
   "outputs": [
    {
     "name": "stderr",
     "output_type": "stream",
     "text": [
      "pyNeuroML >>> INFO - Loading NeuroML2 file: NMLCH000008.channel.nml\n"
     ]
    },
    {
     "name": "stdout",
     "output_type": "stream",
     "text": [
      "Channel Gran_NaF_98 has notes: Fast inactivating Na+ channel\n"
     ]
    }
   ],
   "source": [
    "# Helper method to retrieve a NeuroML file based on modelID\n",
    "def get_model_from_neuromldb(model_id, type):\n",
    "  \n",
    "    fname = '%s.%s.nml'%(model_id, type)\n",
    "\n",
    "    url = 'https://neuroml-db.org/render_xml_file?modelID=%s'%model_id\n",
    "    r = requests.get(url)\n",
    "    with open(fname , 'wb') as f:\n",
    "        f.write(r.content)\n",
    "\n",
    "    return pynml.read_neuroml2_file(fname), fname\n",
    "\n",
    "\n",
    "# Choose the first channel\n",
    "chan_model_id = data[0]['Model_ID']\n",
    "\n",
    "na_chan_doc, fname = get_model_from_neuromldb(chan_model_id, 'channel')\n",
    "\n",
    "na_chan = na_chan_doc.ion_channel[0] # select the first ion channel in the nml doc\n",
    "\n",
    "print('Channel %s has notes: %s'%(na_chan.id, na_chan.notes))"
   ]
  },
  {
   "cell_type": "markdown",
   "metadata": {},
   "source": [
    "### 1.3) Plot the time course and steady state of this channel"
   ]
  },
  {
   "cell_type": "code",
   "execution_count": 4,
   "metadata": {},
   "outputs": [
    {
     "name": "stderr",
     "output_type": "stream",
     "text": [
      "/home/padraig/anaconda2/envs/py37/lib/python3.7/site-packages/ipykernel/ipkernel.py:287: DeprecationWarning: `should_run_async` will not call `transform_cell` automatically in the future. Please pass the result to `transformed_cell` argument and any exception that happen during thetransform in `preprocessing_exc_tuple` in IPython 7.17 and above.\n",
      "  and should_run_async(code)\n",
      "pyNeuroML >>> INFO - Loading NeuroML2 file: NMLCH000008.channel.nml\n",
      "pyNeuroML >>> INFO - Loading NeuroML2 file: NMLCH000008.channel.nml\n",
      "pyNeuroML >>> INFO - Loading NeuroML2 file: NMLCH000008.channel.nml\n",
      "pyNeuroML >>> INFO - Loading LEMS file: /home/padraig/git/Documentation/source/Userdocs/NML2_examples/LEMS_Test_Gran_NaF_98.xml and running with jNeuroML\n",
      "pyNeuroML >>> INFO - Executing: (java -Xmx400M  -Djava.awt.headless=true -jar  \"/home/padraig/anaconda2/envs/py37/lib/python3.7/site-packages/pyNeuroML-0.7.3-py3.7.egg/pyneuroml/lib/jNeuroML-0.12.0-jar-with-dependencies.jar\"  \"/home/padraig/git/Documentation/source/Userdocs/NML2_examples/LEMS_Test_Gran_NaF_98.xml\"  -nogui -I '') in directory: .\n",
      "pyNeuroML >>> INFO - Command completed. Output: \n",
      "  jNeuroML >>   jNeuroML v0.12.0\n",
      "  jNeuroML >>  Loading: /home/padraig/git/Documentation/source/Userdocs/NML2_examples/LEMS_Test_Gran_NaF_98.xml with jLEMS, NO GUI mode...\n",
      "  jNeuroML >>  INFO Nov 03,2022 14:04  (INFO) Loading LEMS file from: /home/padraig/git/Documentation/source/Userdocs/NML2_examples/LEMS_Test_Gran_NaF_98.xml\n",
      "  jNeuroML >>  INFO Nov 03,2022 14:04  (INFO) Reading from: /home/padraig/git/Documentation/source/Userdocs/NML2_examples/LEMS_Test_Gran_NaF_98.xml\n",
      "  jNeuroML >>  INFO Nov 03,2022 14:04  (INFO) Finished 40000 steps in 4.321 seconds (sim duration: 100.0ms; dt: 0.0025ms)\n",
      "  jNeuroML >>  INFO Nov 03,2022 14:04  (INFO) Written to the file /home/padraig/git/Documentation/source/Userdocs/NML2_examples/./Gran_NaF_98.m.inf.lems.dat 832257\n",
      "  jNeuroML >>  INFO Nov 03,2022 14:04  (INFO) Written to the file /home/padraig/git/Documentation/source/Userdocs/NML2_examples/./Gran_NaF_98.m.tau.lems.dat 922963\n",
      "  jNeuroML >>  INFO Nov 03,2022 14:04  (INFO) Written to the file /home/padraig/git/Documentation/source/Userdocs/NML2_examples/./Gran_NaF_98.h.inf.lems.dat 883801\n",
      "  jNeuroML >>  INFO Nov 03,2022 14:04  (INFO) Written to the file /home/padraig/git/Documentation/source/Userdocs/NML2_examples/./Gran_NaF_98.h.tau.lems.dat 919222\n",
      "  jNeuroML >>  INFO Nov 03,2022 14:04  (INFO) Written to the file /home/padraig/git/Documentation/source/Userdocs/NML2_examples/./Gran_NaF_98.rampV.lems.dat 765867\n",
      "  jNeuroML >>  INFO Nov 03,2022 14:04  (INFO) Finished reading, building, running and displaying LEMS model\n",
      "  jNeuroML >>  \n"
     ]
    },
    {
     "data": {
      "image/png": "[encoded data removed]",
      "text/plain": [
       "<Figure size 432x288 with 1 Axes>"
      ]
     },
     "metadata": {
      "needs_background": "light"
     },
     "output_type": "display_data"
    },
    {
     "data": {
      "image/png": "[encoded data removed]",
      "text/plain": [
       "<Figure size 432x288 with 1 Axes>"
      ]
     },
     "metadata": {
      "needs_background": "light"
     },
     "output_type": "display_data"
    }
   ],
   "source": [
    "from pyneuroml.analysis.NML2ChannelAnalysis import run\n",
    "\n",
    "run(channel_files=[fname])\n"
   ]
  },
  {
   "cell_type": "markdown",
   "metadata": {},
   "source": [
    "### 1.4) Find a Potassium channel"
   ]
  },
  {
   "cell_type": "code",
   "execution_count": 5,
   "metadata": {},
   "outputs": [
    {
     "name": "stderr",
     "output_type": "stream",
     "text": [
      "/home/padraig/anaconda2/envs/py37/lib/python3.7/site-packages/ipykernel/ipkernel.py:287: DeprecationWarning: `should_run_async` will not call `transform_cell` automatically in the future. Please pass the result to `transformed_cell` argument and any exception that happen during thetransform in `preprocessing_exc_tuple` in IPython 7.17 and above.\n",
      "  and should_run_async(code)\n"
     ]
    },
    {
     "name": "stdout",
     "output_type": "stream",
     "text": [
      "NMLCH000113: K Fast Noninactivating Potassium, None Wunder 1992\n",
      "NMLCH000128: IM Slow M Type Potassium, None Wang 1993\n",
      "NMLCH001394: K Fast Noninactivating Potassium, None Hill 2011\n",
      "NMLCH001465: K Fast Noninactivating Potassium, Berg Feng 2018\n"
     ]
    },
    {
     "name": "stderr",
     "output_type": "stream",
     "text": [
      "pyNeuroML >>> INFO - Loading NeuroML2 file: NMLCH000113.channel.nml\n",
      "pyNeuroML >>> INFO - Loading NeuroML2 file: NMLCH000113.channel.nml\n",
      "pyNeuroML >>> INFO - Loading NeuroML2 file: NMLCH000113.channel.nml\n",
      "pyNeuroML >>> INFO - Loading NeuroML2 file: NMLCH000113.channel.nml\n",
      "pyNeuroML >>> INFO - Loading LEMS file: /home/padraig/git/Documentation/source/Userdocs/NML2_examples/LEMS_Test_SKv3_1.xml and running with jNeuroML\n",
      "pyNeuroML >>> INFO - Executing: (java -Xmx400M  -Djava.awt.headless=true -jar  \"/home/padraig/anaconda2/envs/py37/lib/python3.7/site-packages/pyNeuroML-0.7.3-py3.7.egg/pyneuroml/lib/jNeuroML-0.12.0-jar-with-dependencies.jar\"  \"/home/padraig/git/Documentation/source/Userdocs/NML2_examples/LEMS_Test_SKv3_1.xml\"  -nogui -I '') in directory: .\n"
     ]
    },
    {
     "name": "stdout",
     "output_type": "stream",
     "text": [
      "Channel SKv3_1 has notes: Fast, non inactivating K+ current\n",
      "            \n",
      "Comment from original mod file: \n",
      ":Reference : :\t\tCharacterization of a Shaw-related potassium channel family in rat brain, The EMBO Journal, vol.11, no.7,2473-2486 (1992)\n"
     ]
    },
    {
     "name": "stderr",
     "output_type": "stream",
     "text": [
      "pyNeuroML >>> INFO - Command completed. Output: \n",
      "  jNeuroML >>   jNeuroML v0.12.0\n",
      "  jNeuroML >>  Loading: /home/padraig/git/Documentation/source/Userdocs/NML2_examples/LEMS_Test_SKv3_1.xml with jLEMS, NO GUI mode...\n",
      "  jNeuroML >>  INFO Nov 03,2022 14:04  (INFO) Loading LEMS file from: /home/padraig/git/Documentation/source/Userdocs/NML2_examples/LEMS_Test_SKv3_1.xml\n",
      "  jNeuroML >>  INFO Nov 03,2022 14:04  (INFO) Reading from: /home/padraig/git/Documentation/source/Userdocs/NML2_examples/LEMS_Test_SKv3_1.xml\n",
      "  jNeuroML >>  INFO Nov 03,2022 14:04  (INFO) Finished 40000 steps in 2.601 seconds (sim duration: 100.0ms; dt: 0.0025ms)\n",
      "  jNeuroML >>  INFO Nov 03,2022 14:04  (INFO) Written to the file /home/padraig/git/Documentation/source/Userdocs/NML2_examples/./SKv3_1.m.inf.lems.dat 863496\n",
      "  jNeuroML >>  INFO Nov 03,2022 14:04  (INFO) Written to the file /home/padraig/git/Documentation/source/Userdocs/NML2_examples/./SKv3_1.m.tau.lems.dat 918896\n",
      "  jNeuroML >>  INFO Nov 03,2022 14:04  (INFO) Written to the file /home/padraig/git/Documentation/source/Userdocs/NML2_examples/./SKv3_1.rampV.lems.dat 765867\n",
      "  jNeuroML >>  INFO Nov 03,2022 14:04  (INFO) Finished reading, building, running and displaying LEMS model\n",
      "  jNeuroML >>  \n"
     ]
    },
    {
     "data": {
      "image/png": "[encoded data removed]",
      "text/plain": [
       "<Figure size 432x288 with 1 Axes>"
      ]
     },
     "metadata": {
      "needs_background": "light"
     },
     "output_type": "display_data"
    },
    {
     "data": {
      "image/png": "[encoded data removed]",
      "text/plain": [
       "<Figure size 432x288 with 1 Axes>"
      ]
     },
     "metadata": {
      "needs_background": "light"
     },
     "output_type": "display_data"
    }
   ],
   "source": [
    "# Look at content of file\n",
    "#!cat NMLCH000008.channel.nml\n",
    "\n",
    "data = search_neuromldb(\"Noninactivating Potassium\", 'channel')\n",
    "\n",
    "k_chan_doc, fname = get_model_from_neuromldb(data[0]['Model_ID'], 'channel')\n",
    "k_chan = k_chan_doc.ion_channel[0] # select the first ion channel in the nml doc\n",
    "\n",
    "print('Channel %s has notes: %s'%(k_chan.id, k_chan.notes))\n",
    "\n",
    "run(channel_files=[fname])\n"
   ]
  },
  {
   "cell_type": "markdown",
   "metadata": {},
   "source": [
    "### 1.5)  Find a passive current\n"
   ]
  },
  {
   "cell_type": "code",
   "execution_count": 6,
   "metadata": {},
   "outputs": [
    {
     "name": "stderr",
     "output_type": "stream",
     "text": [
      "/home/padraig/anaconda2/envs/py37/lib/python3.7/site-packages/ipykernel/ipkernel.py:287: DeprecationWarning: `should_run_async` will not call `transform_cell` automatically in the future. Please pass the result to `transformed_cell` argument and any exception that happen during thetransform in `preprocessing_exc_tuple` in IPython 7.17 and above.\n",
      "  and should_run_async(code)\n"
     ]
    },
    {
     "name": "stdout",
     "output_type": "stream",
     "text": [
      "NMLCH000007: Passive Leak, None Ferrante 2005\n",
      "NMLCH000015: Passive Leak, None De Schutter 1998\n",
      "NMLCH000016: Passive Leak, None De Schutter 1998\n",
      "NMLCH000024: Passive Leak, None De Schutter 1998\n",
      "NMLCH000027: Passive Leak, None Bower 1994\n",
      "NMLCH000095: Passive Leak, None Lorincz 2010\n",
      "NMLCH000114: Passive Leak, None Huxley 1952\n",
      "NMLCH000130: Passive Leak, None Toledo-Rodriguez 2008\n",
      "NMLCH000139: Passive Leak, None Huxley 1952\n",
      "NMLCH000172: Passive Leak, None Contreras 2005\n",
      "NMLCH001403: Passive Leak, None Hill 2011\n",
      "NMLCH001427: Passive Leak, None Huxley 1952\n",
      "NMLCH001471: Passive Leak, Berg Feng 2018\n",
      "NMLCH001545: Passive Leak, Cohen None 2008\n",
      "NMLCH001590: Passive Leak, Bucher Marder 2004\n",
      "NMLCH001601: Passive Leak, Smith Branco 2013\n",
      "NMLCH001623: Passive Leak, Raikov Burk 2016\n"
     ]
    },
    {
     "name": "stderr",
     "output_type": "stream",
     "text": [
      "pyNeuroML >>> INFO - Loading NeuroML2 file: NMLCH000007.channel.nml\n"
     ]
    },
    {
     "name": "stdout",
     "output_type": "stream",
     "text": [
      "Channel pas has notes: Simple example of a leak/passive conductance. Note: for GENESIS cells with a single leak conductance,\n",
      "        it is better to use the Rm and Em variables for a passive current.\n"
     ]
    }
   ],
   "source": [
    "data = search_neuromldb(\"Leak\", 'channel')\n",
    "\n",
    "pas_chan_doc, pas_chan_fname = get_model_from_neuromldb(data[0]['Model_ID'], 'channel')\n",
    "pas_chan = pas_chan_doc.ion_channel[0] # select the first ion channel in the nml doc\n",
    "\n",
    "print('Channel %s has notes: %s'%(pas_chan.id, pas_chan.notes))"
   ]
  },
  {
   "cell_type": "markdown",
   "metadata": {},
   "source": [
    "## 2) Create a new cell model using these channels"
   ]
  },
  {
   "cell_type": "code",
   "execution_count": 7,
   "metadata": {},
   "outputs": [
    {
     "name": "stdout",
     "output_type": "stream",
     "text": [
      "Written network file to: TestCell.net.nml\n",
      "It's valid!\n",
      "<neuroml xmlns=\"http://www.neuroml.org/schema/neuroml2\"  xmlns:xs=\"http://www.w3.org/2001/XMLSchema\" xmlns:xsi=\"http://www.w3.org/2001/XMLSchema-instance\" xsi:schemaLocation=\"http://www.neuroml.org/schema/neuroml2 https://raw.github.com/NeuroML/NeuroML2/development/Schemas/NeuroML2/NeuroML_v2.3.xsd\" id=\"TestCell\">\r\n",
      "    <include href=\"NMLCH000007.channel.nml\"/>\r\n",
      "    <cell id=\"complex_cell\">\r\n",
      "        <morphology id=\"morphology\">\r\n",
      "            <segment id=\"0\" name=\"Seg0\">\r\n",
      "                <proximal x=\"0.0\" y=\"0.0\" z=\"0.0\" diameter=\"10.0\"/>\r\n",
      "                <distal x=\"0.0\" y=\"0.0\" z=\"0.0\" diameter=\"10.0\"/>\r\n",
      "            </segment>\r\n",
      "            <segmentGroup id=\"soma_group\" neuroLexId=\"GO:0043025\">\r\n",
      "                <notes>Default soma segment group for the cell</notes>\r\n",
      "                <member segment=\"0\"/>\r\n",
      "            </segmentGroup>\r\n",
      "            <segmentGroup id=\"axon_group\" neuroLexId=\"GO:0030424\">\r\n",
      "                <notes>Default axon segment group for the cell</notes>\r\n",
      "            </segmentGroup>\r\n",
      "            <segmentGroup id=\"dendrite_group\" neuroLexId=\"GO:0030425\">\r\n",
      "                <notes>Default dendrite segment group for the cell</notes>\r\n",
      "            </segmentGroup>\r\n",
      "            <segmentGroup id=\"all\">\r\n",
      "                <member segment=\"0\"/>\r\n",
      "            </segmentGroup>\r\n",
      "        </morphology>\r\n",
      "        <biophysicalProperties id=\"biophys\">\r\n",
      "            <membraneProperties>\r\n",
      "                <channelDensity id=\"pas_chans\" ionChannel=\"pas\" condDensity=\"0.01 mS_per_cm2\" erev=\"0.0 mV\" ion=\"non_specific\"/>\r\n",
      "            </membraneProperties>\r\n",
      "            <intracellularProperties>\r\n",
      "                <resistivity value=\"0.03 kohm_cm\"/>\r\n",
      "            </intracellularProperties>\r\n",
      "        </biophysicalProperties>\r\n",
      "    </cell>\r\n",
      "</neuroml>\r\n"
     ]
    },
    {
     "name": "stderr",
     "output_type": "stream",
     "text": [
      "/home/padraig/anaconda2/envs/py37/lib/python3.7/site-packages/ipykernel/ipkernel.py:287: DeprecationWarning: `should_run_async` will not call `transform_cell` automatically in the future. Please pass the result to `transformed_cell` argument and any exception that happen during thetransform in `preprocessing_exc_tuple` in IPython 7.17 and above.\n",
      "  and should_run_async(code)\n"
     ]
    }
   ],
   "source": [
    "from neuroml import *\n",
    "from neuroml.utils import component_factory\n",
    "import neuroml.writers as writers\n",
    "\n",
    "\n",
    "nml_doc = NeuroMLDocument(id=\"TestCell\")\n",
    "\n",
    "cell = component_factory(\"Cell\", id=\"complex_cell\")\n",
    "nml_doc.add(cell)\n",
    "\n",
    "cell.add_segment(prox=[0,0,0,10], dist=[0,0,0,10], seg_type='soma')\n",
    "\n",
    "cell.set_resistivity('0.03 kohm_cm')\n",
    "\n",
    "cell.add_channel_density(nml_doc,\n",
    "                        cd_id='%s_chans'%pas_chan.id,\n",
    "                        ion_channel=pas_chan.id,\n",
    "                        cond_density='0.01 mS_per_cm2',\n",
    "                        ion_chan_def_file=pas_chan_fname)\n",
    "\n",
    "\n",
    "\n",
    "nml_file = \"%s.net.nml\"%nml_doc.id\n",
    "writers.NeuroMLWriter.write(nml_doc, nml_file)\n",
    "\n",
    "\n",
    "print(\"Written network file to: \" + nml_file)\n",
    "\n",
    "\n",
    "from neuroml.utils import validate_neuroml2\n",
    "\n",
    "validate_neuroml2(nml_file)\n",
    "\n",
    "!cat TestCell.net.nml"
   ]
  },
  {
   "cell_type": "markdown",
   "metadata": {},
   "source": [
    "## Create simple network model from cell accessed via API\n"
   ]
  },
  {
   "cell_type": "code",
   "execution_count": 8,
   "metadata": {},
   "outputs": [
    {
     "name": "stderr",
     "output_type": "stream",
     "text": [
      "/home/padraig/anaconda2/envs/py37/lib/python3.7/site-packages/ipykernel/ipkernel.py:287: DeprecationWarning: `should_run_async` will not call `transform_cell` automatically in the future. Please pass the result to `transformed_cell` argument and any exception that happen during thetransform in `preprocessing_exc_tuple` in IPython 7.17 and above.\n",
      "  and should_run_async(code)\n"
     ]
    }
   ],
   "source": [
    "# todo..."
   ]
  },
  {
   "cell_type": "code",
   "execution_count": null,
   "metadata": {},
   "outputs": [],
   "source": []
  }
 ],
 "metadata": {
  "kernelspec": {
   "display_name": "Python 3",
   "language": "python",
   "name": "python3"
  },
  "language_info": {
   "codemirror_mode": {
    "name": "ipython",
    "version": 3
   },
   "file_extension": ".py",
   "mimetype": "text/x-python",
   "name": "python",
   "nbconvert_exporter": "python",
   "pygments_lexer": "ipython3",
   "version": "3.7.7"
  }
 },
 "nbformat": 4,
 "nbformat_minor": 4
}
