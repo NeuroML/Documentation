{
 "cells": [
  {
   "cell_type": "markdown",
   "metadata": {},
   "source": [
    "# Interactive multi-compartment OLM cell example\n",
    "\n",
    "To run this interactive Jupyter Notebook, please click on the rocket icon 🚀 in the top panel. ",
    "For more information, please see {ref}`how to use this documentation <userdocs:usage:jupyterbooks>`. ",
    "Please uncomment the line below if you use the Google Colab. (It does not include these packages by default)."
   ]
  },
  {
   "cell_type": "code",
   "execution_count": 1,
   "metadata": {},
   "outputs": [],
   "source": [
    "#%pip install pyneuroml neuromllite NEURON"
   ]
  },
  {
   "cell_type": "code",
   "execution_count": 2,
   "metadata": {},
   "outputs": [],
   "source": [
    "#!/usr/bin/env python3\n",
    "\"\"\"\n",
    "Multi-compartmental OLM cell example\n",
    "\n",
    "File: olm-example.py\n",
    "\n",
    "Copyright 2021 NeuroML contributors\n",
    "Authors: Padraig Gleeson, Ankur Sinha\n",
    "\"\"\"\n",
    "\n",
    "from neuroml import (NeuroMLDocument, IncludeType, Population, PulseGenerator, ExplicitInput, Network, SegmentGroup, Member, Property, Include, Instance, Location)\n",
    "from CellBuilder import (create_cell, add_segment, add_channel_density, set_init_memb_potential, set_resistivity, set_specific_capacitance, get_seg_group_by_id)\n",
    "from pyneuroml import pynml\n",
    "from pyneuroml.lems import LEMSSimulation\n",
    "import numpy as np"
   ]
  },
  {
   "cell_type": "markdown",
   "metadata": {},
   "source": [
    "The CellBuilder module file can be found in the same folder as the Python script. It is used to define the helper functions that we use in our main file.\n",
    "\n",
    "## Declaring the NeuroML model\n",
    "### Create the cell\n",
    "\n",
    "In this example, we do not create the ion channels. We include ion channels that are already provided in NeuroML files. "
   ]
  },
  {
   "cell_type": "code",
   "execution_count": 3,
   "metadata": {},
   "outputs": [],
   "source": [
    "\n",
    "def create_olm_cell():\n",
    "    \"\"\"Create the complete cell.\n",
    "\n",
    "    :returns: cell object\n",
    "    \"\"\"\n",
    "    nml_cell_doc = NeuroMLDocument(id=\"oml_cell\")\n",
    "    cell = create_cell(\"olm\")\n",
    "    nml_cell_file = cell.id + \".cell.nml\"\n",
    "\n",
    "    # Add two soma segments\n",
    "    diam = 10.0\n",
    "    soma_0 = add_segment(cell,\n",
    "                         prox=[0.0, 0.0, 0.0, diam],\n",
    "                         dist=[0.0, 10., 0.0, diam],\n",
    "                         name=\"Seg0_soma_0\",\n",
    "                         group=\"soma_0\")\n",
    "\n",
    "    soma_1 = add_segment(cell,\n",
    "                         prox=None,\n",
    "                         dist=[0.0, 10. + 10., 0.0, diam],\n",
    "                         name=\"Seg1_soma_0\",\n",
    "                         parent=soma_0,\n",
    "                         group=\"soma_0\")\n",
    "\n",
    "    # Add axon segments\n",
    "    diam = 1.5\n",
    "    axon_0 = add_segment(cell,\n",
    "                         prox=[0.0, 0.0, 0.0, diam],\n",
    "                         dist=[0.0, -75, 0.0, diam],\n",
    "                         name=\"Seg0_axon_0\",\n",
    "                         parent=soma_0,\n",
    "                         fraction_along=0.0,\n",
    "                         group=\"axon_0\")\n",
    "    axon_1 = add_segment(cell,\n",
    "                         prox=None,\n",
    "                         dist=[0.0, -150, 0.0, diam],\n",
    "                         name=\"Seg1_axon_0\",\n",
    "                         parent=axon_0,\n",
    "                         group=\"axon_0\")\n",
    "\n",
    "    # Add 2 dendrite segments\n",
    "\n",
    "    diam = 3.0\n",
    "    dend_0_0 = add_segment(cell,\n",
    "                           prox=[0.0, 20, 0.0, diam],\n",
    "                           dist=[100, 120, 0.0, diam],\n",
    "                           name=\"Seg0_dend_0\",\n",
    "                           parent=soma_1,\n",
    "                           fraction_along=1,\n",
    "                           group=\"dend_0\")\n",
    "\n",
    "    dend_1_0 = add_segment(cell,\n",
    "                           prox=None,\n",
    "                           dist=[177, 197, 0.0, diam],\n",
    "                           name=\"Seg1_dend_0\",\n",
    "                           parent=dend_0_0,\n",
    "                           fraction_along=1,\n",
    "                           group=\"dend_0\")\n",
    "\n",
    "    dend_0_1 = add_segment(cell,\n",
    "                           prox=[0.0, 20, 0.0, diam],\n",
    "                           dist=[-100, 120, 0.0, diam],\n",
    "                           name=\"Seg0_dend_1\",\n",
    "                           parent=soma_1,\n",
    "                           fraction_along=1,\n",
    "                           group=\"dend_1\")\n",
    "    dend_1_1 = add_segment(cell,\n",
    "                           prox=None,\n",
    "                           dist=[-177, 197, 0.0, diam],\n",
    "                           name=\"Seg1_dend_1\",\n",
    "                           parent=dend_0_1,\n",
    "                           fraction_along=1,\n",
    "                           group=\"dend_1\")\n",
    "\n",
    "    # XXX: For segment groups to be correctly mapped to sections in NEURON,\n",
    "    # they must include the correct neurolex ID\n",
    "    for section_name in [\"soma_0\", \"axon_0\", \"dend_0\", \"dend_1\"]:\n",
    "        section_group = get_seg_group_by_id(section_name, cell)\n",
    "        section_group.neuro_lex_id = 'sao864921383'\n",
    "\n",
    "    den_seg_group = get_seg_group_by_id(\"dendrite_group\", cell)\n",
    "    den_seg_group.includes.append(Include(segment_groups=\"dend_0\"))\n",
    "    den_seg_group.includes.append(Include(segment_groups=\"dend_1\"))\n",
    "    den_seg_group.properties.append(Property(tag=\"color\", value=\"0.8 0 0\"))\n",
    "\n",
    "    ax_seg_group = get_seg_group_by_id(\"axon_group\", cell)\n",
    "    ax_seg_group.includes.append(Include(segment_groups=\"axon_0\"))\n",
    "    ax_seg_group.properties.append(Property(tag=\"color\", value=\"0 0.8 0\"))\n",
    "\n",
    "    soma_seg_group = get_seg_group_by_id(\"soma_group\", cell)\n",
    "    soma_seg_group.includes.append(Include(segment_groups=\"soma_0\"))\n",
    "\n",
    "    soma_seg_group.properties.append(Property(tag=\"color\", value=\"0 0 0.8\"))\n",
    "\n",
    "    # Other cell properties\n",
    "    set_init_memb_potential(cell, \"-67mV\")\n",
    "    set_resistivity(cell, \"0.15 kohm_cm\")\n",
    "    set_specific_capacitance(cell, \"1.3 uF_per_cm2\")\n",
    "\n",
    "    # channels\n",
    "    # leak\n",
    "    add_channel_density(cell, nml_cell_doc,\n",
    "                        cd_id=\"leak_all\",\n",
    "                        cond_density=\"0.01 mS_per_cm2\",\n",
    "                        ion_channel=\"leak_chan\",\n",
    "                        ion_chan_def_file=\"olm-example/leak_chan.channel.nml\",\n",
    "                        erev=\"-67mV\",\n",
    "                        ion=\"non_specific\")\n",
    "    # HCNolm_soma\n",
    "    add_channel_density(cell, nml_cell_doc,\n",
    "                        cd_id=\"HCNolm_soma\",\n",
    "                        cond_density=\"0.5 mS_per_cm2\",\n",
    "                        ion_channel=\"HCNolm\",\n",
    "                        ion_chan_def_file=\"olm-example/HCNolm.channel.nml\",\n",
    "                        erev=\"-32.9mV\",\n",
    "                        ion=\"h\",\n",
    "                        group=\"soma_group\")\n",
    "    # Kdrfast_soma\n",
    "    add_channel_density(cell, nml_cell_doc,\n",
    "                        cd_id=\"Kdrfast_soma\",\n",
    "                        cond_density=\"73.37 mS_per_cm2\",\n",
    "                        ion_channel=\"Kdrfast\",\n",
    "                        ion_chan_def_file=\"olm-example/Kdrfast.channel.nml\",\n",
    "                        erev=\"-77mV\",\n",
    "                        ion=\"k\",\n",
    "                        group=\"soma_group\")\n",
    "    # Kdrfast_dendrite\n",
    "    add_channel_density(cell, nml_cell_doc,\n",
    "                        cd_id=\"Kdrfast_dendrite\",\n",
    "                        cond_density=\"105.8 mS_per_cm2\",\n",
    "                        ion_channel=\"Kdrfast\",\n",
    "                        ion_chan_def_file=\"olm-example/Kdrfast.channel.nml\",\n",
    "                        erev=\"-77mV\",\n",
    "                        ion=\"k\",\n",
    "                        group=\"dendrite_group\")\n",
    "    # Kdrfast_axon\n",
    "    add_channel_density(cell, nml_cell_doc,\n",
    "                        cd_id=\"Kdrfast_axon\",\n",
    "                        cond_density=\"117.392 mS_per_cm2\",\n",
    "                        ion_channel=\"Kdrfast\",\n",
    "                        ion_chan_def_file=\"olm-example/Kdrfast.channel.nml\",\n",
    "                        erev=\"-77mV\",\n",
    "                        ion=\"k\",\n",
    "                        group=\"axon_group\")\n",
    "    # KvAolm_soma\n",
    "    add_channel_density(cell, nml_cell_doc,\n",
    "                        cd_id=\"KvAolm_soma\",\n",
    "                        cond_density=\"4.95 mS_per_cm2\",\n",
    "                        ion_channel=\"KvAolm\",\n",
    "                        ion_chan_def_file=\"olm-example/KvAolm.channel.nml\",\n",
    "                        erev=\"-77mV\",\n",
    "                        ion=\"k\",\n",
    "                        group=\"soma_group\")\n",
    "    # KvAolm_dendrite\n",
    "    add_channel_density(cell, nml_cell_doc,\n",
    "                        cd_id=\"KvAolm_dendrite\",\n",
    "                        cond_density=\"2.8 mS_per_cm2\",\n",
    "                        ion_channel=\"KvAolm\",\n",
    "                        ion_chan_def_file=\"olm-example/KvAolm.channel.nml\",\n",
    "                        erev=\"-77mV\",\n",
    "                        ion=\"k\",\n",
    "                        group=\"dendrite_group\")\n",
    "    # Nav_soma\n",
    "    add_channel_density(cell, nml_cell_doc,\n",
    "                        cd_id=\"Nav_soma\",\n",
    "                        cond_density=\"10.7 mS_per_cm2\",\n",
    "                        ion_channel=\"Nav\",\n",
    "                        ion_chan_def_file=\"olm-example/Nav.channel.nml\",\n",
    "                        erev=\"50mV\",\n",
    "                        ion=\"na\",\n",
    "                        group=\"soma_group\")\n",
    "    # Nav_dendrite\n",
    "    add_channel_density(cell, nml_cell_doc,\n",
    "                        cd_id=\"Nav_dendrite\",\n",
    "                        cond_density=\"23.4 mS_per_cm2\",\n",
    "                        ion_channel=\"Nav\",\n",
    "                        ion_chan_def_file=\"olm-example/Nav.channel.nml\",\n",
    "                        erev=\"50mV\",\n",
    "                        ion=\"na\",\n",
    "                        group=\"dendrite_group\")\n",
    "    # Nav_axon\n",
    "    add_channel_density(cell, nml_cell_doc,\n",
    "                        cd_id=\"Nav_axon\",\n",
    "                        cond_density=\"17.12 mS_per_cm2\",\n",
    "                        ion_channel=\"Nav\",\n",
    "                        ion_chan_def_file=\"olm-example/Nav.channel.nml\",\n",
    "                        erev=\"50mV\",\n",
    "                        ion=\"na\",\n",
    "                        group=\"axon_group\")\n",
    "\n",
    "    nml_cell_doc.cells.append(cell)\n",
    "    pynml.write_neuroml2_file(nml_cell_doc, nml_cell_file, True, True)\n",
    "    return nml_cell_file"
   ]
  },
  {
   "cell_type": "markdown",
   "metadata": {},
   "source": [
    "### Create the network"
   ]
  },
  {
   "cell_type": "code",
   "execution_count": 4,
   "metadata": {},
   "outputs": [],
   "source": [
    "def create_olm_network():\n",
    "    \"\"\"Create the network\n",
    "\n",
    "    :returns: name of network nml file\n",
    "    \"\"\"\n",
    "    net_doc = NeuroMLDocument(id=\"network\",\n",
    "                              notes=\"OLM cell network\")\n",
    "    net_doc_fn = \"olm_example_net.nml\"\n",
    "    net_doc.includes.append(IncludeType(href=create_olm_cell()))\n",
    "    # Create a population: convenient to create many cells of the same type\n",
    "    pop = Population(id=\"pop0\", notes=\"A population for our cell\",\n",
    "                     component=\"olm\", size=1, type=\"populationList\")\n",
    "    pop.instances.append(Instance(id=1, location=Location(0., 0., 0.)))\n",
    "    # Input\n",
    "    pulsegen = PulseGenerator(id=\"pg_olm\", notes=\"Simple pulse generator\", delay=\"100ms\", duration=\"100ms\", amplitude=\"0.08nA\")\n",
    "\n",
    "    exp_input = ExplicitInput(target=\"pop0[0]\", input=\"pg_olm\")\n",
    "\n",
    "    net = Network(id=\"single_olm_cell_network\", note=\"A network with a single population\")\n",
    "    net_doc.pulse_generators.append(pulsegen)\n",
    "    net.explicit_inputs.append(exp_input)\n",
    "    net.populations.append(pop)\n",
    "    net_doc.networks.append(net)\n",
    "\n",
    "    pynml.write_neuroml2_file(nml2_doc=net_doc, nml2_file_name=net_doc_fn, validate=True)\n",
    "    return net_doc_fn"
   ]
  },
  {
   "cell_type": "markdown",
   "metadata": {},
   "source": [
    "## Plot the data we record"
   ]
  },
  {
   "cell_type": "code",
   "execution_count": 5,
   "metadata": {},
   "outputs": [],
   "source": [
    "\n",
    "def plot_data(sim_id):\n",
    "    \"\"\"Plot the sim data.\n",
    "\n",
    "    Load the data from the file and plot the graph for the membrane potential\n",
    "    using the pynml generate_plot utility function.\n",
    "\n",
    "    :sim_id: ID of simulaton\n",
    "\n",
    "    \"\"\"\n",
    "    data_array = np.loadtxt(sim_id + \".dat\")\n",
    "    pynml.generate_plot([data_array[:, 0]], [data_array[:, 1]], \"Membrane potential (soma seg 0)\", show_plot_already=False, save_figure_to=sim_id + \"_seg0_soma0-v.png\", xaxis=\"time (s)\", yaxis=\"membrane potential (V)\")\n",
    "    pynml.generate_plot([data_array[:, 0]], [data_array[:, 2]], \"Membrane potential (soma seg 1)\", show_plot_already=False, save_figure_to=sim_id + \"_seg1_soma0-v.png\", xaxis=\"time (s)\", yaxis=\"membrane potential (V)\")\n",
    "    pynml.generate_plot([data_array[:, 0]], [data_array[:, 3]], \"Membrane potential (axon seg 0)\", show_plot_already=False, save_figure_to=sim_id + \"_seg0_axon0-v.png\", xaxis=\"time (s)\", yaxis=\"membrane potential (V)\")\n",
    "    pynml.generate_plot([data_array[:, 0]], [data_array[:, 4]], \"Membrane potential (axon seg 1)\", show_plot_already=False, save_figure_to=sim_id + \"_seg1_axon0-v.png\", xaxis=\"time (s)\", yaxis=\"membrane potential (V)\")"
   ]
  },
  {
   "cell_type": "markdown",
   "metadata": {},
   "source": [
    "## Create and run the simulaton"
   ]
  },
  {
   "cell_type": "code",
   "execution_count": 6,
   "metadata": {},
   "outputs": [],
   "source": [
    "\n",
    "def main():\n",
    "    \"\"\"Main function\n",
    "\n",
    "    Include the NeuroML model into a LEMS simulation file, run it, plot some\n",
    "    data.\n",
    "    \"\"\"\n",
    "    # Simulation bits\n",
    "    sim_id = \"olm_example_sim\"\n",
    "    simulation = LEMSSimulation(sim_id=sim_id, duration=600, dt=0.01, simulation_seed=123)\n",
    "    # Include the NeuroML model file\n",
    "    simulation.include_neuroml2_file(create_olm_network())\n",
    "    # Assign target for the simulation\n",
    "    simulation.assign_simulation_target(\"single_olm_cell_network\")\n",
    "\n",
    "    # Recording information from the simulation\n",
    "    simulation.create_output_file(id=\"output0\", file_name=sim_id + \".dat\")\n",
    "    simulation.add_column_to_output_file(\"output0\", column_id=\"pop0_0_v\", quantity=\"pop0[0]/v\")\n",
    "    simulation.add_column_to_output_file(\"output0\",\n",
    "                                         column_id=\"pop0_0_v_Seg0_soma_0\",\n",
    "                                         quantity=\"pop0/0/olm/0/v\")\n",
    "    simulation.add_column_to_output_file(\"output0\",\n",
    "                                         column_id=\"pop0_0_v_Seg1_soma_0\",\n",
    "                                         quantity=\"pop0/0/olm/1/v\")\n",
    "    simulation.add_column_to_output_file(\"output0\",\n",
    "                                         column_id=\"pop0_0_v_Seg0_axon_0\",\n",
    "                                         quantity=\"pop0/0/olm/2/v\")\n",
    "    simulation.add_column_to_output_file(\"output0\",\n",
    "                                         column_id=\"pop0_0_v_Seg1_axon_0\",\n",
    "                                         quantity=\"pop0/0/olm/3/v\")\n",
    "    simulation.add_column_to_output_file(\"output0\",\n",
    "                                         column_id=\"pop0_0_v_Seg0_dend_0\",\n",
    "                                         quantity=\"pop0/0/olm/4/v\")\n",
    "    simulation.add_column_to_output_file(\"output0\",\n",
    "                                         column_id=\"pop0_0_v_Seg1_dend_0\",\n",
    "                                         quantity=\"pop0/0/olm/6/v\")\n",
    "    simulation.add_column_to_output_file(\"output0\",\n",
    "                                         column_id=\"pop0_0_v_Seg0_dend_1\",\n",
    "                                         quantity=\"pop0/0/olm/5/v\")\n",
    "    simulation.add_column_to_output_file(\"output0\",\n",
    "                                         column_id=\"pop0_0_v_Seg1_dend_1\",\n",
    "                                         quantity=\"pop0/0/olm/7/v\")\n",
    "    # Save LEMS simulation to file\n",
    "    sim_file = simulation.save_to_file()\n",
    "\n",
    "    # Run the simulation using the NEURON simulator\n",
    "    pynml.run_lems_with_jneuroml_neuron(sim_file, max_memory=\"2G\", nogui=True,\n",
    "                                        plot=False, skip_run=False)\n",
    "    # Plot the data\n",
    "    plot_data(sim_id)"
   ]
  },
  {
   "cell_type": "code",
   "execution_count": 7,
   "metadata": {},
   "outputs": [
    {
     "name": "stdout",
     "output_type": "stream",
     "text": [
      "pyNeuroML >>> Running jnml on olm.cell.nml with pre args: -validate, post args: , in dir: ., verbose: True, report: True, exit on fail: False\n",
      "pyNeuroML >>> Executing: (java -Xmx400M  -jar  \"/usr/share/java/jNeuroML-0.10.3.jar\" -validate \"olm.cell.nml\" ) in directory: .\n",
      "pyNeuroML >>> *** Problem running command: \n",
      "pyNeuroML >>>        Command 'java -Xmx400M  -jar  \"/usr/share/java/jNeuroML-0.10.3.jar\" -validate \"olm.cell.nml\" ' returned non-zero exit status 1.\n",
      "pyNeuroML >>>  jNeuroML >>   jNeuroML v0.10.3\n",
      "pyNeuroML >>>  jNeuroML >>  Validating: /home/asinha/Documents/02_Code/00_mine/2020-OSB/NeuroML-Documentation/source/Userdocs/NML2_examples/olm.cell.nml\n",
      "pyNeuroML >>>  jNeuroML >>  WARNING: An illegal reflective access operation has occurred\n",
      "pyNeuroML >>>  jNeuroML >>  WARNING: Illegal reflective access by com.sun.xml.bind.v2.runtime.reflect.opt.Injector (file:/usr/share/java/jNeuroML-0.10.3.jar) to method java.lang.ClassLoader.defineClass(java.lang.String,byte[],int,int)\n",
      "pyNeuroML >>>  jNeuroML >>  WARNING: Please consider reporting this to the maintainers of com.sun.xml.bind.v2.runtime.reflect.opt.Injector\n",
      "pyNeuroML >>>  jNeuroML >>  WARNING: Use --illegal-access=warn to enable warnings of further illegal reflective access operations\n",
      "pyNeuroML >>>  jNeuroML >>  WARNING: All illegal access operations will be denied in a future release\n",
      "pyNeuroML >>>  jNeuroML >>  Valid against schema\n",
      "pyNeuroML >>>  jNeuroML >>    Test: 10005 (Segment Group used in the include element of segmentGroup should exist) failed! ... SegmentGroup: soma_group, includes: soma_0\n",
      "pyNeuroML >>>  jNeuroML >>    Test: 10005 (Segment Group used in the include element of segmentGroup should exist) failed! ... SegmentGroup: axon_group, includes: axon_0\n",
      "pyNeuroML >>>  jNeuroML >>    Test: 10005 (Segment Group used in the include element of segmentGroup should exist) failed! ... SegmentGroup: dendrite_group, includes: dend_0\n",
      "pyNeuroML >>>  jNeuroML >>    Test: 10005 (Segment Group used in the include element of segmentGroup should exist) failed! ... SegmentGroup: dendrite_group, includes: dend_1\n",
      "pyNeuroML >>>  jNeuroML >>  No warnings\n",
      "pyNeuroML >>>  jNeuroML >>  \n",
      "pyNeuroML >>>  jNeuroML >>  Validated 1 files: 0 passed, 1 failed\n",
      "pyNeuroML >>>  jNeuroML >>  \n",
      "pyNeuroML >>>  jNeuroML >>  \n",
      "pyNeuroML >>> *** Problem running command: \n",
      "pyNeuroML >>>        Command 'java -Xmx400M  -jar  \"/usr/share/java/jNeuroML-0.10.3.jar\" -validate \"olm_example_net.nml\" ' returned non-zero exit status 1.\n",
      "pyNeuroML >>>  jNeuroML >>   jNeuroML v0.10.3\n",
      "pyNeuroML >>>  jNeuroML >>  Validating: /home/asinha/Documents/02_Code/00_mine/2020-OSB/NeuroML-Documentation/source/Userdocs/NML2_examples/olm_example_net.nml\n",
      "pyNeuroML >>>  jNeuroML >>  WARNING: An illegal reflective access operation has occurred\n",
      "pyNeuroML >>>  jNeuroML >>  WARNING: Illegal reflective access by com.sun.xml.bind.v2.runtime.reflect.opt.Injector (file:/usr/share/java/jNeuroML-0.10.3.jar) to method java.lang.ClassLoader.defineClass(java.lang.String,byte[],int,int)\n",
      "pyNeuroML >>>  jNeuroML >>  WARNING: Please consider reporting this to the maintainers of com.sun.xml.bind.v2.runtime.reflect.opt.Injector\n",
      "pyNeuroML >>>  jNeuroML >>  WARNING: Use --illegal-access=warn to enable warnings of further illegal reflective access operations\n",
      "pyNeuroML >>>  jNeuroML >>  WARNING: All illegal access operations will be denied in a future release\n",
      "pyNeuroML >>>  jNeuroML >>  Valid against schema\n",
      "pyNeuroML >>>  jNeuroML >>    Test: 10005 (Segment Group used in the include element of segmentGroup should exist) failed! ... SegmentGroup: soma_group, includes: soma_0\n",
      "pyNeuroML >>>  jNeuroML >>    Test: 10005 (Segment Group used in the include element of segmentGroup should exist) failed! ... SegmentGroup: axon_group, includes: axon_0\n",
      "pyNeuroML >>>  jNeuroML >>    Test: 10005 (Segment Group used in the include element of segmentGroup should exist) failed! ... SegmentGroup: dendrite_group, includes: dend_0\n",
      "pyNeuroML >>>  jNeuroML >>    Test: 10005 (Segment Group used in the include element of segmentGroup should exist) failed! ... SegmentGroup: dendrite_group, includes: dend_1\n",
      "pyNeuroML >>>  jNeuroML >>  No warnings\n",
      "pyNeuroML >>>  jNeuroML >>  \n",
      "pyNeuroML >>>  jNeuroML >>  Validated 1 files: 0 passed, 1 failed\n",
      "pyNeuroML >>>  jNeuroML >>  \n",
      "pyNeuroML >>>  jNeuroML >>  \n",
      "pyNeuroML >>> Written LEMS Simulation olm_example_sim to file: LEMS_olm_example_sim.xml\n",
      "pyNeuroML >>> Generating plot: Membrane potential (soma seg 0)\n"
     ]
    },
    {
     "name": "stderr",
     "output_type": "stream",
     "text": [
      "/usr/lib/python3.9/site-packages/pyneuroml/pynml.py:1688: MatplotlibDeprecationWarning: \n",
      "The set_window_title function was deprecated in Matplotlib 3.4 and will be removed two minor releases later. Use manager.set_window_title or GUI-specific methods instead.\n",
      "  fig.canvas.set_window_title(title)\n",
      "/usr/lib/python3.9/site-packages/pyneuroml/pynml.py:1727: UserWarning: marker is redundantly defined by the 'marker' keyword argument and the fmt string \"o\" (-> marker='o'). The keyword argument will take precedence.\n",
      "  plt.plot(xvalues[i], yvalues[i], 'o', marker=marker, markersize=markersize, linestyle=linestyle, linewidth=linewidth, label=label)\n",
      "/usr/lib/python3.9/site-packages/pyneuroml/pynml.py:1688: MatplotlibDeprecationWarning: \n",
      "The set_window_title function was deprecated in Matplotlib 3.4 and will be removed two minor releases later. Use manager.set_window_title or GUI-specific methods instead.\n",
      "  fig.canvas.set_window_title(title)\n",
      "/usr/lib/python3.9/site-packages/pyneuroml/pynml.py:1727: UserWarning: marker is redundantly defined by the 'marker' keyword argument and the fmt string \"o\" (-> marker='o'). The keyword argument will take precedence.\n",
      "  plt.plot(xvalues[i], yvalues[i], 'o', marker=marker, markersize=markersize, linestyle=linestyle, linewidth=linewidth, label=label)\n"
     ]
    },
    {
     "name": "stdout",
     "output_type": "stream",
     "text": [
      "pyNeuroML >>> Saved image to olm_example_sim_seg0_soma0-v.png of plot: Membrane potential (soma seg 0)\n",
      "pyNeuroML >>> Generating plot: Membrane potential (soma seg 1)\n",
      "pyNeuroML >>> Saved image to olm_example_sim_seg1_soma0-v.png of plot: Membrane potential (soma seg 1)\n",
      "pyNeuroML >>> Generating plot: Membrane potential (axon seg 0)\n"
     ]
    },
    {
     "name": "stderr",
     "output_type": "stream",
     "text": [
      "/usr/lib/python3.9/site-packages/pyneuroml/pynml.py:1688: MatplotlibDeprecationWarning: \n",
      "The set_window_title function was deprecated in Matplotlib 3.4 and will be removed two minor releases later. Use manager.set_window_title or GUI-specific methods instead.\n",
      "  fig.canvas.set_window_title(title)\n",
      "/usr/lib/python3.9/site-packages/pyneuroml/pynml.py:1727: UserWarning: marker is redundantly defined by the 'marker' keyword argument and the fmt string \"o\" (-> marker='o'). The keyword argument will take precedence.\n",
      "  plt.plot(xvalues[i], yvalues[i], 'o', marker=marker, markersize=markersize, linestyle=linestyle, linewidth=linewidth, label=label)\n",
      "/usr/lib/python3.9/site-packages/pyneuroml/pynml.py:1688: MatplotlibDeprecationWarning: \n",
      "The set_window_title function was deprecated in Matplotlib 3.4 and will be removed two minor releases later. Use manager.set_window_title or GUI-specific methods instead.\n",
      "  fig.canvas.set_window_title(title)\n",
      "/usr/lib/python3.9/site-packages/pyneuroml/pynml.py:1727: UserWarning: marker is redundantly defined by the 'marker' keyword argument and the fmt string \"o\" (-> marker='o'). The keyword argument will take precedence.\n",
      "  plt.plot(xvalues[i], yvalues[i], 'o', marker=marker, markersize=markersize, linestyle=linestyle, linewidth=linewidth, label=label)\n"
     ]
    },
    {
     "name": "stdout",
     "output_type": "stream",
     "text": [
      "pyNeuroML >>> Saved image to olm_example_sim_seg0_axon0-v.png of plot: Membrane potential (axon seg 0)\n",
      "pyNeuroML >>> Generating plot: Membrane potential (axon seg 1)\n",
      "pyNeuroML >>> Saved image to olm_example_sim_seg1_axon0-v.png of plot: Membrane potential (axon seg 1)\n"
     ]
    },
    {
     "data": {
      "image/png": "[encoded data removed]",
      "text/plain": [
       "<Figure size 432x288 with 1 Axes>"
      ]
     },
     "metadata": {
      "needs_background": "light"
     },
     "output_type": "display_data"
    },
    {
     "data": {
      "image/png": "[encoded data removed]",
      "text/plain": [
       "<Figure size 432x288 with 1 Axes>"
      ]
     },
     "metadata": {
      "needs_background": "light"
     },
     "output_type": "display_data"
    },
    {
     "data": {
      "image/png": "[encoded data removed]",
      "text/plain": [
       "<Figure size 432x288 with 1 Axes>"
      ]
     },
     "metadata": {
      "needs_background": "light"
     },
     "output_type": "display_data"
    },
    {
     "data": {
      "image/png": "[encoded data removed]",
      "text/plain": [
       "<Figure size 432x288 with 1 Axes>"
      ]
     },
     "metadata": {
      "needs_background": "light"
     },
     "output_type": "display_data"
    }
   ],
   "source": [
    "if __name__ == \"__main__\":\n",
    "    main()"
   ]
  },
  {
   "cell_type": "code",
   "execution_count": null,
   "metadata": {},
   "outputs": [],
   "source": []
  }
 ],
 "metadata": {
  "kernelspec": {
   "display_name": "Python 3",
   "language": "python",
   "name": "python3"
  },
  "language_info": {
   "codemirror_mode": {
    "name": "ipython",
    "version": 3
   },
   "file_extension": ".py",
   "mimetype": "text/x-python",
   "name": "python",
   "nbconvert_exporter": "python",
   "pygments_lexer": "ipython3",
   "version": "3.9.5"
  }
 },
 "nbformat": 4,
 "nbformat_minor": 4
}
