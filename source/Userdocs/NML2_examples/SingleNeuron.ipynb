{
 "cells": [
  {
   "cell_type": "markdown",
   "metadata": {},
   "source": [
    "# Interactive single Izhikevich neuron NeuroML example\n",
    "\n",
    "To run this interactive Jupyter Notebook when viewing the online NeuroML documentation (e.g. via Binder or Google Colab), please click on the rocket icon 🚀 in the top panel. For more information, please see {ref}`how to use this documentation <userdocs:usage:jupyterbooks>`.\n",
    "\n",
    "This notebook creates a simple model in [NeuroML version 2](https://docs.neuroml.org/Userdocs/NeuroMLv2.html). It adds a [simple spiking neuron model](https://docs.neuroml.org/Userdocs/Schemas/Cells.html#schema-izhikevich2007cell) to a [population](https://docs.neuroml.org/Userdocs/Schemas/Networks.html#schema-population) and then the population to a [network](https://docs.neuroml.org/Userdocs/Schemas/Networks.html#network). Then we create a [LEMS simulation file](https://docs.neuroml.org/Userdocs/LEMSSimulation.html) to specify how to to a simulate the model, and finally we execute it using [jNeuroML](https://docs.neuroml.org/Userdocs/Software/jNeuroML.html#jneuroml).  The results of that simulation are plotted below.\n",
    "\n",
    "<center>\n",
    "<img src=\"https://raw.githubusercontent.com/NeuroML/Documentation/development/source/Userdocs/NML2_examples/SingleNeuron.png\" alt=\"NeuroML Simulation Plot\">\n",
    "</center>\n",
    "\n",
    "See also a {ref}`more detailed introduction to NeuroML and LEMS using this example <userdocs:getting_started:single_example>`. \n",
    "\n",
    "## 1) Initial setup and library installs\n",
    "\n",
    "Please uncomment the line below if you use the Google Colab (it does not include these packages by default)."
   ]
  },
  {
   "cell_type": "code",
   "execution_count": 1,
   "metadata": {},
   "outputs": [],
   "source": [
    "#%pip install pyneuroml neuromllite NEURON"
   ]
  },
  {
   "cell_type": "code",
   "execution_count": 2,
   "metadata": {},
   "outputs": [],
   "source": [
    "from neuroml import NeuroMLDocument\n",
    "import neuroml.writers as writers\n",
    "from neuroml.utils import component_factory\n",
    "from neuroml.utils import validate_neuroml2\n",
    "from pyneuroml import pynml\n",
    "from pyneuroml.lems import LEMSSimulation\n",
    "import numpy as np"
   ]
  },
  {
   "cell_type": "markdown",
   "metadata": {},
   "source": [
    "## 2) Declaring the NeuroML model"
   ]
  },
  {
   "cell_type": "markdown",
   "metadata": {},
   "source": [
    "### Create a NeuroML document\n",
    "\n",
    "This is the container document to which the cells and the network will be added. "
   ]
  },
  {
   "cell_type": "code",
   "execution_count": 3,
   "metadata": {},
   "outputs": [],
   "source": [
    "nml_doc = component_factory(NeuroMLDocument, id=\"IzhSingleNeuron\")"
   ]
  },
  {
   "cell_type": "markdown",
   "metadata": {},
   "source": [
    "### Define the Izhikevich cell and add it to the model\n",
    "\n",
    "The [Izhikevich model](https://www.izhikevich.org/publications/spikes.htm) is a simple, 2 variable neuron model exhibiting a range of neurophysiologically realistic spiking behaviours depending on the parameters given. We use the [izhikevich2007cell](https://docs.neuroml.org/Userdocs/Schemas/Cells.html#izhikevich2007cell) version here. \n"
   ]
  },
  {
   "cell_type": "code",
   "execution_count": 4,
   "metadata": {},
   "outputs": [],
   "source": [
    "izh0 = nml_doc.add(\n",
    "    \"Izhikevich2007Cell\",\n",
    "    id=\"izh2007RS0\", v0=\"-60mV\", C=\"100pF\", k=\"0.7nS_per_mV\", vr=\"-60mV\",\n",
    "    vt=\"-40mV\", vpeak=\"35mV\", a=\"0.03per_ms\", b=\"-2nS\", c=\"-50.0mV\", d=\"100pA\")\n",
    "\n"
   ]
  },
  {
   "cell_type": "markdown",
   "metadata": {},
   "source": [
    "### Create a network and add it to the model\n",
    "\n",
    "We add a [network](https://docs.neuroml.org/Userdocs/Schemas/Networks.html#network) to the document created above. "
   ]
  },
  {
   "cell_type": "code",
   "execution_count": 5,
   "metadata": {},
   "outputs": [],
   "source": [
    "net = nml_doc.add(\"Network\", id=\"IzNet\", validate=False)"
   ]
  },
  {
   "cell_type": "markdown",
   "metadata": {},
   "source": [
    "### Create a population of defined cells and add it to the model\n",
    "\n",
    "A [population](https://docs.neuroml.org/Userdocs/Schemas/Networks.html#schema-population) of size 1 of these cells is created and then added to the network. "
   ]
  },
  {
   "cell_type": "code",
   "execution_count": 6,
   "metadata": {},
   "outputs": [],
   "source": [
    "size0 = 1\n",
    "pop0 = net.add(\"Population\", id=\"IzhPop0\", component=izh0.id, size=size0)\n"
   ]
  },
  {
   "cell_type": "markdown",
   "metadata": {},
   "source": [
    "### Define an external stimulus and add it to the model\n",
    "\n",
    "On its own the cell will not spike, so we add a small current to it in the form of a [pulse generator](https://docs.neuroml.org/Userdocs/Schemas/Inputs.html#pulsegenerator) which will apply a square pulse of current. "
   ]
  },
  {
   "cell_type": "code",
   "execution_count": 7,
   "metadata": {},
   "outputs": [],
   "source": [
    "pg = nml_doc.add(\n",
    "    \"PulseGenerator\",\n",
    "    id=\"pulseGen_%i\" % 0, delay=\"0ms\", duration=\"1000ms\",\n",
    "    amplitude=\"0.07 nA\"\n",
    ")\n",
    "exp_input = net.add(\"ExplicitInput\", target=\"%s[%i]\" % (pop0.id, 0), input=pg.id)"
   ]
  },
  {
   "cell_type": "markdown",
   "metadata": {},
   "source": [
    "## 3) Write, print and validate the generated file \n",
    "\n",
    "### Write the NeuroML model to a file"
   ]
  },
  {
   "cell_type": "code",
   "execution_count": 8,
   "metadata": {},
   "outputs": [
    {
     "name": "stdout",
     "output_type": "stream",
     "text": [
      "Written network file to: izhikevich2007_single_cell_network.nml\n"
     ]
    }
   ],
   "source": [
    "nml_file = 'izhikevich2007_single_cell_network.nml'\n",
    "writers.NeuroMLWriter.write(nml_doc, nml_file)\n",
    "print(\"Written network file to: \" + nml_file)"
   ]
  },
  {
   "cell_type": "markdown",
   "metadata": {},
   "source": [
    "### Print out the file\n",
    "\n",
    "Here we print the XML for the saved NeuroML file. "
   ]
  },
  {
   "cell_type": "code",
   "execution_count": 9,
   "metadata": {},
   "outputs": [
    {
     "name": "stdout",
     "output_type": "stream",
     "text": [
      "<neuroml xmlns=\"http://www.neuroml.org/schema/neuroml2\"  xmlns:xs=\"http://www.w3.org/2001/XMLSchema\" xmlns:xsi=\"http://www.w3.org/2001/XMLSchema-instance\" xsi:schemaLocation=\"http://www.neuroml.org/schema/neuroml2 https://raw.github.com/NeuroML/NeuroML2/development/Schemas/NeuroML2/NeuroML_v2.3.xsd\" id=\"IzhSingleNeuron\">\n",
      "    <izhikevich2007Cell id=\"izh2007RS0\" C=\"100pF\" v0=\"-60mV\" k=\"0.7nS_per_mV\" vr=\"-60mV\" vt=\"-40mV\" vpeak=\"35mV\" a=\"0.03per_ms\" b=\"-2nS\" c=\"-50.0mV\" d=\"100pA\"/>\n",
      "    <pulseGenerator id=\"pulseGen_0\" delay=\"0ms\" duration=\"1000ms\" amplitude=\"0.07 nA\"/>\n",
      "    <network id=\"IzNet\">\n",
      "        <population id=\"IzhPop0\" component=\"izh2007RS0\" size=\"1\"/>\n",
      "        <explicitInput target=\"IzhPop0[0]\" input=\"pulseGen_0\"/>\n",
      "    </network>\n",
      "</neuroml>\n",
      "\n"
     ]
    }
   ],
   "source": [
    "with open(nml_file) as f: \n",
    "   print(f.read())"
   ]
  },
  {
   "cell_type": "markdown",
   "metadata": {},
   "source": [
    "### Validate the NeuroML model"
   ]
  },
  {
   "cell_type": "code",
   "execution_count": 10,
   "metadata": {},
   "outputs": [
    {
     "name": "stdout",
     "output_type": "stream",
     "text": [
      "It's valid!\n"
     ]
    }
   ],
   "source": [
    "validate_neuroml2(nml_file)"
   ]
  },
  {
   "cell_type": "markdown",
   "metadata": {},
   "source": [
    "## 4) Simulating the model"
   ]
  },
  {
   "cell_type": "markdown",
   "metadata": {},
   "source": [
    "### Create a simulation instance of the model\n",
    "\n",
    "The NeuroML file does not contain any information on how long to simulate the model for or what to save etc. For this we will need a [LEMS simulation file](https://docs.neuroml.org/Userdocs/LEMSSimulation.html)."
   ]
  },
  {
   "cell_type": "code",
   "execution_count": 11,
   "metadata": {},
   "outputs": [
    {
     "name": "stderr",
     "output_type": "stream",
     "text": [
      "pyNeuroML >>> INFO - Loading NeuroML2 file: /Users/padraig/git/Documentation/source/Userdocs/NML2_examples/izhikevich2007_single_cell_network.nml\n"
     ]
    }
   ],
   "source": [
    "simulation_id = \"example-single-izhikevich2007cell-sim\"\n",
    "simulation = LEMSSimulation(sim_id=simulation_id,\n",
    "                            duration=1000, dt=0.1, simulation_seed=123)\n",
    "simulation.assign_simulation_target(net.id)\n",
    "simulation.include_neuroml2_file(nml_file)"
   ]
  },
  {
   "cell_type": "markdown",
   "metadata": {},
   "source": [
    "### Define the output file to store simulation outputs\n",
    "\n",
    "Here, we record the neuron's membrane potential to the specified data file."
   ]
  },
  {
   "cell_type": "code",
   "execution_count": 12,
   "metadata": {},
   "outputs": [],
   "source": [
    "simulation.create_output_file(\n",
    "    \"output0\", \"%s.v.dat\" % simulation_id\n",
    ")\n",
    "simulation.add_column_to_output_file(\"output0\", 'IzhPop0[0]', 'IzhPop0[0]/v')"
   ]
  },
  {
   "cell_type": "markdown",
   "metadata": {},
   "source": [
    "### Save the simulation to a file"
   ]
  },
  {
   "cell_type": "code",
   "execution_count": 13,
   "metadata": {},
   "outputs": [
    {
     "name": "stdout",
     "output_type": "stream",
     "text": [
      "<Lems>\n",
      "\n",
      "    <!-- \n",
      "\n",
      "        This LEMS file has been automatically generated using PyNeuroML v1.1.10 (libNeuroML v0.5.8)\n",
      "\n",
      "     -->\n",
      "\n",
      "    <!-- Specify which component to run -->\n",
      "    <Target component=\"example-single-izhikevich2007cell-sim\"/>\n",
      "\n",
      "    <!-- Include core NeuroML2 ComponentType definitions -->\n",
      "    <Include file=\"Cells.xml\"/>\n",
      "    <Include file=\"Networks.xml\"/>\n",
      "    <Include file=\"Simulation.xml\"/>\n",
      "\n",
      "    <Include file=\"izhikevich2007_single_cell_network.nml\"/>\n",
      "\n",
      "    <Simulation id=\"example-single-izhikevich2007cell-sim\" length=\"1000ms\" step=\"0.1ms\" target=\"IzNet\" seed=\"123\">  <!-- Note seed: ensures same random numbers used every run -->\n",
      "        <OutputFile id=\"output0\" fileName=\"example-single-izhikevich2007cell-sim.v.dat\">\n",
      "            <OutputColumn id=\"IzhPop0[0]\" quantity=\"IzhPop0[0]/v\"/>\n",
      "        </OutputFile>\n",
      "\n",
      "    </Simulation>\n",
      "\n",
      "</Lems>\n",
      "\n"
     ]
    }
   ],
   "source": [
    "lems_simulation_file = simulation.save_to_file()\n",
    "with open(lems_simulation_file) as f: \n",
    "   print(f.read())"
   ]
  },
  {
   "cell_type": "markdown",
   "metadata": {},
   "source": [
    "## Run the simulation using the jNeuroML simulator"
   ]
  },
  {
   "cell_type": "code",
   "execution_count": 14,
   "metadata": {},
   "outputs": [
    {
     "name": "stderr",
     "output_type": "stream",
     "text": [
      "pyNeuroML >>> INFO - Loading LEMS file: LEMS_example-single-izhikevich2007cell-sim.xml and running with jNeuroML\n",
      "pyNeuroML >>> INFO - Executing: (java -Xmx2G  -Djava.awt.headless=true -jar  \"/opt/homebrew/anaconda3/envs/py39n/lib/python3.9/site-packages/pyneuroml/lib/jNeuroML-0.13.0-jar-with-dependencies.jar\"  LEMS_example-single-izhikevich2007cell-sim.xml  -nogui -I '') in directory: .\n",
      "pyNeuroML >>> INFO - Command completed successfully!\n"
     ]
    },
    {
     "data": {
      "text/plain": [
       "True"
      ]
     },
     "execution_count": 14,
     "metadata": {},
     "output_type": "execute_result"
    }
   ],
   "source": [
    "pynml.run_lems_with_jneuroml(\n",
    "    lems_simulation_file, max_memory=\"2G\", nogui=True, plot=False\n",
    ")"
   ]
  },
  {
   "cell_type": "markdown",
   "metadata": {},
   "source": [
    "## Plot the recorded data"
   ]
  },
  {
   "cell_type": "code",
   "execution_count": 15,
   "metadata": {
    "scrolled": true
   },
   "outputs": [
    {
     "name": "stderr",
     "output_type": "stream",
     "text": [
      "pyNeuroML >>> INFO - Generating plot: Membrane potential\n",
      "pyNeuroML >>> INFO - Saving image to /Users/padraig/git/Documentation/source/Userdocs/NML2_examples/SingleNeuron.png of plot: Membrane potential\n",
      "pyNeuroML >>> INFO - Saved image to SingleNeuron.png of plot: Membrane potential\n"
     ]
    },
    {
     "data": {
      "image/png": "[encoded data removed]",
      "text/plain": [
       "<Figure size 640x480 with 1 Axes>"
      ]
     },
     "metadata": {},
     "output_type": "display_data"
    },
    {
     "data": {
      "text/plain": [
       "<Axes: xlabel='time (s)', ylabel='membrane potential (V)'>"
      ]
     },
     "execution_count": 15,
     "metadata": {},
     "output_type": "execute_result"
    }
   ],
   "source": [
    "# Load the data from the file and plot the graph for the membrane potential\n",
    "# using the pynml generate_plot utility function.\n",
    "data_array = np.loadtxt(\"%s.v.dat\" % simulation_id)\n",
    "pynml.generate_plot(\n",
    "    [data_array[:, 0]], [data_array[:, 1]],\n",
    "    \"Membrane potential\", show_plot_already=True,\n",
    "    xaxis=\"time (s)\", yaxis=\"membrane potential (V)\",\n",
    "    save_figure_to=\"SingleNeuron.png\"\n",
    "    \n",
    ")"
   ]
  },
  {
   "cell_type": "code",
   "execution_count": null,
   "metadata": {},
   "outputs": [],
   "source": []
  }
 ],
 "metadata": {
  "kernelspec": {
   "display_name": "Python 3 (ipykernel)",
   "language": "python",
   "name": "python3"
  },
  "language_info": {
   "codemirror_mode": {
    "name": "ipython",
    "version": 3
   },
   "file_extension": ".py",
   "mimetype": "text/x-python",
   "name": "python",
   "nbconvert_exporter": "python",
   "pygments_lexer": "ipython3",
   "version": "3.9.16"
  }
 },
 "nbformat": 4,
 "nbformat_minor": 4
}
