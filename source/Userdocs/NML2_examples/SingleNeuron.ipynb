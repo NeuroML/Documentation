{
 "cells": [
  {
   "cell_type": "markdown",
   "metadata": {},
   "source": [
    "# Interactive single Izhikevich neuron NeuroML example\n",
    "\n",
    "To run this interactive Jupyter Notebook, please click on the rocket icon 🚀 in the top panel. For more information, please see {ref}`how to use this documentation <userdocs:usage:jupyterbooks>`.\n",
    "Please uncomment the line below if you use the Google Colab (it does not include these packages by default)."
   ]
  },
  {
   "cell_type": "code",
   "execution_count": 1,
   "metadata": {},
   "outputs": [],
   "source": [
    "#%pip install pyneuroml neuromllite NEURON"
   ]
  },
  {
   "cell_type": "code",
   "execution_count": 2,
   "metadata": {},
   "outputs": [],
   "source": [
    "from neuroml import NeuroMLDocument\n",
    "from neuroml import Izhikevich2007Cell\n",
    "from neuroml import Population\n",
    "from neuroml import Network\n",
    "from neuroml import PulseGenerator\n",
    "from neuroml import ExplicitInput\n",
    "import neuroml.writers as writers\n",
    "from neuroml.utils import validate_neuroml2\n",
    "from pyneuroml import pynml\n",
    "from pyneuroml.lems import LEMSSimulation\n",
    "import numpy as np"
   ]
  },
  {
   "cell_type": "markdown",
   "metadata": {},
   "source": [
    "## Declaring the NeuroML model"
   ]
  },
  {
   "cell_type": "markdown",
   "metadata": {},
   "source": [
    "### Create a NeuroML document"
   ]
  },
  {
   "cell_type": "code",
   "execution_count": 3,
   "metadata": {},
   "outputs": [],
   "source": [
    "nml_doc = NeuroMLDocument(id=\"IzhSingleNeuron\")"
   ]
  },
  {
   "cell_type": "markdown",
   "metadata": {},
   "source": [
    "## Helper functions: info and add"
   ]
  },
  {
   "cell_type": "code",
   "execution_count": 4,
   "metadata": {},
   "outputs": [
    {
     "name": "stdout",
     "output_type": "stream",
     "text": [
      "Valid members for NeuroMLDocument are:\n",
      "* includes (class: IncludeType)\n",
      "* extracellular_properties (class: ExtracellularProperties)\n",
      "* intracellular_properties (class: IntracellularProperties)\n",
      "* morphology (class: Morphology)\n",
      "* ion_channel (class: IonChannel)\n",
      "* ion_channel_hhs (class: IonChannelHH)\n",
      "* ion_channel_v_shifts (class: IonChannelVShift)\n",
      "* ion_channel_kses (class: IonChannelKS)\n",
      "* decaying_pool_concentration_models (class: DecayingPoolConcentrationModel)\n",
      "* fixed_factor_concentration_models (class: FixedFactorConcentrationModel)\n",
      "* alpha_current_synapses (class: AlphaCurrentSynapse)\n",
      "* alpha_synapses (class: AlphaSynapse)\n",
      "* exp_one_synapses (class: ExpOneSynapse)\n",
      "* exp_two_synapses (class: ExpTwoSynapse)\n",
      "* exp_three_synapses (class: ExpThreeSynapse)\n",
      "* blocking_plastic_synapses (class: BlockingPlasticSynapse)\n",
      "* double_synapses (class: DoubleSynapse)\n",
      "* gap_junctions (class: GapJunction)\n",
      "* silent_synapses (class: SilentSynapse)\n",
      "* linear_graded_synapses (class: LinearGradedSynapse)\n",
      "* graded_synapses (class: GradedSynapse)\n",
      "* biophysical_properties (class: BiophysicalProperties)\n",
      "* cells (class: Cell)\n",
      "* cell2_ca_poolses (class: Cell2CaPools)\n",
      "* base_cells (class: BaseCell)\n",
      "* iaf_tau_cells (class: IafTauCell)\n",
      "* iaf_tau_ref_cells (class: IafTauRefCell)\n",
      "* iaf_cells (class: IafCell)\n",
      "* iaf_ref_cells (class: IafRefCell)\n",
      "* izhikevich_cells (class: IzhikevichCell)\n",
      "* izhikevich2007_cells (class: Izhikevich2007Cell)\n",
      "* ad_ex_ia_f_cells (class: AdExIaFCell)\n",
      "* fitz_hugh_nagumo_cells (class: FitzHughNagumoCell)\n",
      "* fitz_hugh_nagumo1969_cells (class: FitzHughNagumo1969Cell)\n",
      "* pinsky_rinzel_ca3_cells (class: PinskyRinzelCA3Cell)\n",
      "* pulse_generators (class: PulseGenerator)\n",
      "* pulse_generator_dls (class: PulseGeneratorDL)\n",
      "* sine_generators (class: SineGenerator)\n",
      "* sine_generator_dls (class: SineGeneratorDL)\n",
      "* ramp_generators (class: RampGenerator)\n",
      "* ramp_generator_dls (class: RampGeneratorDL)\n",
      "* compound_inputs (class: CompoundInput)\n",
      "* compound_input_dls (class: CompoundInputDL)\n",
      "* voltage_clamps (class: VoltageClamp)\n",
      "* voltage_clamp_triples (class: VoltageClampTriple)\n",
      "* spike_arrays (class: SpikeArray)\n",
      "* timed_synaptic_inputs (class: TimedSynapticInput)\n",
      "* spike_generators (class: SpikeGenerator)\n",
      "* spike_generator_randoms (class: SpikeGeneratorRandom)\n",
      "* spike_generator_poissons (class: SpikeGeneratorPoisson)\n",
      "* spike_generator_ref_poissons (class: SpikeGeneratorRefPoisson)\n",
      "* poisson_firing_synapses (class: PoissonFiringSynapse)\n",
      "* transient_poisson_firing_synapses (class: TransientPoissonFiringSynapse)\n",
      "* IF_curr_alpha (class: IF_curr_alpha)\n",
      "* IF_curr_exp (class: IF_curr_exp)\n",
      "* IF_cond_alpha (class: IF_cond_alpha)\n",
      "* IF_cond_exp (class: IF_cond_exp)\n",
      "* EIF_cond_exp_isfa_ista (class: EIF_cond_exp_isfa_ista)\n",
      "* EIF_cond_alpha_isfa_ista (class: EIF_cond_alpha_isfa_ista)\n",
      "* HH_cond_exp (class: HH_cond_exp)\n",
      "* exp_cond_synapses (class: ExpCondSynapse)\n",
      "* alpha_cond_synapses (class: AlphaCondSynapse)\n",
      "* exp_curr_synapses (class: ExpCurrSynapse)\n",
      "* alpha_curr_synapses (class: AlphaCurrSynapse)\n",
      "* SpikeSourcePoisson (class: SpikeSourcePoisson)\n",
      "* networks (class: Network)\n",
      "* ComponentType (class: ComponentType)\n",
      "Please see the NeuroML standard schema documentation at https://docs.neuroml.org/Userdocs/NeuroMLv2.html for more information.\n"
     ]
    },
    {
     "data": {
      "text/plain": [
       "'Valid members for NeuroMLDocument are:\\n* includes (class: IncludeType)\\n* extracellular_properties (class: ExtracellularProperties)\\n* intracellular_properties (class: IntracellularProperties)\\n* morphology (class: Morphology)\\n* ion_channel (class: IonChannel)\\n* ion_channel_hhs (class: IonChannelHH)\\n* ion_channel_v_shifts (class: IonChannelVShift)\\n* ion_channel_kses (class: IonChannelKS)\\n* decaying_pool_concentration_models (class: DecayingPoolConcentrationModel)\\n* fixed_factor_concentration_models (class: FixedFactorConcentrationModel)\\n* alpha_current_synapses (class: AlphaCurrentSynapse)\\n* alpha_synapses (class: AlphaSynapse)\\n* exp_one_synapses (class: ExpOneSynapse)\\n* exp_two_synapses (class: ExpTwoSynapse)\\n* exp_three_synapses (class: ExpThreeSynapse)\\n* blocking_plastic_synapses (class: BlockingPlasticSynapse)\\n* double_synapses (class: DoubleSynapse)\\n* gap_junctions (class: GapJunction)\\n* silent_synapses (class: SilentSynapse)\\n* linear_graded_synapses (class: LinearGradedSynapse)\\n* graded_synapses (class: GradedSynapse)\\n* biophysical_properties (class: BiophysicalProperties)\\n* cells (class: Cell)\\n* cell2_ca_poolses (class: Cell2CaPools)\\n* base_cells (class: BaseCell)\\n* iaf_tau_cells (class: IafTauCell)\\n* iaf_tau_ref_cells (class: IafTauRefCell)\\n* iaf_cells (class: IafCell)\\n* iaf_ref_cells (class: IafRefCell)\\n* izhikevich_cells (class: IzhikevichCell)\\n* izhikevich2007_cells (class: Izhikevich2007Cell)\\n* ad_ex_ia_f_cells (class: AdExIaFCell)\\n* fitz_hugh_nagumo_cells (class: FitzHughNagumoCell)\\n* fitz_hugh_nagumo1969_cells (class: FitzHughNagumo1969Cell)\\n* pinsky_rinzel_ca3_cells (class: PinskyRinzelCA3Cell)\\n* pulse_generators (class: PulseGenerator)\\n* pulse_generator_dls (class: PulseGeneratorDL)\\n* sine_generators (class: SineGenerator)\\n* sine_generator_dls (class: SineGeneratorDL)\\n* ramp_generators (class: RampGenerator)\\n* ramp_generator_dls (class: RampGeneratorDL)\\n* compound_inputs (class: CompoundInput)\\n* compound_input_dls (class: CompoundInputDL)\\n* voltage_clamps (class: VoltageClamp)\\n* voltage_clamp_triples (class: VoltageClampTriple)\\n* spike_arrays (class: SpikeArray)\\n* timed_synaptic_inputs (class: TimedSynapticInput)\\n* spike_generators (class: SpikeGenerator)\\n* spike_generator_randoms (class: SpikeGeneratorRandom)\\n* spike_generator_poissons (class: SpikeGeneratorPoisson)\\n* spike_generator_ref_poissons (class: SpikeGeneratorRefPoisson)\\n* poisson_firing_synapses (class: PoissonFiringSynapse)\\n* transient_poisson_firing_synapses (class: TransientPoissonFiringSynapse)\\n* IF_curr_alpha (class: IF_curr_alpha)\\n* IF_curr_exp (class: IF_curr_exp)\\n* IF_cond_alpha (class: IF_cond_alpha)\\n* IF_cond_exp (class: IF_cond_exp)\\n* EIF_cond_exp_isfa_ista (class: EIF_cond_exp_isfa_ista)\\n* EIF_cond_alpha_isfa_ista (class: EIF_cond_alpha_isfa_ista)\\n* HH_cond_exp (class: HH_cond_exp)\\n* exp_cond_synapses (class: ExpCondSynapse)\\n* alpha_cond_synapses (class: AlphaCondSynapse)\\n* exp_curr_synapses (class: ExpCurrSynapse)\\n* alpha_curr_synapses (class: AlphaCurrSynapse)\\n* SpikeSourcePoisson (class: SpikeSourcePoisson)\\n* networks (class: Network)\\n* ComponentType (class: ComponentType)\\nPlease see the NeuroML standard schema documentation at https://docs.neuroml.org/Userdocs/NeuroMLv2.html for more information.'"
      ]
     },
     "execution_count": 4,
     "metadata": {},
     "output_type": "execute_result"
    }
   ],
   "source": [
    "nml_doc.info()"
   ]
  },
  {
   "cell_type": "code",
   "execution_count": 5,
   "metadata": {},
   "outputs": [
    {
     "name": "stdout",
     "output_type": "stream",
     "text": [
      "Valid members for NeuroMLDocument are:\n",
      "* includes (class: IncludeType)\n",
      "* extracellular_properties (class: ExtracellularProperties)\n",
      "* intracellular_properties (class: IntracellularProperties)\n",
      "* morphology (class: Morphology)\n",
      "* ion_channel (class: IonChannel)\n",
      "* ion_channel_hhs (class: IonChannelHH)\n",
      "* ion_channel_v_shifts (class: IonChannelVShift)\n",
      "* ion_channel_kses (class: IonChannelKS)\n",
      "* decaying_pool_concentration_models (class: DecayingPoolConcentrationModel)\n",
      "* fixed_factor_concentration_models (class: FixedFactorConcentrationModel)\n",
      "* alpha_current_synapses (class: AlphaCurrentSynapse)\n",
      "* alpha_synapses (class: AlphaSynapse)\n",
      "* exp_one_synapses (class: ExpOneSynapse)\n",
      "* exp_two_synapses (class: ExpTwoSynapse)\n",
      "* exp_three_synapses (class: ExpThreeSynapse)\n",
      "* blocking_plastic_synapses (class: BlockingPlasticSynapse)\n",
      "* double_synapses (class: DoubleSynapse)\n",
      "* gap_junctions (class: GapJunction)\n",
      "* silent_synapses (class: SilentSynapse)\n",
      "* linear_graded_synapses (class: LinearGradedSynapse)\n",
      "* graded_synapses (class: GradedSynapse)\n",
      "* biophysical_properties (class: BiophysicalProperties)\n",
      "* cells (class: Cell)\n",
      "* cell2_ca_poolses (class: Cell2CaPools)\n",
      "* base_cells (class: BaseCell)\n",
      "* iaf_tau_cells (class: IafTauCell)\n",
      "* iaf_tau_ref_cells (class: IafTauRefCell)\n",
      "* iaf_cells (class: IafCell)\n",
      "* iaf_ref_cells (class: IafRefCell)\n",
      "* izhikevich_cells (class: IzhikevichCell)\n",
      "* izhikevich2007_cells (class: Izhikevich2007Cell)\n",
      "* ad_ex_ia_f_cells (class: AdExIaFCell)\n",
      "* fitz_hugh_nagumo_cells (class: FitzHughNagumoCell)\n",
      "* fitz_hugh_nagumo1969_cells (class: FitzHughNagumo1969Cell)\n",
      "* pinsky_rinzel_ca3_cells (class: PinskyRinzelCA3Cell)\n",
      "* pulse_generators (class: PulseGenerator)\n",
      "* pulse_generator_dls (class: PulseGeneratorDL)\n",
      "* sine_generators (class: SineGenerator)\n",
      "* sine_generator_dls (class: SineGeneratorDL)\n",
      "* ramp_generators (class: RampGenerator)\n",
      "* ramp_generator_dls (class: RampGeneratorDL)\n",
      "* compound_inputs (class: CompoundInput)\n",
      "* compound_input_dls (class: CompoundInputDL)\n",
      "* voltage_clamps (class: VoltageClamp)\n",
      "* voltage_clamp_triples (class: VoltageClampTriple)\n",
      "* spike_arrays (class: SpikeArray)\n",
      "* timed_synaptic_inputs (class: TimedSynapticInput)\n",
      "* spike_generators (class: SpikeGenerator)\n",
      "* spike_generator_randoms (class: SpikeGeneratorRandom)\n",
      "* spike_generator_poissons (class: SpikeGeneratorPoisson)\n",
      "* spike_generator_ref_poissons (class: SpikeGeneratorRefPoisson)\n",
      "* poisson_firing_synapses (class: PoissonFiringSynapse)\n",
      "* transient_poisson_firing_synapses (class: TransientPoissonFiringSynapse)\n",
      "* IF_curr_alpha (class: IF_curr_alpha)\n",
      "* IF_curr_exp (class: IF_curr_exp)\n",
      "* IF_cond_alpha (class: IF_cond_alpha)\n",
      "* IF_cond_exp (class: IF_cond_exp)\n",
      "* EIF_cond_exp_isfa_ista (class: EIF_cond_exp_isfa_ista)\n",
      "* EIF_cond_alpha_isfa_ista (class: EIF_cond_alpha_isfa_ista)\n",
      "* HH_cond_exp (class: HH_cond_exp)\n",
      "* exp_cond_synapses (class: ExpCondSynapse)\n",
      "* alpha_cond_synapses (class: AlphaCondSynapse)\n",
      "* exp_curr_synapses (class: ExpCurrSynapse)\n",
      "* alpha_curr_synapses (class: AlphaCurrSynapse)\n",
      "* SpikeSourcePoisson (class: SpikeSourcePoisson)\n",
      "* networks (class: Network)\n",
      "* ComponentType (class: ComponentType)\n",
      "Please see the NeuroML standard schema documentation at https://docs.neuroml.org/Userdocs/NeuroMLv2.html for more information.\n"
     ]
    }
   ],
   "source": [
    "nml_doc.add()"
   ]
  },
  {
   "cell_type": "markdown",
   "metadata": {},
   "source": [
    "### Define the Izhikevich cell and add it to the model"
   ]
  },
  {
   "cell_type": "code",
   "execution_count": 6,
   "metadata": {},
   "outputs": [],
   "source": [
    "izh0 = Izhikevich2007Cell(\n",
    "    id=\"izh2007RS0\", v0=\"-60mV\", C=\"100pF\", k=\"0.7nS_per_mV\", vr=\"-60mV\",\n",
    "    vt=\"-40mV\", vpeak=\"35mV\", a=\"0.03per_ms\", b=\"-2nS\", c=\"-50.0mV\", d=\"100pA\")\n",
    "\n",
    "nml_doc.add(izh0)"
   ]
  },
  {
   "cell_type": "code",
   "execution_count": 7,
   "metadata": {},
   "outputs": [
    {
     "name": "stdout",
     "output_type": "stream",
     "text": [
      "Valid members for NeuroMLDocument are:\n",
      "* includes (class: IncludeType)\n",
      "\t* Contents: []\n",
      "\n",
      "* extracellular_properties (class: ExtracellularProperties)\n",
      "\t* Contents: []\n",
      "\n",
      "* intracellular_properties (class: IntracellularProperties)\n",
      "\t* Contents: []\n",
      "\n",
      "* morphology (class: Morphology)\n",
      "\t* Contents: []\n",
      "\n",
      "* ion_channel (class: IonChannel)\n",
      "\t* Contents: []\n",
      "\n",
      "* ion_channel_hhs (class: IonChannelHH)\n",
      "\t* Contents: []\n",
      "\n",
      "* ion_channel_v_shifts (class: IonChannelVShift)\n",
      "\t* Contents: []\n",
      "\n",
      "* ion_channel_kses (class: IonChannelKS)\n",
      "\t* Contents: []\n",
      "\n",
      "* decaying_pool_concentration_models (class: DecayingPoolConcentrationModel)\n",
      "\t* Contents: []\n",
      "\n",
      "* fixed_factor_concentration_models (class: FixedFactorConcentrationModel)\n",
      "\t* Contents: []\n",
      "\n",
      "* alpha_current_synapses (class: AlphaCurrentSynapse)\n",
      "\t* Contents: []\n",
      "\n",
      "* alpha_synapses (class: AlphaSynapse)\n",
      "\t* Contents: []\n",
      "\n",
      "* exp_one_synapses (class: ExpOneSynapse)\n",
      "\t* Contents: []\n",
      "\n",
      "* exp_two_synapses (class: ExpTwoSynapse)\n",
      "\t* Contents: []\n",
      "\n",
      "* exp_three_synapses (class: ExpThreeSynapse)\n",
      "\t* Contents: []\n",
      "\n",
      "* blocking_plastic_synapses (class: BlockingPlasticSynapse)\n",
      "\t* Contents: []\n",
      "\n",
      "* double_synapses (class: DoubleSynapse)\n",
      "\t* Contents: []\n",
      "\n",
      "* gap_junctions (class: GapJunction)\n",
      "\t* Contents: []\n",
      "\n",
      "* silent_synapses (class: SilentSynapse)\n",
      "\t* Contents: []\n",
      "\n",
      "* linear_graded_synapses (class: LinearGradedSynapse)\n",
      "\t* Contents: []\n",
      "\n",
      "* graded_synapses (class: GradedSynapse)\n",
      "\t* Contents: []\n",
      "\n",
      "* biophysical_properties (class: BiophysicalProperties)\n",
      "\t* Contents: []\n",
      "\n",
      "* cells (class: Cell)\n",
      "\t* Contents: []\n",
      "\n",
      "* cell2_ca_poolses (class: Cell2CaPools)\n",
      "\t* Contents: []\n",
      "\n",
      "* base_cells (class: BaseCell)\n",
      "\t* Contents: []\n",
      "\n",
      "* iaf_tau_cells (class: IafTauCell)\n",
      "\t* Contents: []\n",
      "\n",
      "* iaf_tau_ref_cells (class: IafTauRefCell)\n",
      "\t* Contents: []\n",
      "\n",
      "* iaf_cells (class: IafCell)\n",
      "\t* Contents: []\n",
      "\n",
      "* iaf_ref_cells (class: IafRefCell)\n",
      "\t* Contents: []\n",
      "\n",
      "* izhikevich_cells (class: IzhikevichCell)\n",
      "\t* Contents: []\n",
      "\n",
      "* izhikevich2007_cells (class: Izhikevich2007Cell)\n",
      "\t* Contents: [<neuroml.nml.nml.Izhikevich2007Cell object at 0x7f555f01c8b0>]\n",
      "\n",
      "* ad_ex_ia_f_cells (class: AdExIaFCell)\n",
      "\t* Contents: []\n",
      "\n",
      "* fitz_hugh_nagumo_cells (class: FitzHughNagumoCell)\n",
      "\t* Contents: []\n",
      "\n",
      "* fitz_hugh_nagumo1969_cells (class: FitzHughNagumo1969Cell)\n",
      "\t* Contents: []\n",
      "\n",
      "* pinsky_rinzel_ca3_cells (class: PinskyRinzelCA3Cell)\n",
      "\t* Contents: []\n",
      "\n",
      "* pulse_generators (class: PulseGenerator)\n",
      "\t* Contents: []\n",
      "\n",
      "* pulse_generator_dls (class: PulseGeneratorDL)\n",
      "\t* Contents: []\n",
      "\n",
      "* sine_generators (class: SineGenerator)\n",
      "\t* Contents: []\n",
      "\n",
      "* sine_generator_dls (class: SineGeneratorDL)\n",
      "\t* Contents: []\n",
      "\n",
      "* ramp_generators (class: RampGenerator)\n",
      "\t* Contents: []\n",
      "\n",
      "* ramp_generator_dls (class: RampGeneratorDL)\n",
      "\t* Contents: []\n",
      "\n",
      "* compound_inputs (class: CompoundInput)\n",
      "\t* Contents: []\n",
      "\n",
      "* compound_input_dls (class: CompoundInputDL)\n",
      "\t* Contents: []\n",
      "\n",
      "* voltage_clamps (class: VoltageClamp)\n",
      "\t* Contents: []\n",
      "\n",
      "* voltage_clamp_triples (class: VoltageClampTriple)\n",
      "\t* Contents: []\n",
      "\n",
      "* spike_arrays (class: SpikeArray)\n",
      "\t* Contents: []\n",
      "\n",
      "* timed_synaptic_inputs (class: TimedSynapticInput)\n",
      "\t* Contents: []\n",
      "\n",
      "* spike_generators (class: SpikeGenerator)\n",
      "\t* Contents: []\n",
      "\n",
      "* spike_generator_randoms (class: SpikeGeneratorRandom)\n",
      "\t* Contents: []\n",
      "\n",
      "* spike_generator_poissons (class: SpikeGeneratorPoisson)\n",
      "\t* Contents: []\n",
      "\n",
      "* spike_generator_ref_poissons (class: SpikeGeneratorRefPoisson)\n",
      "\t* Contents: []\n",
      "\n",
      "* poisson_firing_synapses (class: PoissonFiringSynapse)\n",
      "\t* Contents: []\n",
      "\n",
      "* transient_poisson_firing_synapses (class: TransientPoissonFiringSynapse)\n",
      "\t* Contents: []\n",
      "\n",
      "* IF_curr_alpha (class: IF_curr_alpha)\n",
      "\t* Contents: []\n",
      "\n",
      "* IF_curr_exp (class: IF_curr_exp)\n",
      "\t* Contents: []\n",
      "\n",
      "* IF_cond_alpha (class: IF_cond_alpha)\n",
      "\t* Contents: []\n",
      "\n",
      "* IF_cond_exp (class: IF_cond_exp)\n",
      "\t* Contents: []\n",
      "\n",
      "* EIF_cond_exp_isfa_ista (class: EIF_cond_exp_isfa_ista)\n",
      "\t* Contents: []\n",
      "\n",
      "* EIF_cond_alpha_isfa_ista (class: EIF_cond_alpha_isfa_ista)\n",
      "\t* Contents: []\n",
      "\n",
      "* HH_cond_exp (class: HH_cond_exp)\n",
      "\t* Contents: []\n",
      "\n",
      "* exp_cond_synapses (class: ExpCondSynapse)\n",
      "\t* Contents: []\n",
      "\n",
      "* alpha_cond_synapses (class: AlphaCondSynapse)\n",
      "\t* Contents: []\n",
      "\n",
      "* exp_curr_synapses (class: ExpCurrSynapse)\n",
      "\t* Contents: []\n",
      "\n",
      "* alpha_curr_synapses (class: AlphaCurrSynapse)\n",
      "\t* Contents: []\n",
      "\n",
      "* SpikeSourcePoisson (class: SpikeSourcePoisson)\n",
      "\t* Contents: []\n",
      "\n",
      "* networks (class: Network)\n",
      "\t* Contents: []\n",
      "\n",
      "* ComponentType (class: ComponentType)\n",
      "\t* Contents: []\n",
      "\n",
      "Please see the NeuroML standard schema documentation at https://docs.neuroml.org/Userdocs/NeuroMLv2.html for more information.\n"
     ]
    },
    {
     "data": {
      "text/plain": [
       "'Valid members for NeuroMLDocument are:\\n* includes (class: IncludeType)\\n\\t* Contents: []\\n\\n* extracellular_properties (class: ExtracellularProperties)\\n\\t* Contents: []\\n\\n* intracellular_properties (class: IntracellularProperties)\\n\\t* Contents: []\\n\\n* morphology (class: Morphology)\\n\\t* Contents: []\\n\\n* ion_channel (class: IonChannel)\\n\\t* Contents: []\\n\\n* ion_channel_hhs (class: IonChannelHH)\\n\\t* Contents: []\\n\\n* ion_channel_v_shifts (class: IonChannelVShift)\\n\\t* Contents: []\\n\\n* ion_channel_kses (class: IonChannelKS)\\n\\t* Contents: []\\n\\n* decaying_pool_concentration_models (class: DecayingPoolConcentrationModel)\\n\\t* Contents: []\\n\\n* fixed_factor_concentration_models (class: FixedFactorConcentrationModel)\\n\\t* Contents: []\\n\\n* alpha_current_synapses (class: AlphaCurrentSynapse)\\n\\t* Contents: []\\n\\n* alpha_synapses (class: AlphaSynapse)\\n\\t* Contents: []\\n\\n* exp_one_synapses (class: ExpOneSynapse)\\n\\t* Contents: []\\n\\n* exp_two_synapses (class: ExpTwoSynapse)\\n\\t* Contents: []\\n\\n* exp_three_synapses (class: ExpThreeSynapse)\\n\\t* Contents: []\\n\\n* blocking_plastic_synapses (class: BlockingPlasticSynapse)\\n\\t* Contents: []\\n\\n* double_synapses (class: DoubleSynapse)\\n\\t* Contents: []\\n\\n* gap_junctions (class: GapJunction)\\n\\t* Contents: []\\n\\n* silent_synapses (class: SilentSynapse)\\n\\t* Contents: []\\n\\n* linear_graded_synapses (class: LinearGradedSynapse)\\n\\t* Contents: []\\n\\n* graded_synapses (class: GradedSynapse)\\n\\t* Contents: []\\n\\n* biophysical_properties (class: BiophysicalProperties)\\n\\t* Contents: []\\n\\n* cells (class: Cell)\\n\\t* Contents: []\\n\\n* cell2_ca_poolses (class: Cell2CaPools)\\n\\t* Contents: []\\n\\n* base_cells (class: BaseCell)\\n\\t* Contents: []\\n\\n* iaf_tau_cells (class: IafTauCell)\\n\\t* Contents: []\\n\\n* iaf_tau_ref_cells (class: IafTauRefCell)\\n\\t* Contents: []\\n\\n* iaf_cells (class: IafCell)\\n\\t* Contents: []\\n\\n* iaf_ref_cells (class: IafRefCell)\\n\\t* Contents: []\\n\\n* izhikevich_cells (class: IzhikevichCell)\\n\\t* Contents: []\\n\\n* izhikevich2007_cells (class: Izhikevich2007Cell)\\n\\t* Contents: [<neuroml.nml.nml.Izhikevich2007Cell object at 0x7f555f01c8b0>]\\n\\n* ad_ex_ia_f_cells (class: AdExIaFCell)\\n\\t* Contents: []\\n\\n* fitz_hugh_nagumo_cells (class: FitzHughNagumoCell)\\n\\t* Contents: []\\n\\n* fitz_hugh_nagumo1969_cells (class: FitzHughNagumo1969Cell)\\n\\t* Contents: []\\n\\n* pinsky_rinzel_ca3_cells (class: PinskyRinzelCA3Cell)\\n\\t* Contents: []\\n\\n* pulse_generators (class: PulseGenerator)\\n\\t* Contents: []\\n\\n* pulse_generator_dls (class: PulseGeneratorDL)\\n\\t* Contents: []\\n\\n* sine_generators (class: SineGenerator)\\n\\t* Contents: []\\n\\n* sine_generator_dls (class: SineGeneratorDL)\\n\\t* Contents: []\\n\\n* ramp_generators (class: RampGenerator)\\n\\t* Contents: []\\n\\n* ramp_generator_dls (class: RampGeneratorDL)\\n\\t* Contents: []\\n\\n* compound_inputs (class: CompoundInput)\\n\\t* Contents: []\\n\\n* compound_input_dls (class: CompoundInputDL)\\n\\t* Contents: []\\n\\n* voltage_clamps (class: VoltageClamp)\\n\\t* Contents: []\\n\\n* voltage_clamp_triples (class: VoltageClampTriple)\\n\\t* Contents: []\\n\\n* spike_arrays (class: SpikeArray)\\n\\t* Contents: []\\n\\n* timed_synaptic_inputs (class: TimedSynapticInput)\\n\\t* Contents: []\\n\\n* spike_generators (class: SpikeGenerator)\\n\\t* Contents: []\\n\\n* spike_generator_randoms (class: SpikeGeneratorRandom)\\n\\t* Contents: []\\n\\n* spike_generator_poissons (class: SpikeGeneratorPoisson)\\n\\t* Contents: []\\n\\n* spike_generator_ref_poissons (class: SpikeGeneratorRefPoisson)\\n\\t* Contents: []\\n\\n* poisson_firing_synapses (class: PoissonFiringSynapse)\\n\\t* Contents: []\\n\\n* transient_poisson_firing_synapses (class: TransientPoissonFiringSynapse)\\n\\t* Contents: []\\n\\n* IF_curr_alpha (class: IF_curr_alpha)\\n\\t* Contents: []\\n\\n* IF_curr_exp (class: IF_curr_exp)\\n\\t* Contents: []\\n\\n* IF_cond_alpha (class: IF_cond_alpha)\\n\\t* Contents: []\\n\\n* IF_cond_exp (class: IF_cond_exp)\\n\\t* Contents: []\\n\\n* EIF_cond_exp_isfa_ista (class: EIF_cond_exp_isfa_ista)\\n\\t* Contents: []\\n\\n* EIF_cond_alpha_isfa_ista (class: EIF_cond_alpha_isfa_ista)\\n\\t* Contents: []\\n\\n* HH_cond_exp (class: HH_cond_exp)\\n\\t* Contents: []\\n\\n* exp_cond_synapses (class: ExpCondSynapse)\\n\\t* Contents: []\\n\\n* alpha_cond_synapses (class: AlphaCondSynapse)\\n\\t* Contents: []\\n\\n* exp_curr_synapses (class: ExpCurrSynapse)\\n\\t* Contents: []\\n\\n* alpha_curr_synapses (class: AlphaCurrSynapse)\\n\\t* Contents: []\\n\\n* SpikeSourcePoisson (class: SpikeSourcePoisson)\\n\\t* Contents: []\\n\\n* networks (class: Network)\\n\\t* Contents: []\\n\\n* ComponentType (class: ComponentType)\\n\\t* Contents: []\\n\\nPlease see the NeuroML standard schema documentation at https://docs.neuroml.org/Userdocs/NeuroMLv2.html for more information.'"
      ]
     },
     "execution_count": 7,
     "metadata": {},
     "output_type": "execute_result"
    }
   ],
   "source": [
    "nml_doc.info(True)"
   ]
  },
  {
   "cell_type": "code",
   "execution_count": 8,
   "metadata": {},
   "outputs": [
    {
     "name": "stdout",
     "output_type": "stream",
     "text": [
      "Valid members for Izhikevich2007Cell are:\n",
      "* v0 (class: Nml2Quantity_voltage)\n",
      "* k (class: Nml2Quantity_conductancePerVoltage)\n",
      "* vr (class: Nml2Quantity_voltage)\n",
      "* vt (class: Nml2Quantity_voltage)\n",
      "* vpeak (class: Nml2Quantity_voltage)\n",
      "* a (class: Nml2Quantity_pertime)\n",
      "* b (class: Nml2Quantity_conductance)\n",
      "* c (class: Nml2Quantity_voltage)\n",
      "* d (class: Nml2Quantity_current)\n",
      "Please see the NeuroML standard schema documentation at https://docs.neuroml.org/Userdocs/NeuroMLv2.html for more information.\n"
     ]
    },
    {
     "data": {
      "text/plain": [
       "'Valid members for Izhikevich2007Cell are:\\n* v0 (class: Nml2Quantity_voltage)\\n* k (class: Nml2Quantity_conductancePerVoltage)\\n* vr (class: Nml2Quantity_voltage)\\n* vt (class: Nml2Quantity_voltage)\\n* vpeak (class: Nml2Quantity_voltage)\\n* a (class: Nml2Quantity_pertime)\\n* b (class: Nml2Quantity_conductance)\\n* c (class: Nml2Quantity_voltage)\\n* d (class: Nml2Quantity_current)\\nPlease see the NeuroML standard schema documentation at https://docs.neuroml.org/Userdocs/NeuroMLv2.html for more information.'"
      ]
     },
     "execution_count": 8,
     "metadata": {},
     "output_type": "execute_result"
    }
   ],
   "source": [
    "izh0.info()"
   ]
  },
  {
   "cell_type": "code",
   "execution_count": 9,
   "metadata": {},
   "outputs": [
    {
     "name": "stdout",
     "output_type": "stream",
     "text": [
      "Valid members for Izhikevich2007Cell are:\n",
      "* v0 (class: Nml2Quantity_voltage)\n",
      "\t* Contents: -60mV\n",
      "\n",
      "* k (class: Nml2Quantity_conductancePerVoltage)\n",
      "\t* Contents: 0.7nS_per_mV\n",
      "\n",
      "* vr (class: Nml2Quantity_voltage)\n",
      "\t* Contents: -60mV\n",
      "\n",
      "* vt (class: Nml2Quantity_voltage)\n",
      "\t* Contents: -40mV\n",
      "\n",
      "* vpeak (class: Nml2Quantity_voltage)\n",
      "\t* Contents: 35mV\n",
      "\n",
      "* a (class: Nml2Quantity_pertime)\n",
      "\t* Contents: 0.03per_ms\n",
      "\n",
      "* b (class: Nml2Quantity_conductance)\n",
      "\t* Contents: -2nS\n",
      "\n",
      "* c (class: Nml2Quantity_voltage)\n",
      "\t* Contents: -50.0mV\n",
      "\n",
      "* d (class: Nml2Quantity_current)\n",
      "\t* Contents: 100pA\n",
      "\n",
      "Please see the NeuroML standard schema documentation at https://docs.neuroml.org/Userdocs/NeuroMLv2.html for more information.\n"
     ]
    },
    {
     "data": {
      "text/plain": [
       "'Valid members for Izhikevich2007Cell are:\\n* v0 (class: Nml2Quantity_voltage)\\n\\t* Contents: -60mV\\n\\n* k (class: Nml2Quantity_conductancePerVoltage)\\n\\t* Contents: 0.7nS_per_mV\\n\\n* vr (class: Nml2Quantity_voltage)\\n\\t* Contents: -60mV\\n\\n* vt (class: Nml2Quantity_voltage)\\n\\t* Contents: -40mV\\n\\n* vpeak (class: Nml2Quantity_voltage)\\n\\t* Contents: 35mV\\n\\n* a (class: Nml2Quantity_pertime)\\n\\t* Contents: 0.03per_ms\\n\\n* b (class: Nml2Quantity_conductance)\\n\\t* Contents: -2nS\\n\\n* c (class: Nml2Quantity_voltage)\\n\\t* Contents: -50.0mV\\n\\n* d (class: Nml2Quantity_current)\\n\\t* Contents: 100pA\\n\\nPlease see the NeuroML standard schema documentation at https://docs.neuroml.org/Userdocs/NeuroMLv2.html for more information.'"
      ]
     },
     "execution_count": 9,
     "metadata": {},
     "output_type": "execute_result"
    }
   ],
   "source": [
    "izh0.info(True)"
   ]
  },
  {
   "cell_type": "markdown",
   "metadata": {},
   "source": [
    "### Create a network and add it to the model"
   ]
  },
  {
   "cell_type": "code",
   "execution_count": 10,
   "metadata": {},
   "outputs": [],
   "source": [
    "net = Network(id=\"IzhNet\")\n",
    "nml_doc.add(net)\n",
    "# under the hood: nml_doc.networks.append(net)"
   ]
  },
  {
   "cell_type": "markdown",
   "metadata": {},
   "source": [
    "### Create a population of defined cells and add it to the model"
   ]
  },
  {
   "cell_type": "code",
   "execution_count": 11,
   "metadata": {},
   "outputs": [
    {
     "name": "stdout",
     "output_type": "stream",
     "text": [
      "Valid members for Network are:\n",
      "* type (class: networkTypes)\n",
      "* temperature (class: Nml2Quantity_temperature)\n",
      "* spaces (class: Space)\n",
      "* regions (class: Region)\n",
      "* extracellular_properties (class: ExtracellularPropertiesLocal)\n",
      "* populations (class: Population)\n",
      "* cell_sets (class: CellSet)\n",
      "* synaptic_connections (class: SynapticConnection)\n",
      "* projections (class: Projection)\n",
      "* electrical_projections (class: ElectricalProjection)\n",
      "* continuous_projections (class: ContinuousProjection)\n",
      "* explicit_inputs (class: ExplicitInput)\n",
      "* input_lists (class: InputList)\n",
      "Please see the NeuroML standard schema documentation at https://docs.neuroml.org/Userdocs/NeuroMLv2.html for more information.\n"
     ]
    }
   ],
   "source": [
    "size0 = 1\n",
    "pop0 = Population(id=\"IzhPop0\", component=izh0.id, size=size0)\n",
    "net.add()\n",
    "net.add(pop0)\n",
    "\n",
    "# net.populations.append(pop0)"
   ]
  },
  {
   "cell_type": "markdown",
   "metadata": {},
   "source": [
    "### Define an external stimulus and add it to the model"
   ]
  },
  {
   "cell_type": "code",
   "execution_count": 12,
   "metadata": {},
   "outputs": [
    {
     "name": "stdout",
     "output_type": "stream",
     "text": [
      "Valid members for Network are:\n",
      "* type (class: networkTypes)\n",
      "\t* Contents: None\n",
      "\n",
      "* temperature (class: Nml2Quantity_temperature)\n",
      "\t* Contents: None\n",
      "\n",
      "* spaces (class: Space)\n",
      "\t* Contents: []\n",
      "\n",
      "* regions (class: Region)\n",
      "\t* Contents: []\n",
      "\n",
      "* extracellular_properties (class: ExtracellularPropertiesLocal)\n",
      "\t* Contents: []\n",
      "\n",
      "* populations (class: Population)\n",
      "\t* Contents: [<neuroml.nml.nml.Population object at 0x7f555f01c7c0>]\n",
      "\n",
      "* cell_sets (class: CellSet)\n",
      "\t* Contents: []\n",
      "\n",
      "* synaptic_connections (class: SynapticConnection)\n",
      "\t* Contents: []\n",
      "\n",
      "* projections (class: Projection)\n",
      "\t* Contents: []\n",
      "\n",
      "* electrical_projections (class: ElectricalProjection)\n",
      "\t* Contents: []\n",
      "\n",
      "* continuous_projections (class: ContinuousProjection)\n",
      "\t* Contents: []\n",
      "\n",
      "* explicit_inputs (class: ExplicitInput)\n",
      "\t* Contents: [<neuroml.nml.nml.ExplicitInput object at 0x7f555f01e110>]\n",
      "\n",
      "* input_lists (class: InputList)\n",
      "\t* Contents: []\n",
      "\n",
      "Please see the NeuroML standard schema documentation at https://docs.neuroml.org/Userdocs/NeuroMLv2.html for more information.\n"
     ]
    },
    {
     "data": {
      "text/plain": [
       "'Valid members for Network are:\\n* type (class: networkTypes)\\n\\t* Contents: None\\n\\n* temperature (class: Nml2Quantity_temperature)\\n\\t* Contents: None\\n\\n* spaces (class: Space)\\n\\t* Contents: []\\n\\n* regions (class: Region)\\n\\t* Contents: []\\n\\n* extracellular_properties (class: ExtracellularPropertiesLocal)\\n\\t* Contents: []\\n\\n* populations (class: Population)\\n\\t* Contents: [<neuroml.nml.nml.Population object at 0x7f555f01c7c0>]\\n\\n* cell_sets (class: CellSet)\\n\\t* Contents: []\\n\\n* synaptic_connections (class: SynapticConnection)\\n\\t* Contents: []\\n\\n* projections (class: Projection)\\n\\t* Contents: []\\n\\n* electrical_projections (class: ElectricalProjection)\\n\\t* Contents: []\\n\\n* continuous_projections (class: ContinuousProjection)\\n\\t* Contents: []\\n\\n* explicit_inputs (class: ExplicitInput)\\n\\t* Contents: [<neuroml.nml.nml.ExplicitInput object at 0x7f555f01e110>]\\n\\n* input_lists (class: InputList)\\n\\t* Contents: []\\n\\nPlease see the NeuroML standard schema documentation at https://docs.neuroml.org/Userdocs/NeuroMLv2.html for more information.'"
      ]
     },
     "execution_count": 12,
     "metadata": {},
     "output_type": "execute_result"
    }
   ],
   "source": [
    "pg = PulseGenerator(\n",
    "    id=\"pulseGen_%i\" % 0, delay=\"0ms\", duration=\"1000ms\",\n",
    "    amplitude=\"0.07 nA\"\n",
    ")\n",
    "nml_doc.add(pg)\n",
    "# nml_doc.pulse_generators.append(pg)\n",
    "\n",
    "exp_input = ExplicitInput(target=\"%s[%i]\" % (pop0.id, 0), input=pg.id)\n",
    "net.add(exp_input)\n",
    "# net.explicit_inputs.append(exp_input)\n",
    "\n",
    "net.info(True)"
   ]
  },
  {
   "cell_type": "markdown",
   "metadata": {},
   "source": [
    "### Write the NeuroML model to a file"
   ]
  },
  {
   "cell_type": "code",
   "execution_count": 13,
   "metadata": {},
   "outputs": [
    {
     "name": "stdout",
     "output_type": "stream",
     "text": [
      "Written network file to: izhikevich2007_single_cell_network.nml\n"
     ]
    }
   ],
   "source": [
    "nml_file = 'izhikevich2007_single_cell_network.nml'\n",
    "writers.NeuroMLWriter.write(nml_doc, nml_file)\n",
    "print(\"Written network file to: \" + nml_file)"
   ]
  },
  {
   "cell_type": "markdown",
   "metadata": {},
   "source": [
    "### Validate the NeuroML model"
   ]
  },
  {
   "cell_type": "code",
   "execution_count": 14,
   "metadata": {},
   "outputs": [
    {
     "name": "stdout",
     "output_type": "stream",
     "text": [
      "Validating izhikevich2007_single_cell_network.nml against /usr/lib/python3.10/site-packages/neuroml/nml/NeuroML_v2.2.xsd\n",
      "It's valid!\n"
     ]
    }
   ],
   "source": [
    "validate_neuroml2(nml_file)"
   ]
  },
  {
   "cell_type": "markdown",
   "metadata": {},
   "source": [
    "## Simulating the model"
   ]
  },
  {
   "cell_type": "markdown",
   "metadata": {},
   "source": [
    "### Create a simulation instance of the model"
   ]
  },
  {
   "cell_type": "code",
   "execution_count": 15,
   "metadata": {},
   "outputs": [
    {
     "name": "stderr",
     "output_type": "stream",
     "text": [
      "pyNeuroML >>> INFO - Loading NeuroML2 file: /home/asinha/Documents/02_Code/00_mine/2020-OSB/NeuroML-Documentation/source/Userdocs/NML2_examples/izhikevich2007_single_cell_network.nml\n"
     ]
    },
    {
     "name": "stdout",
     "output_type": "stream",
     "text": [
      "<?xml version=\"1.0\" ?>\n",
      "<neuroml xmlns:xs=\"http://www.w3.org/2001/XMLSchema\" xmlns:xsi=\"http://www.w3.org/2001/XMLSchema-instance\" id=\"IzhSingleNeuron\">\n",
      "    <izhikevich2007Cell id=\"izh2007RS0\" C=\"100pF\" v0=\"-60mV\" k=\"0.7nS_per_mV\" vr=\"-60mV\" vt=\"-40mV\" vpeak=\"35mV\" a=\"0.03per_ms\" b=\"-2nS\" c=\"-50.0mV\" d=\"100pA\"/>\n",
      "    <pulseGenerator id=\"pulseGen_0\" delay=\"0ms\" duration=\"1000ms\" amplitude=\"0.07 nA\"/>\n",
      "    <network id=\"IzhNet\">\n",
      "        <population id=\"IzhPop0\" component=\"izh2007RS0\" size=\"1\"/>\n",
      "        <explicitInput target=\"IzhPop0[0]\" input=\"pulseGen_0\"/>\n",
      "    </network>\n",
      "</neuroml>\n"
     ]
    }
   ],
   "source": [
    "simulation_id = \"example-single-izhikevich2007cell-sim\"\n",
    "simulation = LEMSSimulation(sim_id=simulation_id,\n",
    "                            duration=1000, dt=0.1, simulation_seed=123)\n",
    "simulation.assign_simulation_target(net.id)\n",
    "simulation.include_neuroml2_file(nml_file)"
   ]
  },
  {
   "cell_type": "markdown",
   "metadata": {},
   "source": [
    "### Define the output file to store simulation outputs\n",
    "\n",
    "Here, we record the neuron's membrane potential to the specified data file."
   ]
  },
  {
   "cell_type": "code",
   "execution_count": 16,
   "metadata": {},
   "outputs": [],
   "source": [
    "simulation.create_output_file(\n",
    "    \"output0\", \"%s.v.dat\" % simulation_id\n",
    ")\n",
    "simulation.add_column_to_output_file(\"output0\", 'IzhPop0[0]', 'IzhPop0[0]/v')"
   ]
  },
  {
   "cell_type": "markdown",
   "metadata": {},
   "source": [
    "### Save the simulation to a file"
   ]
  },
  {
   "cell_type": "code",
   "execution_count": 17,
   "metadata": {},
   "outputs": [],
   "source": [
    "lems_simulation_file = simulation.save_to_file()"
   ]
  },
  {
   "cell_type": "markdown",
   "metadata": {},
   "source": [
    "## Run the simulation using the jNeuroML simulator"
   ]
  },
  {
   "cell_type": "code",
   "execution_count": 18,
   "metadata": {},
   "outputs": [
    {
     "name": "stderr",
     "output_type": "stream",
     "text": [
      "pyNeuroML >>> INFO - Loading LEMS file: LEMS_example-single-izhikevich2007cell-sim.xml and running with jNeuroML\n",
      "pyNeuroML >>> INFO - Executing: (java -Xmx2G  -Djava.awt.headless=true -jar  \"/usr/share/java/jNeuroML-0.11.1.jar\"  \"LEMS_example-single-izhikevich2007cell-sim.xml\"  -nogui -I '') in directory: .\n",
      "pyNeuroML >>> INFO - Command completed. Output: \n",
      "  jNeuroML >>   jNeuroML v0.11.1\n",
      "  jNeuroML >>  Loading: /home/asinha/Documents/02_Code/00_mine/2020-OSB/NeuroML-Documentation/source/Userdocs/NML2_examples/LEMS_example-single-izhikevich2007cell-sim.xml with jLEMS, NO GUI mode...\n",
      "  jNeuroML >>  INFO Jul 22,2022 17:30  (INFO) Loading LEMS file from: /home/asinha/Documents/02_Code/00_mine/2020-OSB/NeuroML-Documentation/source/Userdocs/NML2_examples/LEMS_example-single-izhikevich2007cell-sim.xml\n",
      "  jNeuroML >>  INFO Jul 22,2022 17:30  (INFO) Reading from: /home/asinha/Documents/02_Code/00_mine/2020-OSB/NeuroML-Documentation/source/Userdocs/NML2_examples/LEMS_example-single-izhikevich2007cell-sim.xml\n",
      "  jNeuroML >>  INFO Jul 22,2022 17:30  (INFO) Finished 10000 steps in 0.087 seconds (sim duration: 1000.0ms; dt: 0.1ms)\n",
      "  jNeuroML >>  INFO Jul 22,2022 17:30  (INFO) Written to the file /home/asinha/Documents/02_Code/00_mine/2020-OSB/NeuroML-Documentation/source/Userdocs/NML2_examples/./example-single-izhikevich2007cell-sim.v.dat 204829\n",
      "  jNeuroML >>  INFO Jul 22,2022 17:30  (INFO) Finished reading, building, running and displaying LEMS model\n",
      "  jNeuroML >>  \n"
     ]
    },
    {
     "data": {
      "text/plain": [
       "True"
      ]
     },
     "execution_count": 18,
     "metadata": {},
     "output_type": "execute_result"
    }
   ],
   "source": [
    "pynml.run_lems_with_jneuroml(\n",
    "    lems_simulation_file, max_memory=\"2G\", nogui=True, plot=False\n",
    ")"
   ]
  },
  {
   "cell_type": "markdown",
   "metadata": {},
   "source": [
    "## Plot the recorded data"
   ]
  },
  {
   "cell_type": "code",
   "execution_count": 19,
   "metadata": {},
   "outputs": [
    {
     "name": "stderr",
     "output_type": "stream",
     "text": [
      "pyNeuroML >>> INFO - Generating plot: Membrane potential\n",
      "/usr/lib/python3.10/site-packages/pyneuroml/pynml.py:2624: UserWarning: marker is redundantly defined by the 'marker' keyword argument and the fmt string \"o\" (-> marker='o'). The keyword argument will take precedence.\n",
      "  plt.plot(\n"
     ]
    },
    {
     "data": {
      "image/png": "[encoded data removed]",
      "text/plain": [
       "<Figure size 432x288 with 1 Axes>"
      ]
     },
     "metadata": {
      "needs_background": "light"
     },
     "output_type": "display_data"
    },
    {
     "data": {
      "text/plain": [
       "<AxesSubplot:xlabel='time (s)', ylabel='membrane potential (V)'>"
      ]
     },
     "execution_count": 19,
     "metadata": {},
     "output_type": "execute_result"
    }
   ],
   "source": [
    "# Load the data from the file and plot the graph for the membrane potential\n",
    "# using the pynml generate_plot utility function.\n",
    "data_array = np.loadtxt(\"%s.v.dat\" % simulation_id)\n",
    "pynml.generate_plot(\n",
    "    [data_array[:, 0]], [data_array[:, 1]],\n",
    "    \"Membrane potential\", show_plot_already=True,\n",
    "    xaxis=\"time (s)\", yaxis=\"membrane potential (V)\"\n",
    ")"
   ]
  },
  {
   "cell_type": "code",
   "execution_count": null,
   "metadata": {},
   "outputs": [],
   "source": []
  },
  {
   "cell_type": "code",
   "execution_count": null,
   "metadata": {},
   "outputs": [],
   "source": []
  }
 ],
 "metadata": {
  "kernelspec": {
   "display_name": "Python 3 (ipykernel)",
   "language": "python",
   "name": "python3"
  },
  "language_info": {
   "codemirror_mode": {
    "name": "ipython",
    "version": 3
   },
   "file_extension": ".py",
   "mimetype": "text/x-python",
   "name": "python",
   "nbconvert_exporter": "python",
   "pygments_lexer": "ipython3",
   "version": "3.10.5"
  }
 },
 "nbformat": 4,
 "nbformat_minor": 4
}
