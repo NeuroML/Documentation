{
 "cells": [
  {
   "cell_type": "markdown",
   "metadata": {},
   "source": [
    "# Interactive single Izhikevich neuron NeuroML example\n",
    "\n",
    "To run this interactive Jupyter Notebook, please click on the rocket icon 🚀 in the top panel. For more information, please see {ref}`how to use this documentation <userdocs:usage:jupyterbooks>`.\n",
    "Please uncomment the line below if you use the Google Colab (it does not include these packages by default)."
   ]
  },
  {
   "cell_type": "code",
   "execution_count": 1,
   "metadata": {},
   "outputs": [],
   "source": [
    "#%pip install pyneuroml neuromllite NEURON"
   ]
  },
  {
   "cell_type": "code",
   "execution_count": 1,
   "metadata": {},
   "outputs": [],
   "source": [
    "from neuroml import NeuroMLDocument\n",
    "import neuroml.writers as writers\n",
    "from neuroml.utils import component_factory\n",
    "from neuroml.utils import validate_neuroml2\n",
    "from pyneuroml import pynml\n",
    "from pyneuroml.lems import LEMSSimulation\n",
    "import numpy as np"
   ]
  },
  {
   "cell_type": "markdown",
   "metadata": {},
   "source": [
    "## Declaring the NeuroML model"
   ]
  },
  {
   "cell_type": "markdown",
   "metadata": {},
   "source": [
    "### Create a NeuroML document"
   ]
  },
  {
   "cell_type": "code",
   "execution_count": 2,
   "metadata": {},
   "outputs": [],
   "source": [
    "nml_doc = component_factory(NeuroMLDocument, id=\"IzhSingleNeuron\")"
   ]
  },
  {
   "cell_type": "code",
   "execution_count": 3,
   "metadata": {},
   "outputs": [
    {
     "name": "stdout",
     "output_type": "stream",
     "text": [
      "Please see the NeuroML standard schema documentation at https://docs.neuroml.org/Userdocs/NeuroMLv2.html for more information.\n",
      "\n",
      "Valid members for NeuroMLDocument are:\n",
      "* sine_generators (class: SineGenerator, Optional)\n",
      "* sine_generator_dls (class: SineGeneratorDL, Optional)\n",
      "* ramp_generators (class: RampGenerator, Optional)\n",
      "* ramp_generator_dls (class: RampGeneratorDL, Optional)\n",
      "* compound_inputs (class: CompoundInput, Optional)\n",
      "* compound_input_dls (class: CompoundInputDL, Optional)\n",
      "* includes (class: IncludeType, Optional)\n",
      "* voltage_clamps (class: VoltageClamp, Optional)\n",
      "* extracellular_properties (class: ExtracellularProperties, Optional)\n",
      "* voltage_clamp_triples (class: VoltageClampTriple, Optional)\n",
      "* intracellular_properties (class: IntracellularProperties, Optional)\n",
      "* spike_arrays (class: SpikeArray, Optional)\n",
      "* morphology (class: Morphology, Optional)\n",
      "* timed_synaptic_inputs (class: TimedSynapticInput, Optional)\n",
      "* ion_channel (class: IonChannel, Optional)\n",
      "* spike_generators (class: SpikeGenerator, Optional)\n",
      "* ion_channel_hhs (class: IonChannelHH, Optional)\n",
      "* spike_generator_randoms (class: SpikeGeneratorRandom, Optional)\n",
      "* ion_channel_v_shifts (class: IonChannelVShift, Optional)\n",
      "* spike_generator_poissons (class: SpikeGeneratorPoisson, Optional)\n",
      "* ion_channel_kses (class: IonChannelKS, Optional)\n",
      "* spike_generator_ref_poissons (class: SpikeGeneratorRefPoisson, Optional)\n",
      "* decaying_pool_concentration_models (class: DecayingPoolConcentrationModel, Optional)\n",
      "* poisson_firing_synapses (class: PoissonFiringSynapse, Optional)\n",
      "* fixed_factor_concentration_models (class: FixedFactorConcentrationModel, Optional)\n",
      "* transient_poisson_firing_synapses (class: TransientPoissonFiringSynapse, Optional)\n",
      "* alpha_current_synapses (class: AlphaCurrentSynapse, Optional)\n",
      "* IF_curr_alpha (class: IF_curr_alpha, Optional)\n",
      "* alpha_synapses (class: AlphaSynapse, Optional)\n",
      "* IF_curr_exp (class: IF_curr_exp, Optional)\n",
      "* exp_one_synapses (class: ExpOneSynapse, Optional)\n",
      "* IF_cond_alpha (class: IF_cond_alpha, Optional)\n",
      "* exp_two_synapses (class: ExpTwoSynapse, Optional)\n",
      "* IF_cond_exp (class: IF_cond_exp, Optional)\n",
      "* id (class: NmlId, Required)\n",
      "* exp_three_synapses (class: ExpThreeSynapse, Optional)\n",
      "* EIF_cond_exp_isfa_ista (class: EIF_cond_exp_isfa_ista, Optional)\n",
      "* blocking_plastic_synapses (class: BlockingPlasticSynapse, Optional)\n",
      "* EIF_cond_alpha_isfa_ista (class: EIF_cond_alpha_isfa_ista, Optional)\n",
      "* double_synapses (class: DoubleSynapse, Optional)\n",
      "* HH_cond_exp (class: HH_cond_exp, Optional)\n",
      "* gap_junctions (class: GapJunction, Optional)\n",
      "* exp_cond_synapses (class: ExpCondSynapse, Optional)\n",
      "* silent_synapses (class: SilentSynapse, Optional)\n",
      "* alpha_cond_synapses (class: AlphaCondSynapse, Optional)\n",
      "* metaid (class: MetaId, Optional)\n",
      "* linear_graded_synapses (class: LinearGradedSynapse, Optional)\n",
      "* exp_curr_synapses (class: ExpCurrSynapse, Optional)\n",
      "* properties (class: Property, Optional)\n",
      "* graded_synapses (class: GradedSynapse, Optional)\n",
      "* alpha_curr_synapses (class: AlphaCurrSynapse, Optional)\n",
      "* biophysical_properties (class: BiophysicalProperties, Optional)\n",
      "* SpikeSourcePoisson (class: SpikeSourcePoisson, Optional)\n",
      "* cells (class: Cell, Optional)\n",
      "* networks (class: Network, Optional)\n",
      "* cell2_ca_poolses (class: Cell2CaPools, Optional)\n",
      "* ComponentType (class: ComponentType, Optional)\n",
      "* base_cells (class: BaseCell, Optional)\n",
      "* iaf_tau_cells (class: IafTauCell, Optional)\n",
      "* annotation (class: Annotation, Optional)\n",
      "* iaf_tau_ref_cells (class: IafTauRefCell, Optional)\n",
      "* notes (class: xs:string, Optional)\n",
      "* iaf_cells (class: IafCell, Optional)\n",
      "* iaf_ref_cells (class: IafRefCell, Optional)\n",
      "* izhikevich_cells (class: IzhikevichCell, Optional)\n",
      "* izhikevich2007_cells (class: Izhikevich2007Cell, Optional)\n",
      "* ad_ex_ia_f_cells (class: AdExIaFCell, Optional)\n",
      "* fitz_hugh_nagumo_cells (class: FitzHughNagumoCell, Optional)\n",
      "* fitz_hugh_nagumo1969_cells (class: FitzHughNagumo1969Cell, Optional)\n",
      "* pinsky_rinzel_ca3_cells (class: PinskyRinzelCA3Cell, Optional)\n",
      "* pulse_generators (class: PulseGenerator, Optional)\n",
      "* pulse_generator_dls (class: PulseGeneratorDL, Optional)\n",
      "\n"
     ]
    },
    {
     "data": {
      "text/plain": [
       "'Please see the NeuroML standard schema documentation at https://docs.neuroml.org/Userdocs/NeuroMLv2.html for more information.\\n\\nValid members for NeuroMLDocument are:\\n* sine_generators (class: SineGenerator, Optional)\\n* sine_generator_dls (class: SineGeneratorDL, Optional)\\n* ramp_generators (class: RampGenerator, Optional)\\n* ramp_generator_dls (class: RampGeneratorDL, Optional)\\n* compound_inputs (class: CompoundInput, Optional)\\n* compound_input_dls (class: CompoundInputDL, Optional)\\n* includes (class: IncludeType, Optional)\\n* voltage_clamps (class: VoltageClamp, Optional)\\n* extracellular_properties (class: ExtracellularProperties, Optional)\\n* voltage_clamp_triples (class: VoltageClampTriple, Optional)\\n* intracellular_properties (class: IntracellularProperties, Optional)\\n* spike_arrays (class: SpikeArray, Optional)\\n* morphology (class: Morphology, Optional)\\n* timed_synaptic_inputs (class: TimedSynapticInput, Optional)\\n* ion_channel (class: IonChannel, Optional)\\n* spike_generators (class: SpikeGenerator, Optional)\\n* ion_channel_hhs (class: IonChannelHH, Optional)\\n* spike_generator_randoms (class: SpikeGeneratorRandom, Optional)\\n* ion_channel_v_shifts (class: IonChannelVShift, Optional)\\n* spike_generator_poissons (class: SpikeGeneratorPoisson, Optional)\\n* ion_channel_kses (class: IonChannelKS, Optional)\\n* spike_generator_ref_poissons (class: SpikeGeneratorRefPoisson, Optional)\\n* decaying_pool_concentration_models (class: DecayingPoolConcentrationModel, Optional)\\n* poisson_firing_synapses (class: PoissonFiringSynapse, Optional)\\n* fixed_factor_concentration_models (class: FixedFactorConcentrationModel, Optional)\\n* transient_poisson_firing_synapses (class: TransientPoissonFiringSynapse, Optional)\\n* alpha_current_synapses (class: AlphaCurrentSynapse, Optional)\\n* IF_curr_alpha (class: IF_curr_alpha, Optional)\\n* alpha_synapses (class: AlphaSynapse, Optional)\\n* IF_curr_exp (class: IF_curr_exp, Optional)\\n* exp_one_synapses (class: ExpOneSynapse, Optional)\\n* IF_cond_alpha (class: IF_cond_alpha, Optional)\\n* exp_two_synapses (class: ExpTwoSynapse, Optional)\\n* IF_cond_exp (class: IF_cond_exp, Optional)\\n* id (class: NmlId, Required)\\n* exp_three_synapses (class: ExpThreeSynapse, Optional)\\n* EIF_cond_exp_isfa_ista (class: EIF_cond_exp_isfa_ista, Optional)\\n* blocking_plastic_synapses (class: BlockingPlasticSynapse, Optional)\\n* EIF_cond_alpha_isfa_ista (class: EIF_cond_alpha_isfa_ista, Optional)\\n* double_synapses (class: DoubleSynapse, Optional)\\n* HH_cond_exp (class: HH_cond_exp, Optional)\\n* gap_junctions (class: GapJunction, Optional)\\n* exp_cond_synapses (class: ExpCondSynapse, Optional)\\n* silent_synapses (class: SilentSynapse, Optional)\\n* alpha_cond_synapses (class: AlphaCondSynapse, Optional)\\n* metaid (class: MetaId, Optional)\\n* linear_graded_synapses (class: LinearGradedSynapse, Optional)\\n* exp_curr_synapses (class: ExpCurrSynapse, Optional)\\n* properties (class: Property, Optional)\\n* graded_synapses (class: GradedSynapse, Optional)\\n* alpha_curr_synapses (class: AlphaCurrSynapse, Optional)\\n* biophysical_properties (class: BiophysicalProperties, Optional)\\n* SpikeSourcePoisson (class: SpikeSourcePoisson, Optional)\\n* cells (class: Cell, Optional)\\n* networks (class: Network, Optional)\\n* cell2_ca_poolses (class: Cell2CaPools, Optional)\\n* ComponentType (class: ComponentType, Optional)\\n* base_cells (class: BaseCell, Optional)\\n* iaf_tau_cells (class: IafTauCell, Optional)\\n* annotation (class: Annotation, Optional)\\n* iaf_tau_ref_cells (class: IafTauRefCell, Optional)\\n* notes (class: xs:string, Optional)\\n* iaf_cells (class: IafCell, Optional)\\n* iaf_ref_cells (class: IafRefCell, Optional)\\n* izhikevich_cells (class: IzhikevichCell, Optional)\\n* izhikevich2007_cells (class: Izhikevich2007Cell, Optional)\\n* ad_ex_ia_f_cells (class: AdExIaFCell, Optional)\\n* fitz_hugh_nagumo_cells (class: FitzHughNagumoCell, Optional)\\n* fitz_hugh_nagumo1969_cells (class: FitzHughNagumo1969Cell, Optional)\\n* pinsky_rinzel_ca3_cells (class: PinskyRinzelCA3Cell, Optional)\\n* pulse_generators (class: PulseGenerator, Optional)\\n* pulse_generator_dls (class: PulseGeneratorDL, Optional)\\n'"
      ]
     },
     "execution_count": 3,
     "metadata": {},
     "output_type": "execute_result"
    }
   ],
   "source": [
    "nml_doc.info()"
   ]
  },
  {
   "cell_type": "code",
   "execution_count": 4,
   "metadata": {},
   "outputs": [
    {
     "name": "stdout",
     "output_type": "stream",
     "text": [
      "Please see the NeuroML standard schema documentation at https://docs.neuroml.org/Userdocs/NeuroMLv2.html for more information.\n",
      "\n",
      "Valid members for NeuroMLDocument are:\n",
      "* sine_generators (class: SineGenerator, Optional)\n",
      "* sine_generator_dls (class: SineGeneratorDL, Optional)\n",
      "* ramp_generators (class: RampGenerator, Optional)\n",
      "* ramp_generator_dls (class: RampGeneratorDL, Optional)\n",
      "* compound_inputs (class: CompoundInput, Optional)\n",
      "* compound_input_dls (class: CompoundInputDL, Optional)\n",
      "* includes (class: IncludeType, Optional)\n",
      "* voltage_clamps (class: VoltageClamp, Optional)\n",
      "* extracellular_properties (class: ExtracellularProperties, Optional)\n",
      "* voltage_clamp_triples (class: VoltageClampTriple, Optional)\n",
      "* intracellular_properties (class: IntracellularProperties, Optional)\n",
      "* spike_arrays (class: SpikeArray, Optional)\n",
      "* morphology (class: Morphology, Optional)\n",
      "* timed_synaptic_inputs (class: TimedSynapticInput, Optional)\n",
      "* ion_channel (class: IonChannel, Optional)\n",
      "* spike_generators (class: SpikeGenerator, Optional)\n",
      "* ion_channel_hhs (class: IonChannelHH, Optional)\n",
      "* spike_generator_randoms (class: SpikeGeneratorRandom, Optional)\n",
      "* ion_channel_v_shifts (class: IonChannelVShift, Optional)\n",
      "* spike_generator_poissons (class: SpikeGeneratorPoisson, Optional)\n",
      "* ion_channel_kses (class: IonChannelKS, Optional)\n",
      "* spike_generator_ref_poissons (class: SpikeGeneratorRefPoisson, Optional)\n",
      "* decaying_pool_concentration_models (class: DecayingPoolConcentrationModel, Optional)\n",
      "* poisson_firing_synapses (class: PoissonFiringSynapse, Optional)\n",
      "* fixed_factor_concentration_models (class: FixedFactorConcentrationModel, Optional)\n",
      "* transient_poisson_firing_synapses (class: TransientPoissonFiringSynapse, Optional)\n",
      "* alpha_current_synapses (class: AlphaCurrentSynapse, Optional)\n",
      "* IF_curr_alpha (class: IF_curr_alpha, Optional)\n",
      "* alpha_synapses (class: AlphaSynapse, Optional)\n",
      "* IF_curr_exp (class: IF_curr_exp, Optional)\n",
      "* exp_one_synapses (class: ExpOneSynapse, Optional)\n",
      "* IF_cond_alpha (class: IF_cond_alpha, Optional)\n",
      "* exp_two_synapses (class: ExpTwoSynapse, Optional)\n",
      "* IF_cond_exp (class: IF_cond_exp, Optional)\n",
      "* id (class: NmlId, Required)\n",
      "\t* Contents ('ids'/<objects>): IzhSingleNeuron\n",
      "\n",
      "* exp_three_synapses (class: ExpThreeSynapse, Optional)\n",
      "* EIF_cond_exp_isfa_ista (class: EIF_cond_exp_isfa_ista, Optional)\n",
      "* blocking_plastic_synapses (class: BlockingPlasticSynapse, Optional)\n",
      "* EIF_cond_alpha_isfa_ista (class: EIF_cond_alpha_isfa_ista, Optional)\n",
      "* double_synapses (class: DoubleSynapse, Optional)\n",
      "* HH_cond_exp (class: HH_cond_exp, Optional)\n",
      "* gap_junctions (class: GapJunction, Optional)\n",
      "* exp_cond_synapses (class: ExpCondSynapse, Optional)\n",
      "* silent_synapses (class: SilentSynapse, Optional)\n",
      "* alpha_cond_synapses (class: AlphaCondSynapse, Optional)\n",
      "* metaid (class: MetaId, Optional)\n",
      "* linear_graded_synapses (class: LinearGradedSynapse, Optional)\n",
      "* exp_curr_synapses (class: ExpCurrSynapse, Optional)\n",
      "* properties (class: Property, Optional)\n",
      "* graded_synapses (class: GradedSynapse, Optional)\n",
      "* alpha_curr_synapses (class: AlphaCurrSynapse, Optional)\n",
      "* biophysical_properties (class: BiophysicalProperties, Optional)\n",
      "* SpikeSourcePoisson (class: SpikeSourcePoisson, Optional)\n",
      "* cells (class: Cell, Optional)\n",
      "* networks (class: Network, Optional)\n",
      "* cell2_ca_poolses (class: Cell2CaPools, Optional)\n",
      "* ComponentType (class: ComponentType, Optional)\n",
      "* base_cells (class: BaseCell, Optional)\n",
      "* iaf_tau_cells (class: IafTauCell, Optional)\n",
      "* annotation (class: Annotation, Optional)\n",
      "* iaf_tau_ref_cells (class: IafTauRefCell, Optional)\n",
      "* notes (class: xs:string, Optional)\n",
      "* iaf_cells (class: IafCell, Optional)\n",
      "* iaf_ref_cells (class: IafRefCell, Optional)\n",
      "* izhikevich_cells (class: IzhikevichCell, Optional)\n",
      "* izhikevich2007_cells (class: Izhikevich2007Cell, Optional)\n",
      "* ad_ex_ia_f_cells (class: AdExIaFCell, Optional)\n",
      "* fitz_hugh_nagumo_cells (class: FitzHughNagumoCell, Optional)\n",
      "* fitz_hugh_nagumo1969_cells (class: FitzHughNagumo1969Cell, Optional)\n",
      "* pinsky_rinzel_ca3_cells (class: PinskyRinzelCA3Cell, Optional)\n",
      "* pulse_generators (class: PulseGenerator, Optional)\n",
      "* pulse_generator_dls (class: PulseGeneratorDL, Optional)\n",
      "\n"
     ]
    },
    {
     "data": {
      "text/plain": [
       "\"Please see the NeuroML standard schema documentation at https://docs.neuroml.org/Userdocs/NeuroMLv2.html for more information.\\n\\nValid members for NeuroMLDocument are:\\n* sine_generators (class: SineGenerator, Optional)\\n* sine_generator_dls (class: SineGeneratorDL, Optional)\\n* ramp_generators (class: RampGenerator, Optional)\\n* ramp_generator_dls (class: RampGeneratorDL, Optional)\\n* compound_inputs (class: CompoundInput, Optional)\\n* compound_input_dls (class: CompoundInputDL, Optional)\\n* includes (class: IncludeType, Optional)\\n* voltage_clamps (class: VoltageClamp, Optional)\\n* extracellular_properties (class: ExtracellularProperties, Optional)\\n* voltage_clamp_triples (class: VoltageClampTriple, Optional)\\n* intracellular_properties (class: IntracellularProperties, Optional)\\n* spike_arrays (class: SpikeArray, Optional)\\n* morphology (class: Morphology, Optional)\\n* timed_synaptic_inputs (class: TimedSynapticInput, Optional)\\n* ion_channel (class: IonChannel, Optional)\\n* spike_generators (class: SpikeGenerator, Optional)\\n* ion_channel_hhs (class: IonChannelHH, Optional)\\n* spike_generator_randoms (class: SpikeGeneratorRandom, Optional)\\n* ion_channel_v_shifts (class: IonChannelVShift, Optional)\\n* spike_generator_poissons (class: SpikeGeneratorPoisson, Optional)\\n* ion_channel_kses (class: IonChannelKS, Optional)\\n* spike_generator_ref_poissons (class: SpikeGeneratorRefPoisson, Optional)\\n* decaying_pool_concentration_models (class: DecayingPoolConcentrationModel, Optional)\\n* poisson_firing_synapses (class: PoissonFiringSynapse, Optional)\\n* fixed_factor_concentration_models (class: FixedFactorConcentrationModel, Optional)\\n* transient_poisson_firing_synapses (class: TransientPoissonFiringSynapse, Optional)\\n* alpha_current_synapses (class: AlphaCurrentSynapse, Optional)\\n* IF_curr_alpha (class: IF_curr_alpha, Optional)\\n* alpha_synapses (class: AlphaSynapse, Optional)\\n* IF_curr_exp (class: IF_curr_exp, Optional)\\n* exp_one_synapses (class: ExpOneSynapse, Optional)\\n* IF_cond_alpha (class: IF_cond_alpha, Optional)\\n* exp_two_synapses (class: ExpTwoSynapse, Optional)\\n* IF_cond_exp (class: IF_cond_exp, Optional)\\n* id (class: NmlId, Required)\\n\\t* Contents ('ids'/<objects>): IzhSingleNeuron\\n\\n* exp_three_synapses (class: ExpThreeSynapse, Optional)\\n* EIF_cond_exp_isfa_ista (class: EIF_cond_exp_isfa_ista, Optional)\\n* blocking_plastic_synapses (class: BlockingPlasticSynapse, Optional)\\n* EIF_cond_alpha_isfa_ista (class: EIF_cond_alpha_isfa_ista, Optional)\\n* double_synapses (class: DoubleSynapse, Optional)\\n* HH_cond_exp (class: HH_cond_exp, Optional)\\n* gap_junctions (class: GapJunction, Optional)\\n* exp_cond_synapses (class: ExpCondSynapse, Optional)\\n* silent_synapses (class: SilentSynapse, Optional)\\n* alpha_cond_synapses (class: AlphaCondSynapse, Optional)\\n* metaid (class: MetaId, Optional)\\n* linear_graded_synapses (class: LinearGradedSynapse, Optional)\\n* exp_curr_synapses (class: ExpCurrSynapse, Optional)\\n* properties (class: Property, Optional)\\n* graded_synapses (class: GradedSynapse, Optional)\\n* alpha_curr_synapses (class: AlphaCurrSynapse, Optional)\\n* biophysical_properties (class: BiophysicalProperties, Optional)\\n* SpikeSourcePoisson (class: SpikeSourcePoisson, Optional)\\n* cells (class: Cell, Optional)\\n* networks (class: Network, Optional)\\n* cell2_ca_poolses (class: Cell2CaPools, Optional)\\n* ComponentType (class: ComponentType, Optional)\\n* base_cells (class: BaseCell, Optional)\\n* iaf_tau_cells (class: IafTauCell, Optional)\\n* annotation (class: Annotation, Optional)\\n* iaf_tau_ref_cells (class: IafTauRefCell, Optional)\\n* notes (class: xs:string, Optional)\\n* iaf_cells (class: IafCell, Optional)\\n* iaf_ref_cells (class: IafRefCell, Optional)\\n* izhikevich_cells (class: IzhikevichCell, Optional)\\n* izhikevich2007_cells (class: Izhikevich2007Cell, Optional)\\n* ad_ex_ia_f_cells (class: AdExIaFCell, Optional)\\n* fitz_hugh_nagumo_cells (class: FitzHughNagumoCell, Optional)\\n* fitz_hugh_nagumo1969_cells (class: FitzHughNagumo1969Cell, Optional)\\n* pinsky_rinzel_ca3_cells (class: PinskyRinzelCA3Cell, Optional)\\n* pulse_generators (class: PulseGenerator, Optional)\\n* pulse_generator_dls (class: PulseGeneratorDL, Optional)\\n\""
      ]
     },
     "execution_count": 4,
     "metadata": {},
     "output_type": "execute_result"
    }
   ],
   "source": [
    "nml_doc.info(True)"
   ]
  },
  {
   "cell_type": "markdown",
   "metadata": {},
   "source": [
    "### Define the Izhikevich cell and add it to the model"
   ]
  },
  {
   "cell_type": "code",
   "execution_count": 5,
   "metadata": {},
   "outputs": [
    {
     "name": "stdout",
     "output_type": "stream",
     "text": [
      "Izhikevich2007Cell -- Cell based on the modified Izhikevich model in Izhikevich 2007, Dynamical systems in neuroscience, MIT Press\n",
      "\n",
      "Please see the NeuroML standard schema documentation at https://docs.neuroml.org/Userdocs/NeuroMLv2.html for more information.\n",
      "\n",
      "Valid members for Izhikevich2007Cell are:\n",
      "* notes (class: xs:string, Optional)\n",
      "* vpeak (class: Nml2Quantity_voltage, Required)\n",
      "\t* Contents ('ids'/<objects>): 35mV\n",
      "\n",
      "* a (class: Nml2Quantity_pertime, Required)\n",
      "\t* Contents ('ids'/<objects>): 0.03per_ms\n",
      "\n",
      "* C (class: Nml2Quantity_capacitance, Required)\n",
      "\t* Contents ('ids'/<objects>): 100pF\n",
      "\n",
      "* b (class: Nml2Quantity_conductance, Required)\n",
      "\t* Contents ('ids'/<objects>): -2nS\n",
      "\n",
      "* metaid (class: MetaId, Optional)\n",
      "* c (class: Nml2Quantity_voltage, Required)\n",
      "\t* Contents ('ids'/<objects>): -50.0mV\n",
      "\n",
      "* properties (class: Property, Optional)\n",
      "* d (class: Nml2Quantity_current, Required)\n",
      "\t* Contents ('ids'/<objects>): 100pA\n",
      "\n",
      "* v0 (class: Nml2Quantity_voltage, Required)\n",
      "\t* Contents ('ids'/<objects>): -60mV\n",
      "\n",
      "* k (class: Nml2Quantity_conductancePerVoltage, Required)\n",
      "\t* Contents ('ids'/<objects>): 0.7nS_per_mV\n",
      "\n",
      "* id (class: NmlId, Required)\n",
      "\t* Contents ('ids'/<objects>): izh2007RS0\n",
      "\n",
      "* vr (class: Nml2Quantity_voltage, Required)\n",
      "\t* Contents ('ids'/<objects>): -60mV\n",
      "\n",
      "* neuro_lex_id (class: NeuroLexId, Optional)\n",
      "* annotation (class: Annotation, Optional)\n",
      "* vt (class: Nml2Quantity_voltage, Required)\n",
      "\t* Contents ('ids'/<objects>): -40mV\n",
      "\n",
      "\n",
      "Please see the NeuroML standard schema documentation at https://docs.neuroml.org/Userdocs/NeuroMLv2.html for more information.\n",
      "\n",
      "Valid members for NeuroMLDocument are:\n",
      "* sine_generators (class: SineGenerator, Optional)\n",
      "* sine_generator_dls (class: SineGeneratorDL, Optional)\n",
      "* ramp_generators (class: RampGenerator, Optional)\n",
      "* ramp_generator_dls (class: RampGeneratorDL, Optional)\n",
      "* compound_inputs (class: CompoundInput, Optional)\n",
      "* compound_input_dls (class: CompoundInputDL, Optional)\n",
      "* includes (class: IncludeType, Optional)\n",
      "* voltage_clamps (class: VoltageClamp, Optional)\n",
      "* extracellular_properties (class: ExtracellularProperties, Optional)\n",
      "* voltage_clamp_triples (class: VoltageClampTriple, Optional)\n",
      "* intracellular_properties (class: IntracellularProperties, Optional)\n",
      "* spike_arrays (class: SpikeArray, Optional)\n",
      "* morphology (class: Morphology, Optional)\n",
      "* timed_synaptic_inputs (class: TimedSynapticInput, Optional)\n",
      "* ion_channel (class: IonChannel, Optional)\n",
      "* spike_generators (class: SpikeGenerator, Optional)\n",
      "* ion_channel_hhs (class: IonChannelHH, Optional)\n",
      "* spike_generator_randoms (class: SpikeGeneratorRandom, Optional)\n",
      "* ion_channel_v_shifts (class: IonChannelVShift, Optional)\n",
      "* spike_generator_poissons (class: SpikeGeneratorPoisson, Optional)\n",
      "* ion_channel_kses (class: IonChannelKS, Optional)\n",
      "* spike_generator_ref_poissons (class: SpikeGeneratorRefPoisson, Optional)\n",
      "* decaying_pool_concentration_models (class: DecayingPoolConcentrationModel, Optional)\n",
      "* poisson_firing_synapses (class: PoissonFiringSynapse, Optional)\n",
      "* fixed_factor_concentration_models (class: FixedFactorConcentrationModel, Optional)\n",
      "* transient_poisson_firing_synapses (class: TransientPoissonFiringSynapse, Optional)\n",
      "* alpha_current_synapses (class: AlphaCurrentSynapse, Optional)\n",
      "* IF_curr_alpha (class: IF_curr_alpha, Optional)\n",
      "* alpha_synapses (class: AlphaSynapse, Optional)\n",
      "* IF_curr_exp (class: IF_curr_exp, Optional)\n",
      "* exp_one_synapses (class: ExpOneSynapse, Optional)\n",
      "* IF_cond_alpha (class: IF_cond_alpha, Optional)\n",
      "* exp_two_synapses (class: ExpTwoSynapse, Optional)\n",
      "* IF_cond_exp (class: IF_cond_exp, Optional)\n",
      "* id (class: NmlId, Required)\n",
      "\t* Contents ('ids'/<objects>): IzhSingleNeuron\n",
      "\n",
      "* exp_three_synapses (class: ExpThreeSynapse, Optional)\n",
      "* EIF_cond_exp_isfa_ista (class: EIF_cond_exp_isfa_ista, Optional)\n",
      "* blocking_plastic_synapses (class: BlockingPlasticSynapse, Optional)\n",
      "* EIF_cond_alpha_isfa_ista (class: EIF_cond_alpha_isfa_ista, Optional)\n",
      "* double_synapses (class: DoubleSynapse, Optional)\n",
      "* HH_cond_exp (class: HH_cond_exp, Optional)\n",
      "* gap_junctions (class: GapJunction, Optional)\n",
      "* exp_cond_synapses (class: ExpCondSynapse, Optional)\n",
      "* silent_synapses (class: SilentSynapse, Optional)\n",
      "* alpha_cond_synapses (class: AlphaCondSynapse, Optional)\n",
      "* metaid (class: MetaId, Optional)\n",
      "* linear_graded_synapses (class: LinearGradedSynapse, Optional)\n",
      "* exp_curr_synapses (class: ExpCurrSynapse, Optional)\n",
      "* properties (class: Property, Optional)\n",
      "* graded_synapses (class: GradedSynapse, Optional)\n",
      "* alpha_curr_synapses (class: AlphaCurrSynapse, Optional)\n",
      "* biophysical_properties (class: BiophysicalProperties, Optional)\n",
      "* SpikeSourcePoisson (class: SpikeSourcePoisson, Optional)\n",
      "* cells (class: Cell, Optional)\n",
      "* networks (class: Network, Optional)\n",
      "* cell2_ca_poolses (class: Cell2CaPools, Optional)\n",
      "* ComponentType (class: ComponentType, Optional)\n",
      "* base_cells (class: BaseCell, Optional)\n",
      "* iaf_tau_cells (class: IafTauCell, Optional)\n",
      "* annotation (class: Annotation, Optional)\n",
      "* iaf_tau_ref_cells (class: IafTauRefCell, Optional)\n",
      "* notes (class: xs:string, Optional)\n",
      "* iaf_cells (class: IafCell, Optional)\n",
      "* iaf_ref_cells (class: IafRefCell, Optional)\n",
      "* izhikevich_cells (class: IzhikevichCell, Optional)\n",
      "* izhikevich2007_cells (class: Izhikevich2007Cell, Optional)\n",
      "\t* Contents ('ids'/<objects>): ['izh2007RS0']\n",
      "\n",
      "* ad_ex_ia_f_cells (class: AdExIaFCell, Optional)\n",
      "* fitz_hugh_nagumo_cells (class: FitzHughNagumoCell, Optional)\n",
      "* fitz_hugh_nagumo1969_cells (class: FitzHughNagumo1969Cell, Optional)\n",
      "* pinsky_rinzel_ca3_cells (class: PinskyRinzelCA3Cell, Optional)\n",
      "* pulse_generators (class: PulseGenerator, Optional)\n",
      "* pulse_generator_dls (class: PulseGeneratorDL, Optional)\n",
      "\n"
     ]
    },
    {
     "data": {
      "text/plain": [
       "\"Please see the NeuroML standard schema documentation at https://docs.neuroml.org/Userdocs/NeuroMLv2.html for more information.\\n\\nValid members for NeuroMLDocument are:\\n* sine_generators (class: SineGenerator, Optional)\\n* sine_generator_dls (class: SineGeneratorDL, Optional)\\n* ramp_generators (class: RampGenerator, Optional)\\n* ramp_generator_dls (class: RampGeneratorDL, Optional)\\n* compound_inputs (class: CompoundInput, Optional)\\n* compound_input_dls (class: CompoundInputDL, Optional)\\n* includes (class: IncludeType, Optional)\\n* voltage_clamps (class: VoltageClamp, Optional)\\n* extracellular_properties (class: ExtracellularProperties, Optional)\\n* voltage_clamp_triples (class: VoltageClampTriple, Optional)\\n* intracellular_properties (class: IntracellularProperties, Optional)\\n* spike_arrays (class: SpikeArray, Optional)\\n* morphology (class: Morphology, Optional)\\n* timed_synaptic_inputs (class: TimedSynapticInput, Optional)\\n* ion_channel (class: IonChannel, Optional)\\n* spike_generators (class: SpikeGenerator, Optional)\\n* ion_channel_hhs (class: IonChannelHH, Optional)\\n* spike_generator_randoms (class: SpikeGeneratorRandom, Optional)\\n* ion_channel_v_shifts (class: IonChannelVShift, Optional)\\n* spike_generator_poissons (class: SpikeGeneratorPoisson, Optional)\\n* ion_channel_kses (class: IonChannelKS, Optional)\\n* spike_generator_ref_poissons (class: SpikeGeneratorRefPoisson, Optional)\\n* decaying_pool_concentration_models (class: DecayingPoolConcentrationModel, Optional)\\n* poisson_firing_synapses (class: PoissonFiringSynapse, Optional)\\n* fixed_factor_concentration_models (class: FixedFactorConcentrationModel, Optional)\\n* transient_poisson_firing_synapses (class: TransientPoissonFiringSynapse, Optional)\\n* alpha_current_synapses (class: AlphaCurrentSynapse, Optional)\\n* IF_curr_alpha (class: IF_curr_alpha, Optional)\\n* alpha_synapses (class: AlphaSynapse, Optional)\\n* IF_curr_exp (class: IF_curr_exp, Optional)\\n* exp_one_synapses (class: ExpOneSynapse, Optional)\\n* IF_cond_alpha (class: IF_cond_alpha, Optional)\\n* exp_two_synapses (class: ExpTwoSynapse, Optional)\\n* IF_cond_exp (class: IF_cond_exp, Optional)\\n* id (class: NmlId, Required)\\n\\t* Contents ('ids'/<objects>): IzhSingleNeuron\\n\\n* exp_three_synapses (class: ExpThreeSynapse, Optional)\\n* EIF_cond_exp_isfa_ista (class: EIF_cond_exp_isfa_ista, Optional)\\n* blocking_plastic_synapses (class: BlockingPlasticSynapse, Optional)\\n* EIF_cond_alpha_isfa_ista (class: EIF_cond_alpha_isfa_ista, Optional)\\n* double_synapses (class: DoubleSynapse, Optional)\\n* HH_cond_exp (class: HH_cond_exp, Optional)\\n* gap_junctions (class: GapJunction, Optional)\\n* exp_cond_synapses (class: ExpCondSynapse, Optional)\\n* silent_synapses (class: SilentSynapse, Optional)\\n* alpha_cond_synapses (class: AlphaCondSynapse, Optional)\\n* metaid (class: MetaId, Optional)\\n* linear_graded_synapses (class: LinearGradedSynapse, Optional)\\n* exp_curr_synapses (class: ExpCurrSynapse, Optional)\\n* properties (class: Property, Optional)\\n* graded_synapses (class: GradedSynapse, Optional)\\n* alpha_curr_synapses (class: AlphaCurrSynapse, Optional)\\n* biophysical_properties (class: BiophysicalProperties, Optional)\\n* SpikeSourcePoisson (class: SpikeSourcePoisson, Optional)\\n* cells (class: Cell, Optional)\\n* networks (class: Network, Optional)\\n* cell2_ca_poolses (class: Cell2CaPools, Optional)\\n* ComponentType (class: ComponentType, Optional)\\n* base_cells (class: BaseCell, Optional)\\n* iaf_tau_cells (class: IafTauCell, Optional)\\n* annotation (class: Annotation, Optional)\\n* iaf_tau_ref_cells (class: IafTauRefCell, Optional)\\n* notes (class: xs:string, Optional)\\n* iaf_cells (class: IafCell, Optional)\\n* iaf_ref_cells (class: IafRefCell, Optional)\\n* izhikevich_cells (class: IzhikevichCell, Optional)\\n* izhikevich2007_cells (class: Izhikevich2007Cell, Optional)\\n\\t* Contents ('ids'/<objects>): ['izh2007RS0']\\n\\n* ad_ex_ia_f_cells (class: AdExIaFCell, Optional)\\n* fitz_hugh_nagumo_cells (class: FitzHughNagumoCell, Optional)\\n* fitz_hugh_nagumo1969_cells (class: FitzHughNagumo1969Cell, Optional)\\n* pinsky_rinzel_ca3_cells (class: PinskyRinzelCA3Cell, Optional)\\n* pulse_generators (class: PulseGenerator, Optional)\\n* pulse_generator_dls (class: PulseGeneratorDL, Optional)\\n\""
      ]
     },
     "execution_count": 5,
     "metadata": {},
     "output_type": "execute_result"
    }
   ],
   "source": [
    "izh0 = nml_doc.add(\n",
    "    \"Izhikevich2007Cell\",\n",
    "    id=\"izh2007RS0\", v0=\"-60mV\", C=\"100pF\", k=\"0.7nS_per_mV\", vr=\"-60mV\",\n",
    "    vt=\"-40mV\", vpeak=\"35mV\", a=\"0.03per_ms\", b=\"-2nS\", c=\"-50.0mV\", d=\"100pA\")\n",
    "izh0.info(True)\n",
    "nml_doc.info(show_contents=True)"
   ]
  },
  {
   "cell_type": "markdown",
   "metadata": {},
   "source": [
    "### Create a network and add it to the model"
   ]
  },
  {
   "cell_type": "code",
   "execution_count": 6,
   "metadata": {},
   "outputs": [],
   "source": [
    "net = nml_doc.add(\"Network\", id=\"IzNet\", validate=False)"
   ]
  },
  {
   "cell_type": "markdown",
   "metadata": {},
   "source": [
    "### Create a population of defined cells and add it to the model"
   ]
  },
  {
   "cell_type": "code",
   "execution_count": 7,
   "metadata": {},
   "outputs": [
    {
     "name": "stdout",
     "output_type": "stream",
     "text": [
      "Network -- Network containing:  **population** s ( potentially of type  **populationList** , and so specifying a list of cell  **location** s );  **projection** s ( with lists of  **connection** s ) and/or  **explicitConnection** s; and  **inputList** s ( with lists of  **input** s ) and/or  **explicitInput** s. Note: often in NeuroML this will be of type  **networkWithTemperature**  if there are temperature dependent elements ( e. g. ion channels ).\n",
      "\n",
      "Please see the NeuroML standard schema documentation at https://docs.neuroml.org/Userdocs/NeuroMLv2.html for more information.\n",
      "\n",
      "Valid members for Network are:\n",
      "* synaptic_connections (class: SynapticConnection, Optional)\n",
      "* projections (class: Projection, Optional)\n",
      "* electrical_projections (class: ElectricalProjection, Optional)\n",
      "* continuous_projections (class: ContinuousProjection, Optional)\n",
      "* explicit_inputs (class: ExplicitInput, Optional)\n",
      "* input_lists (class: InputList, Optional)\n",
      "* id (class: NmlId, Required)\n",
      "* metaid (class: MetaId, Optional)\n",
      "* properties (class: Property, Optional)\n",
      "* annotation (class: Annotation, Optional)\n",
      "* notes (class: xs:string, Optional)\n",
      "* type (class: networkTypes, Optional)\n",
      "* temperature (class: Nml2Quantity_temperature, Optional)\n",
      "* neuro_lex_id (class: NeuroLexId, Optional)\n",
      "* spaces (class: Space, Optional)\n",
      "* regions (class: Region, Optional)\n",
      "* extracellular_properties (class: ExtracellularPropertiesLocal, Optional)\n",
      "* populations (class: Population, Required)\n",
      "* cell_sets (class: CellSet, Optional)\n",
      "\n"
     ]
    },
    {
     "data": {
      "text/plain": [
       "'Network -- Network containing:  **population** s ( potentially of type  **populationList** , and so specifying a list of cell  **location** s );  **projection** s ( with lists of  **connection** s ) and/or  **explicitConnection** s; and  **inputList** s ( with lists of  **input** s ) and/or  **explicitInput** s. Note: often in NeuroML this will be of type  **networkWithTemperature**  if there are temperature dependent elements ( e. g. ion channels ).\\n\\nPlease see the NeuroML standard schema documentation at https://docs.neuroml.org/Userdocs/NeuroMLv2.html for more information.\\n\\nValid members for Network are:\\n* synaptic_connections (class: SynapticConnection, Optional)\\n* projections (class: Projection, Optional)\\n* electrical_projections (class: ElectricalProjection, Optional)\\n* continuous_projections (class: ContinuousProjection, Optional)\\n* explicit_inputs (class: ExplicitInput, Optional)\\n* input_lists (class: InputList, Optional)\\n* id (class: NmlId, Required)\\n* metaid (class: MetaId, Optional)\\n* properties (class: Property, Optional)\\n* annotation (class: Annotation, Optional)\\n* notes (class: xs:string, Optional)\\n* type (class: networkTypes, Optional)\\n* temperature (class: Nml2Quantity_temperature, Optional)\\n* neuro_lex_id (class: NeuroLexId, Optional)\\n* spaces (class: Space, Optional)\\n* regions (class: Region, Optional)\\n* extracellular_properties (class: ExtracellularPropertiesLocal, Optional)\\n* populations (class: Population, Required)\\n* cell_sets (class: CellSet, Optional)\\n'"
      ]
     },
     "execution_count": 7,
     "metadata": {},
     "output_type": "execute_result"
    }
   ],
   "source": [
    "size0 = 1\n",
    "pop0 = net.add(\"Population\", id=\"IzhPop0\", component=izh0.id, size=size0)\n",
    "net.info()"
   ]
  },
  {
   "cell_type": "markdown",
   "metadata": {},
   "source": [
    "### Define an external stimulus and add it to the model"
   ]
  },
  {
   "cell_type": "code",
   "execution_count": 8,
   "metadata": {},
   "outputs": [],
   "source": [
    "pg = nml_doc.add(\n",
    "    \"PulseGenerator\",\n",
    "    id=\"pulseGen_%i\" % 0, delay=\"0ms\", duration=\"1000ms\",\n",
    "    amplitude=\"0.07 nA\"\n",
    ")\n",
    "exp_input = net.add(\"ExplicitInput\", target=\"%s[%i]\" % (pop0.id, 0), input=pg.id)"
   ]
  },
  {
   "cell_type": "markdown",
   "metadata": {},
   "source": [
    "### Write the NeuroML model to a file"
   ]
  },
  {
   "cell_type": "code",
   "execution_count": 9,
   "metadata": {},
   "outputs": [
    {
     "name": "stdout",
     "output_type": "stream",
     "text": [
      "Written network file to: izhikevich2007_single_cell_network.nml\n"
     ]
    }
   ],
   "source": [
    "nml_file = 'izhikevich2007_single_cell_network.nml'\n",
    "writers.NeuroMLWriter.write(nml_doc, nml_file)\n",
    "print(\"Written network file to: \" + nml_file)"
   ]
  },
  {
   "cell_type": "markdown",
   "metadata": {},
   "source": [
    "### Validate the NeuroML model"
   ]
  },
  {
   "cell_type": "code",
   "execution_count": 10,
   "metadata": {},
   "outputs": [
    {
     "name": "stdout",
     "output_type": "stream",
     "text": [
      "Validating izhikevich2007_single_cell_network.nml against /home/asinha/.local/share/virtualenvs/neuroml-dev/lib/python3.10/site-packages/neuroml/nml/NeuroML_v2.3.xsd\n",
      "It's valid!\n"
     ]
    }
   ],
   "source": [
    "validate_neuroml2(nml_file)"
   ]
  },
  {
   "cell_type": "markdown",
   "metadata": {},
   "source": [
    "## Simulating the model"
   ]
  },
  {
   "cell_type": "markdown",
   "metadata": {},
   "source": [
    "### Create a simulation instance of the model"
   ]
  },
  {
   "cell_type": "code",
   "execution_count": 11,
   "metadata": {},
   "outputs": [
    {
     "name": "stderr",
     "output_type": "stream",
     "text": [
      "pyNeuroML >>> INFO - Loading NeuroML2 file: /home/asinha/Documents/02_Code/00_mine/NeuroML/documentation/source/Userdocs/NML2_examples/izhikevich2007_single_cell_network.nml\n"
     ]
    }
   ],
   "source": [
    "simulation_id = \"example-single-izhikevich2007cell-sim\"\n",
    "simulation = LEMSSimulation(sim_id=simulation_id,\n",
    "                            duration=1000, dt=0.1, simulation_seed=123)\n",
    "simulation.assign_simulation_target(net.id)\n",
    "simulation.include_neuroml2_file(nml_file)"
   ]
  },
  {
   "cell_type": "markdown",
   "metadata": {},
   "source": [
    "### Define the output file to store simulation outputs\n",
    "\n",
    "Here, we record the neuron's membrane potential to the specified data file."
   ]
  },
  {
   "cell_type": "code",
   "execution_count": 12,
   "metadata": {},
   "outputs": [],
   "source": [
    "simulation.create_output_file(\n",
    "    \"output0\", \"%s.v.dat\" % simulation_id\n",
    ")\n",
    "simulation.add_column_to_output_file(\"output0\", 'IzhPop0[0]', 'IzhPop0[0]/v')"
   ]
  },
  {
   "cell_type": "markdown",
   "metadata": {},
   "source": [
    "### Save the simulation to a file"
   ]
  },
  {
   "cell_type": "code",
   "execution_count": 13,
   "metadata": {},
   "outputs": [],
   "source": [
    "lems_simulation_file = simulation.save_to_file()"
   ]
  },
  {
   "cell_type": "markdown",
   "metadata": {},
   "source": [
    "## Run the simulation using the jNeuroML simulator"
   ]
  },
  {
   "cell_type": "code",
   "execution_count": 14,
   "metadata": {},
   "outputs": [
    {
     "name": "stderr",
     "output_type": "stream",
     "text": [
      "pyNeuroML >>> INFO - Loading LEMS file: LEMS_example-single-izhikevich2007cell-sim.xml and running with jNeuroML\n",
      "pyNeuroML >>> INFO - Executing: (java -Xmx2G  -Djava.awt.headless=true -jar  \"/home/asinha/.local/share/virtualenvs/neuroml-dev/lib/python3.10/site-packages/pyneuroml/lib/jNeuroML-0.12.0-jar-with-dependencies.jar\"  \"LEMS_example-single-izhikevich2007cell-sim.xml\"  -nogui -I '') in directory: .\n",
      "pyNeuroML >>> INFO - Command completed. Output: \n",
      "  jNeuroML >>   jNeuroML v0.12.0\n",
      "  jNeuroML >>  Loading: /home/asinha/Documents/02_Code/00_mine/NeuroML/documentation/source/Userdocs/NML2_examples/LEMS_example-single-izhikevich2007cell-sim.xml with jLEMS, NO GUI mode...\n",
      "  jNeuroML >>  INFO Sep 15,2022 15:24  (INFO) Loading LEMS file from: /home/asinha/Documents/02_Code/00_mine/NeuroML/documentation/source/Userdocs/NML2_examples/LEMS_example-single-izhikevich2007cell-sim.xml\n",
      "  jNeuroML >>  INFO Sep 15,2022 15:24  (INFO) Reading from: /home/asinha/Documents/02_Code/00_mine/NeuroML/documentation/source/Userdocs/NML2_examples/LEMS_example-single-izhikevich2007cell-sim.xml\n",
      "  jNeuroML >>  INFO Sep 15,2022 15:24  (INFO) Finished 10000 steps in 0.081 seconds (sim duration: 1000.0ms; dt: 0.1ms)\n",
      "  jNeuroML >>  INFO Sep 15,2022 15:24  (INFO) Written to the file /home/asinha/Documents/02_Code/00_mine/NeuroML/documentation/source/Userdocs/NML2_examples/./example-single-izhikevich2007cell-sim.v.dat 204829\n",
      "  jNeuroML >>  INFO Sep 15,2022 15:24  (INFO) Finished reading, building, running and displaying LEMS model\n",
      "  jNeuroML >>  \n"
     ]
    },
    {
     "data": {
      "text/plain": [
       "True"
      ]
     },
     "execution_count": 14,
     "metadata": {},
     "output_type": "execute_result"
    }
   ],
   "source": [
    "pynml.run_lems_with_jneuroml(\n",
    "    lems_simulation_file, max_memory=\"2G\", nogui=True, plot=False\n",
    ")"
   ]
  },
  {
   "cell_type": "markdown",
   "metadata": {},
   "source": [
    "## Plot the recorded data"
   ]
  },
  {
   "cell_type": "code",
   "execution_count": 15,
   "metadata": {
    "scrolled": true
   },
   "outputs": [
    {
     "name": "stderr",
     "output_type": "stream",
     "text": [
      "pyNeuroML >>> INFO - Generating plot: Membrane potential\n",
      "/home/asinha/.local/share/virtualenvs/neuroml-dev/lib/python3.10/site-packages/pyneuroml/plot/Plot.py:186: UserWarning: marker is redundantly defined by the 'marker' keyword argument and the fmt string \"o\" (-> marker='o'). The keyword argument will take precedence.\n",
      "  plt.plot(\n"
     ]
    },
    {
     "data": {
      "image/png": "[encoded data removed]",
      "text/plain": [
       "<Figure size 640x480 with 1 Axes>"
      ]
     },
     "metadata": {},
     "output_type": "display_data"
    },
    {
     "data": {
      "text/plain": [
       "<AxesSubplot:xlabel='time (s)', ylabel='membrane potential (V)'>"
      ]
     },
     "execution_count": 15,
     "metadata": {},
     "output_type": "execute_result"
    }
   ],
   "source": [
    "# Load the data from the file and plot the graph for the membrane potential\n",
    "# using the pynml generate_plot utility function.\n",
    "data_array = np.loadtxt(\"%s.v.dat\" % simulation_id)\n",
    "pynml.generate_plot(\n",
    "    [data_array[:, 0]], [data_array[:, 1]],\n",
    "    \"Membrane potential\", show_plot_already=True,\n",
    "    xaxis=\"time (s)\", yaxis=\"membrane potential (V)\"\n",
    ")"
   ]
  },
  {
   "cell_type": "code",
   "execution_count": null,
   "metadata": {},
   "outputs": [],
   "source": []
  }
 ],
 "metadata": {
  "kernelspec": {
   "display_name": "Python 3 (ipykernel)",
   "language": "python",
   "name": "python3"
  },
  "language_info": {
   "codemirror_mode": {
    "name": "ipython",
    "version": 3
   },
   "file_extension": ".py",
   "mimetype": "text/x-python",
   "name": "python",
   "nbconvert_exporter": "python",
   "pygments_lexer": "ipython3",
   "version": "3.10.6"
  }
 },
 "nbformat": 4,
 "nbformat_minor": 4
}
