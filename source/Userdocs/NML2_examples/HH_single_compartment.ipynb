{
 "cells": [
  {
   "cell_type": "markdown",
   "metadata": {},
   "source": [
    "# Interactive single compartment HH example\n",
    "\n",
    "To run this interactive Jupyter Notebook, please click on the rocket icon 🚀 in the top panel. ",
    "For more information, please see {ref}`how to use this documentation <userdocs:usage:jupyterbooks>`. ",
    "Please uncomment the line below if you use the Google Colab. (It does not include these packages by default)."
   ]
  },
  {
   "cell_type": "code",
   "execution_count": 1,
   "metadata": {},
   "outputs": [],
   "source": [
    "#%pip install pyneuroml neuromllite NEURON"
   ]
  },
  {
   "cell_type": "code",
   "execution_count": 1,
   "metadata": {},
   "outputs": [],
   "source": [
    "import math\n",
    "from neuroml import NeuroMLDocument\n",
    "from neuroml import Cell\n",
    "from neuroml import IonChannelHH\n",
    "from neuroml import GateHHRates\n",
    "from neuroml import BiophysicalProperties\n",
    "from neuroml import MembraneProperties\n",
    "from neuroml import ChannelDensity\n",
    "from neuroml import HHRate\n",
    "from neuroml import SpikeThresh\n",
    "from neuroml import SpecificCapacitance\n",
    "from neuroml import InitMembPotential\n",
    "from neuroml import IntracellularProperties\n",
    "from neuroml import IncludeType\n",
    "from neuroml import Resistivity\n",
    "from neuroml import Morphology, Segment, Point3DWithDiam\n",
    "from neuroml import Network, Population\n",
    "from neuroml import PulseGenerator, ExplicitInput\n",
    "import numpy as np\n",
    "from pyneuroml import pynml\n",
    "from pyneuroml.lems import LEMSSimulation"
   ]
  },
  {
   "cell_type": "markdown",
   "metadata": {},
   "source": [
    "## Declare the model\n",
    "### Create ion channels"
   ]
  },
  {
   "cell_type": "code",
   "execution_count": 2,
   "metadata": {},
   "outputs": [],
   "source": [
    "def create_na_channel():\n",
    "    \"\"\"Create the Na channel.\n",
    "\n",
    "    This will create the Na channel and save it to a file.\n",
    "    It will also validate this file.\n",
    "\n",
    "    returns: name of the created file\n",
    "    \"\"\"\n",
    "    na_channel = IonChannelHH(id=\"na_channel\", notes=\"Sodium channel for HH cell\", conductance=\"10pS\", species=\"na\")\n",
    "    gate_m = GateHHRates(id=\"na_m\", instances=\"3\", notes=\"m gate for na channel\")\n",
    "\n",
    "    m_forward_rate = HHRate(type=\"HHExpLinearRate\", rate=\"1per_ms\", midpoint=\"-40mV\", scale=\"10mV\")\n",
    "    m_reverse_rate = HHRate(type=\"HHExpRate\", rate=\"4per_ms\", midpoint=\"-65mV\", scale=\"-18mV\")\n",
    "    gate_m.forward_rate = m_forward_rate\n",
    "    gate_m.reverse_rate = m_reverse_rate\n",
    "    na_channel.gate_hh_rates.append(gate_m)\n",
    "\n",
    "    gate_h = GateHHRates(id=\"na_h\", instances=\"1\", notes=\"h gate for na channel\")\n",
    "    h_forward_rate = HHRate(type=\"HHExpRate\", rate=\"0.07per_ms\", midpoint=\"-65mV\", scale=\"-20mV\")\n",
    "    h_reverse_rate = HHRate(type=\"HHSigmoidRate\", rate=\"1per_ms\", midpoint=\"-35mV\", scale=\"10mV\")\n",
    "    gate_h.forward_rate = h_forward_rate\n",
    "    gate_h.reverse_rate = h_reverse_rate\n",
    "    na_channel.gate_hh_rates.append(gate_h)\n",
    "\n",
    "    na_channel_doc = NeuroMLDocument(id=\"na_channel\", notes=\"Na channel for HH neuron\")\n",
    "    na_channel_fn = \"HH_example_na_channel.nml\"\n",
    "    na_channel_doc.ion_channel_hhs.append(na_channel)\n",
    "\n",
    "    pynml.write_neuroml2_file(nml2_doc=na_channel_doc, nml2_file_name=na_channel_fn, validate=True)\n",
    "\n",
    "    return na_channel_fn"
   ]
  },
  {
   "cell_type": "code",
   "execution_count": 3,
   "metadata": {},
   "outputs": [],
   "source": [
    "def create_k_channel():\n",
    "    \"\"\"Create the K channel\n",
    "\n",
    "    This will create the K channel and save it to a file.\n",
    "    It will also validate this file.\n",
    "\n",
    "    :returns: name of the K channel file\n",
    "    \"\"\"\n",
    "    k_channel = IonChannelHH(id=\"k_channel\", notes=\"Potassium channel for HH cell\", conductance=\"10pS\", species=\"k\")\n",
    "    gate_n = GateHHRates(id=\"k_n\", instances=\"4\", notes=\"n gate for k channel\")\n",
    "    n_forward_rate = HHRate(type=\"HHExpLinearRate\", rate=\"0.1per_ms\", midpoint=\"-55mV\", scale=\"10mV\")\n",
    "    n_reverse_rate = HHRate(type=\"HHExpRate\", rate=\"0.125per_ms\", midpoint=\"-65mV\", scale=\"-80mV\")\n",
    "    gate_n.forward_rate = n_forward_rate\n",
    "    gate_n.reverse_rate = n_reverse_rate\n",
    "    k_channel.gate_hh_rates.append(gate_n)\n",
    "\n",
    "    k_channel_doc = NeuroMLDocument(id=\"k_channel\", notes=\"k channel for HH neuron\")\n",
    "    k_channel_fn = \"HH_example_k_channel.nml\"\n",
    "    k_channel_doc.ion_channel_hhs.append(k_channel)\n",
    "\n",
    "    pynml.write_neuroml2_file(nml2_doc=k_channel_doc, nml2_file_name=k_channel_fn, validate=True)\n",
    "\n",
    "    return k_channel_fn"
   ]
  },
  {
   "cell_type": "code",
   "execution_count": 4,
   "metadata": {},
   "outputs": [],
   "source": [
    "def create_leak_channel():\n",
    "    \"\"\"Create a leak channel\n",
    "\n",
    "    This will create the leak channel and save it to a file.\n",
    "    It will also validate this file.\n",
    "\n",
    "    :returns: name of leak channel nml file\n",
    "    \"\"\"\n",
    "    leak_channel = IonChannelHH(id=\"leak_channel\", conductance=\"10pS\", notes=\"Leak conductance\")\n",
    "    leak_channel_doc = NeuroMLDocument(id=\"leak_channel\", notes=\"leak channel for HH neuron\")\n",
    "    leak_channel_fn = \"HH_example_leak_channel.nml\"\n",
    "    leak_channel_doc.ion_channel_hhs.append(leak_channel)\n",
    "\n",
    "    pynml.write_neuroml2_file(nml2_doc=leak_channel_doc, nml2_file_name=leak_channel_fn, validate=True)\n",
    "\n",
    "    return leak_channel_fn"
   ]
  },
  {
   "cell_type": "markdown",
   "metadata": {},
   "source": [
    "### Create cell"
   ]
  },
  {
   "cell_type": "code",
   "execution_count": 5,
   "metadata": {},
   "outputs": [],
   "source": [
    "def create_cell():\n",
    "    \"\"\"Create the cell.\n",
    "\n",
    "    :returns: name of the cell nml file\n",
    "    \"\"\"\n",
    "    # Create the nml file and add the ion channels\n",
    "    hh_cell_doc = NeuroMLDocument(id=\"cell\", notes=\"HH cell\")\n",
    "    hh_cell_fn = \"HH_example_cell.nml\"\n",
    "    hh_cell_doc.includes.append(IncludeType(href=create_na_channel()))\n",
    "    hh_cell_doc.includes.append(IncludeType(href=create_k_channel()))\n",
    "    hh_cell_doc.includes.append(IncludeType(href=create_leak_channel()))\n",
    "\n",
    "    # Define a cell\n",
    "    hh_cell = Cell(id=\"hh_cell\", notes=\"A single compartment HH cell\")\n",
    "\n",
    "    # Define its biophysical properties\n",
    "    bio_prop = BiophysicalProperties(id=\"hh_b_prop\")\n",
    "    #  notes=\"Biophysical properties for HH cell\")\n",
    "\n",
    "    # Membrane properties are a type of biophysical properties\n",
    "    mem_prop = MembraneProperties()\n",
    "    # Add membrane properties to the biophysical properties\n",
    "    bio_prop.membrane_properties = mem_prop\n",
    "\n",
    "    # Append to cell\n",
    "    hh_cell.biophysical_properties = bio_prop\n",
    "\n",
    "    # Channel density for Na channel\n",
    "    na_channel_density = ChannelDensity(id=\"na_channels\", cond_density=\"120.0 mS_per_cm2\", erev=\"50.0 mV\", ion=\"na\", ion_channel=\"na_channel\")\n",
    "    mem_prop.channel_densities.append(na_channel_density)\n",
    "\n",
    "    # Channel density for k channel\n",
    "    k_channel_density = ChannelDensity(id=\"k_channels\", cond_density=\"360 S_per_m2\", erev=\"-77mV\", ion=\"k\", ion_channel=\"k_channel\")\n",
    "    mem_prop.channel_densities.append(k_channel_density)\n",
    "\n",
    "    # Leak channel\n",
    "    leak_channel_density = ChannelDensity(id=\"leak_channels\", cond_density=\"3.0 S_per_m2\", erev=\"-54.3mV\", ion=\"non_specific\", ion_channel=\"leak_channel\")\n",
    "    mem_prop.channel_densities.append(leak_channel_density)\n",
    "\n",
    "    # Other membrane properties\n",
    "    mem_prop.spike_threshes.append(SpikeThresh(value=\"-20mV\"))\n",
    "    mem_prop.specific_capacitances.append(SpecificCapacitance(value=\"1.0 uF_per_cm2\"))\n",
    "    mem_prop.init_memb_potentials.append(InitMembPotential(value=\"-65mV\"))\n",
    "\n",
    "    intra_prop = IntracellularProperties()\n",
    "    intra_prop.resistivities.append(Resistivity(value=\"0.03 kohm_cm\"))\n",
    "\n",
    "    # Add to biological properties\n",
    "    bio_prop.intracellular_properties = intra_prop\n",
    "\n",
    "    # Morphology\n",
    "    morph = Morphology(id=\"hh_cell_morph\")\n",
    "    #  notes=\"Simple morphology for the HH cell\")\n",
    "    seg = Segment(id=\"0\", name=\"soma\", notes=\"Soma segment\")\n",
    "    # We want a diameter such that area is 1000 micro meter^2\n",
    "    # surface area of a sphere is 4pi r^2 = 4pi diam^2\n",
    "    diam = math.sqrt(1000 / math.pi)\n",
    "    proximal = distal = Point3DWithDiam(x=\"0\", y=\"0\", z=\"0\", diameter=str(diam))\n",
    "    seg.proximal = proximal\n",
    "    seg.distal = distal\n",
    "    morph.segments.append(seg)\n",
    "    hh_cell.morphology = morph\n",
    "\n",
    "    hh_cell_doc.cells.append(hh_cell)\n",
    "    pynml.write_neuroml2_file(nml2_doc=hh_cell_doc, nml2_file_name=hh_cell_fn, validate=True)\n",
    "    return hh_cell_fn"
   ]
  },
  {
   "cell_type": "markdown",
   "metadata": {},
   "source": [
    "### Create a network"
   ]
  },
  {
   "cell_type": "code",
   "execution_count": 6,
   "metadata": {},
   "outputs": [],
   "source": [
    "def create_network():\n",
    "    \"\"\"Create the network\n",
    "\n",
    "    :returns: name of network nml file\n",
    "    \"\"\"\n",
    "    net_doc = NeuroMLDocument(id=\"network\",\n",
    "                              notes=\"HH cell network\")\n",
    "    net_doc_fn = \"HH_example_net.nml\"\n",
    "    net_doc.includes.append(IncludeType(href=create_cell()))\n",
    "    # Create a population: convenient to create many cells of the same type\n",
    "    pop = Population(id=\"pop0\", notes=\"A population for our cell\", component=\"hh_cell\", size=1)\n",
    "    # Input\n",
    "    pulsegen = PulseGenerator(id=\"pg\", notes=\"Simple pulse generator\", delay=\"100ms\", duration=\"100ms\", amplitude=\"0.08nA\")\n",
    "\n",
    "    exp_input = ExplicitInput(target=\"pop0[0]\", input=\"pg\")\n",
    "\n",
    "    net = Network(id=\"single_hh_cell_network\", note=\"A network with a single population\")\n",
    "    net_doc.pulse_generators.append(pulsegen)\n",
    "    net.explicit_inputs.append(exp_input)\n",
    "    net.populations.append(pop)\n",
    "    net_doc.networks.append(net)\n",
    "\n",
    "    pynml.write_neuroml2_file(nml2_doc=net_doc, nml2_file_name=net_doc_fn, validate=True)\n",
    "    return net_doc_fn"
   ]
  },
  {
   "cell_type": "markdown",
   "metadata": {},
   "source": [
    "## Plot the data we record"
   ]
  },
  {
   "cell_type": "code",
   "execution_count": 7,
   "metadata": {},
   "outputs": [],
   "source": [
    "def plot_data(sim_id):\n",
    "    \"\"\"Plot the sim data.\n",
    "\n",
    "    Load the data from the file and plot the graph for the membrane potential\n",
    "    using the pynml generate_plot utility function.\n",
    "\n",
    "    :sim_id: ID of simulaton\n",
    "\n",
    "    \"\"\"\n",
    "    data_array = np.loadtxt(sim_id + \".dat\")\n",
    "    pynml.generate_plot([data_array[:, 0]], [data_array[:, 1]], \"Membrane potential\", show_plot_already=False, save_figure_to=sim_id + \"-v.png\", xaxis=\"time (s)\", yaxis=\"membrane potential (V)\")\n",
    "    pynml.generate_plot([data_array[:, 0]], [data_array[:, 2]], \"channel current\", show_plot_already=False, save_figure_to=sim_id + \"-i.png\", xaxis=\"time (s)\", yaxis=\"channel current (A)\")\n",
    "    pynml.generate_plot([data_array[:, 0], data_array[:, 0]], [data_array[:, 3], data_array[:, 4]], \"current density\", labels=[\"Na\", \"K\"], show_plot_already=False, save_figure_to=sim_id + \"-iden.png\", xaxis=\"time (s)\", yaxis=\"current density (A_per_m2)\")"
   ]
  },
  {
   "cell_type": "markdown",
   "metadata": {},
   "source": [
    "## Create and run the simulation\n",
    "\n",
    "Create the simulation, run it, record data, and plot the recorded information."
   ]
  },
  {
   "cell_type": "code",
   "execution_count": 8,
   "metadata": {},
   "outputs": [],
   "source": [
    "def main():\n",
    "    \"\"\"Main function\n",
    "\n",
    "    Include the NeuroML model into a LEMS simulation file, run it, plot some\n",
    "    data.\n",
    "    \"\"\"\n",
    "    # Simulation bits\n",
    "    sim_id = \"HH_single_compartment_example_sim\"\n",
    "    simulation = LEMSSimulation(sim_id=sim_id, duration=300, dt=0.01, simulation_seed=123)\n",
    "    # Include the NeuroML model file\n",
    "    simulation.include_neuroml2_file(create_network())\n",
    "    # Assign target for the simulation\n",
    "    simulation.assign_simulation_target(\"single_hh_cell_network\")\n",
    "\n",
    "    # Recording information from the simulation\n",
    "    simulation.create_output_file(id=\"output0\", file_name=sim_id + \".dat\")\n",
    "    simulation.add_column_to_output_file(\"output0\", column_id=\"pop0[0]/v\", quantity=\"pop0[0]/v\")\n",
    "    simulation.add_column_to_output_file(\"output0\", column_id=\"pop0[0]/iChannels\", quantity=\"pop0[0]/iChannels\")\n",
    "    simulation.add_column_to_output_file(\"output0\", column_id=\"pop0[0]/na/iDensity\", quantity=\"pop0[0]/hh_b_prop/membraneProperties/na_channels/iDensity/\")\n",
    "    simulation.add_column_to_output_file(\"output0\", column_id=\"pop0[0]/k/iDensity\", quantity=\"pop0[0]/hh_b_prop/membraneProperties/k_channels/iDensity/\")\n",
    "\n",
    "    # Save LEMS simulation to file\n",
    "    sim_file = simulation.save_to_file()\n",
    "\n",
    "    # Run the simulation using the default jNeuroML simulator\n",
    "    pynml.run_lems_with_jneuroml(sim_file, max_memory=\"2G\", nogui=True, plot=False)\n",
    "    # Plot the data\n",
    "    plot_data(sim_id)"
   ]
  },
  {
   "cell_type": "code",
   "execution_count": 9,
   "metadata": {},
   "outputs": [
    {
     "name": "stdout",
     "output_type": "stream",
     "text": [
      "pyNeuroML >>> Written LEMS Simulation HH_single_compartment_example_sim to file: LEMS_HH_single_compartment_example_sim.xml\n",
      "pyNeuroML >>> Generating plot: Membrane potential\n"
     ]
    },
    {
     "name": "stderr",
     "output_type": "stream",
     "text": [
      "/usr/lib/python3.9/site-packages/pyneuroml/pynml.py:1688: MatplotlibDeprecationWarning: \n",
      "The set_window_title function was deprecated in Matplotlib 3.4 and will be removed two minor releases later. Use manager.set_window_title or GUI-specific methods instead.\n",
      "  fig.canvas.set_window_title(title)\n",
      "/usr/lib/python3.9/site-packages/pyneuroml/pynml.py:1727: UserWarning: marker is redundantly defined by the 'marker' keyword argument and the fmt string \"o\" (-> marker='o'). The keyword argument will take precedence.\n",
      "  plt.plot(xvalues[i], yvalues[i], 'o', marker=marker, markersize=markersize, linestyle=linestyle, linewidth=linewidth, label=label)\n",
      "/usr/lib/python3.9/site-packages/pyneuroml/pynml.py:1688: MatplotlibDeprecationWarning: \n",
      "The set_window_title function was deprecated in Matplotlib 3.4 and will be removed two minor releases later. Use manager.set_window_title or GUI-specific methods instead.\n",
      "  fig.canvas.set_window_title(title)\n",
      "/usr/lib/python3.9/site-packages/pyneuroml/pynml.py:1727: UserWarning: marker is redundantly defined by the 'marker' keyword argument and the fmt string \"o\" (-> marker='o'). The keyword argument will take precedence.\n",
      "  plt.plot(xvalues[i], yvalues[i], 'o', marker=marker, markersize=markersize, linestyle=linestyle, linewidth=linewidth, label=label)\n"
     ]
    },
    {
     "name": "stdout",
     "output_type": "stream",
     "text": [
      "pyNeuroML >>> Saved image to HH_single_compartment_example_sim-v.png of plot: Membrane potential\n",
      "pyNeuroML >>> Generating plot: channel current\n",
      "pyNeuroML >>> Saved image to HH_single_compartment_example_sim-i.png of plot: channel current\n",
      "pyNeuroML >>> Generating plot: current density\n",
      "pyNeuroML >>> Saved image to HH_single_compartment_example_sim-iden.png of plot: current density\n"
     ]
    },
    {
     "name": "stderr",
     "output_type": "stream",
     "text": [
      "/usr/lib/python3.9/site-packages/pyneuroml/pynml.py:1688: MatplotlibDeprecationWarning: \n",
      "The set_window_title function was deprecated in Matplotlib 3.4 and will be removed two minor releases later. Use manager.set_window_title or GUI-specific methods instead.\n",
      "  fig.canvas.set_window_title(title)\n",
      "/usr/lib/python3.9/site-packages/pyneuroml/pynml.py:1727: UserWarning: marker is redundantly defined by the 'marker' keyword argument and the fmt string \"o\" (-> marker='o'). The keyword argument will take precedence.\n",
      "  plt.plot(xvalues[i], yvalues[i], 'o', marker=marker, markersize=markersize, linestyle=linestyle, linewidth=linewidth, label=label)\n",
      "/usr/lib/python3.9/site-packages/pyneuroml/pynml.py:1727: UserWarning: marker is redundantly defined by the 'marker' keyword argument and the fmt string \"o\" (-> marker='o'). The keyword argument will take precedence.\n",
      "  plt.plot(xvalues[i], yvalues[i], 'o', marker=marker, markersize=markersize, linestyle=linestyle, linewidth=linewidth, label=label)\n"
     ]
    },
    {
     "data": {
      "image/png": "[encoded data removed]",
      "text/plain": [
       "<Figure size 432x288 with 1 Axes>"
      ]
     },
     "metadata": {
      "needs_background": "light"
     },
     "output_type": "display_data"
    },
    {
     "data": {
      "image/png": "[encoded data removed]",
      "text/plain": [
       "<Figure size 432x288 with 1 Axes>"
      ]
     },
     "metadata": {
      "needs_background": "light"
     },
     "output_type": "display_data"
    },
    {
     "data": {
      "image/png": "[encoded data removed]",
      "text/plain": [
       "<Figure size 432x288 with 1 Axes>"
      ]
     },
     "metadata": {
      "needs_background": "light"
     },
     "output_type": "display_data"
    }
   ],
   "source": [
    "if __name__ == \"__main__\":\n",
    "    main()"
   ]
  },
  {
   "cell_type": "code",
   "execution_count": null,
   "metadata": {},
   "outputs": [],
   "source": []
  }
 ],
 "metadata": {
  "kernelspec": {
   "display_name": "Python 3",
   "language": "python",
   "name": "python3"
  },
  "language_info": {
   "codemirror_mode": {
    "name": "ipython",
    "version": 3
   },
   "file_extension": ".py",
   "mimetype": "text/x-python",
   "name": "python",
   "nbconvert_exporter": "python",
   "pygments_lexer": "ipython3",
   "version": "3.9.5"
  }
 },
 "nbformat": 4,
 "nbformat_minor": 4
}
